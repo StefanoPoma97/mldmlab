{
 "cells": [
  {
   "cell_type": "markdown",
   "metadata": {},
   "source": [
    "This lab on K-Nearest Neighbors in R comes from p. 163-167 of \"Introduction to Statistical Learning with Applications in R\" by Gareth James, Daniela Witten, Trevor Hastie and Robert Tibshirani"
   ]
  },
  {
   "cell_type": "code",
   "execution_count": 1,
   "metadata": {},
   "outputs": [],
   "source": [
    "list.of.packages <- c(\"class\",\"dplyr\",\"ISLR\")\n",
    "new.packages <- list.of.packages[!(list.of.packages %in% installed.packages()[,\"Package\"])]\n",
    "if(length(new.packages)) install.packages(new.packages)"
   ]
  },
  {
   "cell_type": "code",
   "execution_count": 2,
   "metadata": {},
   "outputs": [],
   "source": [
    "list.of.packages <- c(\"ggplot2\", \"tree\",\"ISLR\",\"dplyr\",\"MASS\",\"randomForest\",\"gbm\")\n",
    "new.packages <- list.of.packages[!(list.of.packages %in% installed.packages()[,\"Package\"])]\n",
    "if(length(new.packages)) install.packages(new.packages)"
   ]
  },
  {
   "cell_type": "markdown",
   "metadata": {},
   "source": [
    "# 4.6.5: K-Nearest Neighbors"
   ]
  },
  {
   "cell_type": "markdown",
   "metadata": {},
   "source": [
    "In this lab, we will perform KNN clustering on the `Smarket` dataset from `ISLR`. This data set consists of percentage returns for the S&P 500 stock index over 1,250 days, from the\n",
    "beginning of 2001 until the end of 2005. \n",
    "\n",
    "For each date, we have recorded the percentage returns for each of the five previous trading days (`Lag1` through `Lag5`). \n",
    "\n",
    "We have also recorded:\n",
    "- `Volume` (the number of shares traded on the previous day, in billions)\n",
    "- `Today` (the percentage return on the date in question) \n",
    "- `Direction` (whether the market was `Up` or `Down` on this date). \n",
    "\n",
    "We can use the `head(...)` function to look at the first few rows:"
   ]
  },
  {
   "cell_type": "code",
   "execution_count": 3,
   "metadata": {},
   "outputs": [
    {
     "data": {
      "text/html": [
       "<table>\n",
       "<thead><tr><th scope=col>Year</th><th scope=col>Lag1</th><th scope=col>Lag2</th><th scope=col>Lag3</th><th scope=col>Lag4</th><th scope=col>Lag5</th><th scope=col>Volume</th><th scope=col>Today</th><th scope=col>Direction</th></tr></thead>\n",
       "<tbody>\n",
       "\t<tr><td>2001  </td><td> 0.381</td><td>-0.192</td><td>-2.624</td><td>-1.055</td><td> 5.010</td><td>1.1913</td><td> 0.959</td><td>Up    </td></tr>\n",
       "\t<tr><td>2001  </td><td> 0.959</td><td> 0.381</td><td>-0.192</td><td>-2.624</td><td>-1.055</td><td>1.2965</td><td> 1.032</td><td>Up    </td></tr>\n",
       "\t<tr><td>2001  </td><td> 1.032</td><td> 0.959</td><td> 0.381</td><td>-0.192</td><td>-2.624</td><td>1.4112</td><td>-0.623</td><td>Down  </td></tr>\n",
       "\t<tr><td>2001  </td><td>-0.623</td><td> 1.032</td><td> 0.959</td><td> 0.381</td><td>-0.192</td><td>1.2760</td><td> 0.614</td><td>Up    </td></tr>\n",
       "\t<tr><td>2001  </td><td> 0.614</td><td>-0.623</td><td> 1.032</td><td> 0.959</td><td> 0.381</td><td>1.2057</td><td> 0.213</td><td>Up    </td></tr>\n",
       "\t<tr><td>2001  </td><td> 0.213</td><td> 0.614</td><td>-0.623</td><td> 1.032</td><td> 0.959</td><td>1.3491</td><td> 1.392</td><td>Up    </td></tr>\n",
       "</tbody>\n",
       "</table>\n"
      ],
      "text/latex": [
       "\\begin{tabular}{r|lllllllll}\n",
       " Year & Lag1 & Lag2 & Lag3 & Lag4 & Lag5 & Volume & Today & Direction\\\\\n",
       "\\hline\n",
       "\t 2001   &  0.381 & -0.192 & -2.624 & -1.055 &  5.010 & 1.1913 &  0.959 & Up    \\\\\n",
       "\t 2001   &  0.959 &  0.381 & -0.192 & -2.624 & -1.055 & 1.2965 &  1.032 & Up    \\\\\n",
       "\t 2001   &  1.032 &  0.959 &  0.381 & -0.192 & -2.624 & 1.4112 & -0.623 & Down  \\\\\n",
       "\t 2001   & -0.623 &  1.032 &  0.959 &  0.381 & -0.192 & 1.2760 &  0.614 & Up    \\\\\n",
       "\t 2001   &  0.614 & -0.623 &  1.032 &  0.959 &  0.381 & 1.2057 &  0.213 & Up    \\\\\n",
       "\t 2001   &  0.213 &  0.614 & -0.623 &  1.032 &  0.959 & 1.3491 &  1.392 & Up    \\\\\n",
       "\\end{tabular}\n"
      ],
      "text/markdown": [
       "\n",
       "Year | Lag1 | Lag2 | Lag3 | Lag4 | Lag5 | Volume | Today | Direction | \n",
       "|---|---|---|---|---|---|\n",
       "| 2001   |  0.381 | -0.192 | -2.624 | -1.055 |  5.010 | 1.1913 |  0.959 | Up     | \n",
       "| 2001   |  0.959 |  0.381 | -0.192 | -2.624 | -1.055 | 1.2965 |  1.032 | Up     | \n",
       "| 2001   |  1.032 |  0.959 |  0.381 | -0.192 | -2.624 | 1.4112 | -0.623 | Down   | \n",
       "| 2001   | -0.623 |  1.032 |  0.959 |  0.381 | -0.192 | 1.2760 |  0.614 | Up     | \n",
       "| 2001   |  0.614 | -0.623 |  1.032 |  0.959 |  0.381 | 1.2057 |  0.213 | Up     | \n",
       "| 2001   |  0.213 |  0.614 | -0.623 |  1.032 |  0.959 | 1.3491 |  1.392 | Up     | \n",
       "\n",
       "\n"
      ],
      "text/plain": [
       "  Year Lag1   Lag2   Lag3   Lag4   Lag5   Volume Today  Direction\n",
       "1 2001  0.381 -0.192 -2.624 -1.055  5.010 1.1913  0.959 Up       \n",
       "2 2001  0.959  0.381 -0.192 -2.624 -1.055 1.2965  1.032 Up       \n",
       "3 2001  1.032  0.959  0.381 -0.192 -2.624 1.4112 -0.623 Down     \n",
       "4 2001 -0.623  1.032  0.959  0.381 -0.192 1.2760  0.614 Up       \n",
       "5 2001  0.614 -0.623  1.032  0.959  0.381 1.2057  0.213 Up       \n",
       "6 2001  0.213  0.614 -0.623  1.032  0.959 1.3491  1.392 Up       "
      ]
     },
     "metadata": {},
     "output_type": "display_data"
    }
   ],
   "source": [
    "library(ISLR)\n",
    "head(Smarket)"
   ]
  },
  {
   "cell_type": "markdown",
   "metadata": {},
   "source": [
    "Today we're going to try to predict `Direction` using percentage returns from the previous two days (`Lag1` and `Lag2`). \n",
    "\n",
    "We'll build our model using the `knn()` function, which is part of the\n",
    "`class` library:"
   ]
  },
  {
   "cell_type": "code",
   "execution_count": 4,
   "metadata": {},
   "outputs": [],
   "source": [
    "library(class)\n",
    "#?knn"
   ]
  },
  {
   "cell_type": "markdown",
   "metadata": {},
   "source": [
    "This function works a bit differently from the other model-fitting\n",
    "functions that we have encountered thus far. Rather than a two-step\n",
    "approach in which we first fit the model and then we use the model to make\n",
    "predictions, `knn()` forms predictions using a single command. The function\n",
    "requires four inputs.\n",
    "   1. Training data (just the predictors). We'll call this `train_Market`.\n",
    "   2. Testing data (just the predictors). We'll call this `test_Market`.\n",
    "   3. Training data (our outcome variable, which is class labels in this case). We'll call this `train_Direction`.\n",
    "   4. A value for `K`, the number of nearest neighbors to be used by the classifier.\n",
    "\n",
    "We'll first create two subsets of our data -- one containing the observations from 2001 through 2004, which we'll use to train the model and one with observations from 2005 on, for testing. Since we're only interested in `Lag1` and `Lag2`, we'll want to pull those out. To do this, we'll use the dplyr `filter()` command and `select()` commands:"
   ]
  },
  {
   "cell_type": "code",
   "execution_count": 5,
   "metadata": {},
   "outputs": [
    {
     "name": "stderr",
     "output_type": "stream",
     "text": [
      "\n",
      "Attaching package: ‘dplyr’\n",
      "\n",
      "The following objects are masked from ‘package:stats’:\n",
      "\n",
      "    filter, lag\n",
      "\n",
      "The following objects are masked from ‘package:base’:\n",
      "\n",
      "    intersect, setdiff, setequal, union\n",
      "\n"
     ]
    }
   ],
   "source": [
    "library(dplyr)\n",
    "\n",
    "train_Market = Smarket %>%\n",
    "  filter(Year < 2005) %>%\n",
    "  select(Lag1, Lag2)\n",
    "\n",
    "test_Market = Smarket %>%\n",
    "  filter(Year >= 2005)%>%\n",
    "  select(Lag1, Lag2)"
   ]
  },
  {
   "cell_type": "markdown",
   "metadata": {},
   "source": [
    "Now we just need to pull out the outcome variable for the training data. The `knn()` function expects us to provide the class labels as a *vector* rather than a `dataframe`, which we can specify by adding `.$Direction` to the end of our `dplyr` chain:"
   ]
  },
  {
   "cell_type": "code",
   "execution_count": 6,
   "metadata": {},
   "outputs": [],
   "source": [
    "train_Direction = Smarket %>%\n",
    "  filter(Year < 2005) %>%\n",
    "  select(Direction) %>%\n",
    "  .$Direction "
   ]
  },
  {
   "cell_type": "markdown",
   "metadata": {},
   "source": [
    "Now the `knn()` function can be used to predict the market’s movement for\n",
    "the dates in 2005. We set a **random seed** before we apply `knn()` because\n",
    "if several observations are tied as nearest neighbors, then `R` will randomly\n",
    "break the tie. Therefore, a seed must be set in order to ensure reproducibility\n",
    "of results."
   ]
  },
  {
   "cell_type": "code",
   "execution_count": 7,
   "metadata": {},
   "outputs": [],
   "source": [
    "set.seed(1)\n",
    "knn_pred = knn(train_Market, test_Market, train_Direction, k = 1)"
   ]
  },
  {
   "cell_type": "markdown",
   "metadata": {},
   "source": [
    "The `table()` function can be used to produce a **confusion matrix** in order to determine how many observations were correctly or incorrectly classified."
   ]
  },
  {
   "cell_type": "code",
   "execution_count": 8,
   "metadata": {},
   "outputs": [
    {
     "data": {
      "text/plain": [
       "        test_Direction\n",
       "knn_pred Down Up\n",
       "    Down   43 58\n",
       "    Up     68 83"
      ]
     },
     "metadata": {},
     "output_type": "display_data"
    },
    {
     "data": {
      "text/html": [
       "0.5"
      ],
      "text/latex": [
       "0.5"
      ],
      "text/markdown": [
       "0.5"
      ],
      "text/plain": [
       "[1] 0.5"
      ]
     },
     "metadata": {},
     "output_type": "display_data"
    }
   ],
   "source": [
    "# Pull out the true responses for the test data\n",
    "test_Direction = Smarket %>%\n",
    "  filter(Year >= 2005) %>%\n",
    "  select(Direction) %>%\n",
    "  .$Direction\n",
    "\n",
    "table(knn_pred, test_Direction)\n",
    "mean(knn_pred == test_Direction)"
   ]
  },
  {
   "cell_type": "markdown",
   "metadata": {},
   "source": [
    "The results using $K = 1$ are not very good, since only 50% of the observations\n",
    "are correctly predicted. Of course, it may be that $K = 1$ results in an\n",
    "overly flexible fit to the data. Below, we repeat the analysis using $K = 3$."
   ]
  },
  {
   "cell_type": "code",
   "execution_count": 9,
   "metadata": {},
   "outputs": [
    {
     "data": {
      "text/plain": [
       "        test_Direction\n",
       "knn_pred Down Up\n",
       "    Down   48 55\n",
       "    Up     63 86"
      ]
     },
     "metadata": {},
     "output_type": "display_data"
    },
    {
     "data": {
      "text/html": [
       "0.531746031746032"
      ],
      "text/latex": [
       "0.531746031746032"
      ],
      "text/markdown": [
       "0.531746031746032"
      ],
      "text/plain": [
       "[1] 0.531746"
      ]
     },
     "metadata": {},
     "output_type": "display_data"
    }
   ],
   "source": [
    "set.seed(1)\n",
    "knn_pred = knn(train_Market, test_Market, train_Direction, k = 3)\n",
    "\n",
    "table(knn_pred, test_Direction)\n",
    "mean(knn_pred == test_Direction)"
   ]
  },
  {
   "cell_type": "markdown",
   "metadata": {},
   "source": [
    "The results have improved slightly. Let's try a few other $K$ values to see if we get any further improvement:"
   ]
  },
  {
   "cell_type": "code",
   "execution_count": 10,
   "metadata": {},
   "outputs": [],
   "source": [
    "for (k in 4:10) {\n",
    "    set.seed(1)\n",
    "    # Your code here\n",
    "}"
   ]
  },
  {
   "cell_type": "markdown",
   "metadata": {},
   "source": [
    "It looks like for classifying this dataset, `KNN` might not be the right approach."
   ]
  },
  {
   "cell_type": "markdown",
   "metadata": {},
   "source": [
    "# 4.6.6: An Application to Caravan Insurance Data\n",
    "Let's see how the `KNN` approach performs on the `Caravan` data set, which is\n",
    "part of the `ISLR` library. This data set includes 85 predictors that measure demographic characteristics for 5,822 individuals. \n",
    "\n",
    "The response variable is\n",
    "`Purchase`, which indicates whether or not a given individual purchases a\n",
    "caravan insurance policy. In this data set, only 6% of people purchased\n",
    "caravan insurance."
   ]
  },
  {
   "cell_type": "code",
   "execution_count": 11,
   "metadata": {},
   "outputs": [
    {
     "data": {
      "text/plain": [
       " Purchase  \n",
       " No :5474  \n",
       " Yes: 348  "
      ]
     },
     "metadata": {},
     "output_type": "display_data"
    }
   ],
   "source": [
    "Caravan %>%\n",
    "    select(Purchase) %>%\n",
    "    summary()"
   ]
  },
  {
   "cell_type": "markdown",
   "metadata": {},
   "source": [
    "Because the `KNN` classifier predicts the class of a given test observation by\n",
    "identifying the observations that are nearest to it, the scale of the variables\n",
    "matters. Any variables that are on a large scale will have a much larger\n",
    "effect on the distance between the observations, and hence on the `KNN`\n",
    "classifier, than variables that are on a small scale. \n",
    "\n",
    "For instance, imagine a\n",
    "data set that contains two variables, salary and age (measured in dollars\n",
    "and years, respectively). As far as `KNN` is concerned, a difference of \\$1,000\n",
    "in salary is enormous compared to a difference of 50 years in age. Consequently,\n",
    "salary will drive the `KNN` classification results, and age will have\n",
    "almost no effect. \n",
    "\n",
    "This is contrary to our intuition that a salary difference\n",
    "of \\$1,000 is quite small compared to an age difference of 50 years. Furthermore,\n",
    "the importance of scale to the `KNN` classifier leads to another issue:\n",
    "if we measured salary in Japanese yen, or if we measured age in minutes,\n",
    "then we’d get quite different classification results from what we get if these\n",
    "two variables are measured in dollars and years.\n",
    "\n",
    "A good way to handle this problem is to **standardize** the data so that all\n",
    "variables are given a mean of zero and a standard deviation of one. Then\n",
    "all variables will be on a comparable scale. The `scale()` function does just\n",
    "this. In standardizing the data, we exclude the qualitative `Purchase` variable."
   ]
  },
  {
   "cell_type": "code",
   "execution_count": 12,
   "metadata": {},
   "outputs": [],
   "source": [
    "standardized_Caravan = Caravan %>%\n",
    "  select(-Purchase) %>%\n",
    "  scale() %>%\n",
    "  data.frame() # The scale() funtion doesn't return a dataframe, so we need to do that manually"
   ]
  },
  {
   "cell_type": "markdown",
   "metadata": {},
   "source": [
    "Now every column of `standardized_Caravan` has a standard deviation of one and\n",
    "a mean of zero.\n",
    "\n",
    "We'll now split the observations into a test set, containing the first 1,000\n",
    "observations, and a training set, containing the remaining observations."
   ]
  },
  {
   "cell_type": "code",
   "execution_count": 13,
   "metadata": {},
   "outputs": [],
   "source": [
    "test_Caravan = standardized_Caravan %>%\n",
    "  slice(1:1000)\n",
    "train_Caravan = standardized_Caravan %>%\n",
    "  slice(1001:5822)\n",
    "\n",
    "Purchase = Caravan %>%\n",
    "  select(Purchase)\n",
    "\n",
    "test_Purchase = Purchase %>%\n",
    "  slice(1:1000) %>%\n",
    "  .$Purchase\n",
    "\n",
    "train_Purchase = Purchase %>%\n",
    "  slice(1001:5822) %>%\n",
    "  .$Purchase"
   ]
  },
  {
   "cell_type": "markdown",
   "metadata": {},
   "source": [
    "Let's fit a `KNN` model on the training data using $K = 1$, and evaluate its\n",
    "performance on the test data."
   ]
  },
  {
   "cell_type": "code",
   "execution_count": 14,
   "metadata": {},
   "outputs": [
    {
     "data": {
      "text/html": [
       "0.118"
      ],
      "text/latex": [
       "0.118"
      ],
      "text/markdown": [
       "0.118"
      ],
      "text/plain": [
       "[1] 0.118"
      ]
     },
     "metadata": {},
     "output_type": "display_data"
    },
    {
     "data": {
      "text/html": [
       "0.059"
      ],
      "text/latex": [
       "0.059"
      ],
      "text/markdown": [
       "0.059"
      ],
      "text/plain": [
       "[1] 0.059"
      ]
     },
     "metadata": {},
     "output_type": "display_data"
    }
   ],
   "source": [
    "set.seed(1)\n",
    "knn_pred = knn(train_Caravan, test_Caravan, train_Purchase, k=1)\n",
    "mean(test_Purchase != knn_pred) # KNN error rate\n",
    "mean(test_Purchase != \"No\")     # Percent of people who purchase insurance"
   ]
  },
  {
   "cell_type": "markdown",
   "metadata": {},
   "source": [
    "The KNN error rate on the 1,000 test observations is just under 12%. At first glance, this may appear to be fairly good. However, since only 6% of customers purchased insurance, we could get the error rate down to 6% by always predicting `No` regardless of the values of the predictors!\n",
    "\n",
    "Suppose that there is some non-trivial cost to trying to sell insurance\n",
    "to a given individual. For instance, perhaps a salesperson must visit each\n",
    "potential customer. If the company tries to sell insurance to a random\n",
    "selection of customers, then the success rate will be only 6%, which may\n",
    "be far too low given the costs involved. \n",
    "\n",
    "Instead, the company would like\n",
    "to try to sell insurance only to customers who are likely to buy it. So the\n",
    "overall error rate is not of interest. Instead, the fraction of individuals that\n",
    "are correctly predicted to buy insurance is of interest.\n",
    "\n",
    "It turns out that `KNN` with $K = 1$ does far better than random guessing\n",
    "among the customers that are predicted to buy insurance:"
   ]
  },
  {
   "cell_type": "code",
   "execution_count": 15,
   "metadata": {},
   "outputs": [
    {
     "data": {
      "text/plain": [
       "        test_Purchase\n",
       "knn_pred  No Yes\n",
       "     No  873  50\n",
       "     Yes  68   9"
      ]
     },
     "metadata": {},
     "output_type": "display_data"
    }
   ],
   "source": [
    "table(knn_pred, test_Purchase)"
   ]
  },
  {
   "cell_type": "markdown",
   "metadata": {},
   "source": [
    "Among 77 such\n",
    "customers, 9, or 11.7%, actually do purchase insurance. This is double the\n",
    "rate that one would obtain from random guessing. Let's see if increasing $K$ helps! Try out a few different $K$ values below. Feeling adventurous? Write a function that figures out the best value for $K$."
   ]
  },
  {
   "cell_type": "code",
   "execution_count": 16,
   "metadata": {},
   "outputs": [],
   "source": [
    "set.seed(1)\n",
    "# Your code here"
   ]
  },
  {
   "cell_type": "markdown",
   "metadata": {},
   "source": [
    "It appears that `KNN` is finding some real patterns in a difficult data set! \n",
    "\n",
    "To get credit for this lab, post a response to the prompt posted to [#lab3](https://sds293.slack.com/messages/C793X7831/)."
   ]
  }
 ],
 "metadata": {
  "anaconda-cloud": {},
  "kernelspec": {
   "display_name": "R",
   "language": "R",
   "name": "ir"
  },
  "language_info": {
   "codemirror_mode": "r",
   "file_extension": ".r",
   "mimetype": "text/x-r-source",
   "name": "R",
   "pygments_lexer": "r",
   "version": "3.5.3"
  }
 },
 "nbformat": 4,
 "nbformat_minor": 1
}
