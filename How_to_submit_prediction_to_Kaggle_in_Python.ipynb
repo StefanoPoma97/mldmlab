{
 "cells": [
  {
   "cell_type": "markdown",
   "metadata": {
    "_cell_guid": "3bd4b4df-0cc0-40b1-b4da-c0b0dcb413f8",
    "_uuid": "26816927ad8b3a35dc55fafc33efd187f30cde39"
   },
   "source": [
    "Here you will learn to submit your model to a machine learning competition in Python.  It's fun, and it will give you a way to see your progress as your skills keep improving.*\n",
    "\n",
    "# Introduction\n",
    "Machine learning competitions are a great way to improve your skills and measure your progress as a data scientist. If you are using data from a competition on Kaggle, you can easily submit it from your notebook.  Here's how you do it.\n",
    "\n",
    "# Example\n",
    "We're doing very minimal data set up here so we can focus on how to submit modeling results to competitions. Other tutorials will teach you how build great models. So the model in this example will be fairly simple. We'll start with the code to read data, select predictors, and fit a model."
   ]
  },
  {
   "cell_type": "code",
   "execution_count": 1,
   "metadata": {},
   "outputs": [
    {
     "name": "stdout",
     "output_type": "stream",
     "text": [
      "Collecting sklearn\n",
      "Collecting scikit-learn (from sklearn)\n",
      "  Using cached https://files.pythonhosted.org/packages/5e/82/c0de5839d613b82bddd088599ac0bbfbbbcbd8ca470680658352d2c435bd/scikit_learn-0.20.3-cp36-cp36m-manylinux1_x86_64.whl\n",
      "Collecting numpy>=1.8.2 (from scikit-learn->sklearn)\n",
      "  Downloading https://files.pythonhosted.org/packages/c1/e2/4db8df8f6cddc98e7d7c537245ef2f4e41a1ed17bf0c3177ab3cc6beac7f/numpy-1.16.3-cp36-cp36m-manylinux1_x86_64.whl (17.3MB)\n",
      "Collecting scipy>=0.13.3 (from scikit-learn->sklearn)\n",
      "  Using cached https://files.pythonhosted.org/packages/7f/5f/c48860704092933bf1c4c1574a8de1ffd16bf4fde8bab190d747598844b2/scipy-1.2.1-cp36-cp36m-manylinux1_x86_64.whl\n",
      "Installing collected packages: numpy, scipy, scikit-learn, sklearn\n",
      "Successfully installed numpy-1.16.3 scikit-learn-0.20.3 scipy-1.2.1 sklearn-0.0\n"
     ]
    }
   ],
   "source": [
    "import pip\n",
    "import sys\n",
    "if not 'sklearn' in sys.modules.keys():\n",
    "    pip.main(['install', 'sklearn'])\n",
    "#if not 'kaggle' in sys.modules.keys():\n",
    "#    pip.main(['install', 'kaggle'])\n"
   ]
  },
  {
   "cell_type": "code",
   "execution_count": 2,
   "metadata": {
    "_cell_guid": "8524922d-be55-46fd-863f-004261fcfff0",
    "_uuid": "58cfd95aa5563209575b12977280983ffeea6492"
   },
   "outputs": [
    {
     "data": {
      "text/plain": [
       "RandomForestClassifier(bootstrap=True, class_weight=None, criterion='gini',\n",
       "            max_depth=None, max_features='auto', max_leaf_nodes=None,\n",
       "            min_impurity_decrease=0.0, min_impurity_split=None,\n",
       "            min_samples_leaf=1, min_samples_split=2,\n",
       "            min_weight_fraction_leaf=0.0, n_estimators=100, n_jobs=None,\n",
       "            oob_score=False, random_state=None, verbose=0,\n",
       "            warm_start=False)"
      ]
     },
     "execution_count": 2,
     "metadata": {},
     "output_type": "execute_result"
    }
   ],
   "source": [
    "import numpy as np\n",
    "import pandas as pd\n",
    "from sklearn.ensemble import RandomForestClassifier\n",
    "from sklearn.impute import SimpleImputer\n",
    "\n",
    "# Read the data\n",
    "train = pd.read_csv('https://raw.githubusercontent.com/serivan/mldmlab/master/Datasets/Kaggle-Wine-train.csv')\n",
    "\n",
    "# pull data into target (y) and predictors (X)\n",
    "train_y = train.Quality\n",
    "predictor_cols = ['fixed.acidity','volatile.acidity','citric.acid','residual.sugar','chlorides','free.sulfur.dioxide','total.sulfur.dioxide','density','pH','sulphates','alcohol']\n",
    "\n",
    "# Create training predictors data\n",
    "train_X = train[predictor_cols]\n",
    "\n",
    "# Create our imputer to replace missing values with the mean e.g.\n",
    "imp = SimpleImputer(missing_values=np.nan, strategy='mean')\n",
    "imp = imp.fit(train_X)\n",
    "\n",
    "\n",
    "# Impute our data, then train\n",
    "train_X_imp = imp.transform(train_X)\n",
    "\n",
    "my_model = RandomForestClassifier(n_estimators=100)\n",
    "my_model.fit(train_X_imp, train_y)"
   ]
  },
  {
   "cell_type": "code",
   "execution_count": 3,
   "metadata": {},
   "outputs": [
    {
     "data": {
      "text/html": [
       "<div>\n",
       "<style scoped>\n",
       "    .dataframe tbody tr th:only-of-type {\n",
       "        vertical-align: middle;\n",
       "    }\n",
       "\n",
       "    .dataframe tbody tr th {\n",
       "        vertical-align: top;\n",
       "    }\n",
       "\n",
       "    .dataframe thead th {\n",
       "        text-align: right;\n",
       "    }\n",
       "</style>\n",
       "<table border=\"1\" class=\"dataframe\">\n",
       "  <thead>\n",
       "    <tr style=\"text-align: right;\">\n",
       "      <th></th>\n",
       "      <th>importance</th>\n",
       "    </tr>\n",
       "  </thead>\n",
       "  <tbody>\n",
       "    <tr>\n",
       "      <th>alcohol</th>\n",
       "      <td>0.153879</td>\n",
       "    </tr>\n",
       "    <tr>\n",
       "      <th>volatile.acidity</th>\n",
       "      <td>0.113757</td>\n",
       "    </tr>\n",
       "    <tr>\n",
       "      <th>density</th>\n",
       "      <td>0.103101</td>\n",
       "    </tr>\n",
       "    <tr>\n",
       "      <th>free.sulfur.dioxide</th>\n",
       "      <td>0.096053</td>\n",
       "    </tr>\n",
       "    <tr>\n",
       "      <th>total.sulfur.dioxide</th>\n",
       "      <td>0.091710</td>\n",
       "    </tr>\n",
       "    <tr>\n",
       "      <th>residual.sugar</th>\n",
       "      <td>0.081301</td>\n",
       "    </tr>\n",
       "    <tr>\n",
       "      <th>citric.acid</th>\n",
       "      <td>0.079909</td>\n",
       "    </tr>\n",
       "    <tr>\n",
       "      <th>chlorides</th>\n",
       "      <td>0.078806</td>\n",
       "    </tr>\n",
       "    <tr>\n",
       "      <th>pH</th>\n",
       "      <td>0.072603</td>\n",
       "    </tr>\n",
       "    <tr>\n",
       "      <th>sulphates</th>\n",
       "      <td>0.064557</td>\n",
       "    </tr>\n",
       "    <tr>\n",
       "      <th>fixed.acidity</th>\n",
       "      <td>0.064325</td>\n",
       "    </tr>\n",
       "  </tbody>\n",
       "</table>\n",
       "</div>"
      ],
      "text/plain": [
       "                      importance\n",
       "alcohol                 0.153879\n",
       "volatile.acidity        0.113757\n",
       "density                 0.103101\n",
       "free.sulfur.dioxide     0.096053\n",
       "total.sulfur.dioxide    0.091710\n",
       "residual.sugar          0.081301\n",
       "citric.acid             0.079909\n",
       "chlorides               0.078806\n",
       "pH                      0.072603\n",
       "sulphates               0.064557\n",
       "fixed.acidity           0.064325"
      ]
     },
     "execution_count": 3,
     "metadata": {},
     "output_type": "execute_result"
    }
   ],
   "source": [
    "# The snippet below will retrieve the feature importances from the model and make them into a DataFrame.\n",
    "feature_importances = pd.DataFrame(my_model.feature_importances_,\n",
    "                                   index = train_X.columns,\n",
    "                                   columns=['importance']).sort_values('importance', ascending=False)\n",
    "feature_importances"
   ]
  },
  {
   "cell_type": "markdown",
   "metadata": {
    "_cell_guid": "677b20af-bc56-4db1-aac3-1010389367ba",
    "_uuid": "c5294634157ca8c52d35c999ee949023b9544ee1"
   },
   "source": [
    "In addition to your training data, there will be test data. This is frequently stored in a file with the title `test.csv`. This data won't include a column with your target (y), because that is what we'll have to predict and submit.  Here is sample code to do that. "
   ]
  },
  {
   "cell_type": "code",
   "execution_count": 4,
   "metadata": {
    "_cell_guid": "a023518d-78e0-4e58-a243-6d1fe98992b9",
    "_uuid": "7bc843ef333847d305f576489d3e2aa3afc9384d"
   },
   "outputs": [
    {
     "name": "stdout",
     "output_type": "stream",
     "text": [
      "[1 1 1 ... 1 1 1]\n"
     ]
    }
   ],
   "source": [
    "# Read the test data\n",
    "test = pd.read_csv('https://raw.githubusercontent.com/serivan/mldmlab/master/Datasets/Kaggle-Wine-test.csv')\n",
    "# Treat the test data in the same way as training data. In this case, pull same columns.\n",
    "test_X = test[predictor_cols]\n",
    "\n",
    "# Impute each test item, then predict\n",
    "test_X_imp = imp.transform(test_X)\n",
    "\n",
    "# Use the model to make predictions\n",
    "predicted_q = my_model.predict(test_X_imp)\n",
    "# We will look at the predicted Qualities to ensure we have something sensible.\n",
    "print(predicted_q)\n"
   ]
  },
  {
   "cell_type": "markdown",
   "metadata": {
    "_cell_guid": "258e450a-d82c-4a7f-af22-cc695f74b4e3",
    "_uuid": "49e253dc359af831d8e248979b90c70dfcbef99a"
   },
   "source": [
    "# Prepare Submission File\n",
    "We make submissions in CSV files.  Your submissions usually have two columns: an ID column and a prediction column.  The ID field comes from the test data (keeping whatever name the ID field had in that data, which for the housing data is the string 'Id'). The prediction column will use the name of the target field.\n",
    "\n",
    "We will create a DataFrame with this data, and then use the dataframe's `to_csv` method to write our submission file.  Explicitly include the argument `index=False` to prevent pandas from adding another column in our csv file."
   ]
  },
  {
   "cell_type": "code",
   "execution_count": 5,
   "metadata": {
    "_cell_guid": "092f5aed-0de4-4295-80ee-c193c8b84edd",
    "_uuid": "da5946c5fbc32fdb537788cd6ad5da1d6d698ae6"
   },
   "outputs": [],
   "source": [
    "my_submission = pd.DataFrame({'Id': test.Id, 'Quality': predicted_q})\n",
    "# you could use any filename. We choose submission here\n",
    "my_submission.to_csv('submission.csv', index=False)"
   ]
  },
  {
   "cell_type": "markdown",
   "metadata": {},
   "source": [
    "# Make Submission\n",
    "Hit the blue **Publish** button at the top of your notebook screen.  It will take some time for your kernel to run.  When it has finished your navigation bar at the top of the screen will have a tab for **Output**.  This only shows up if you have written an output file (like we did in the **Prepare Submission File** step).  \n",
    "\n",
    "Otherwise, if you have a kaggle API token, you can use the following command (remove the '#'):"
   ]
  },
  {
   "cell_type": "code",
   "execution_count": 6,
   "metadata": {},
   "outputs": [],
   "source": [
    "# !kaggle competitions submit -c unibs-mldm-classification -f submission.csv -m \"Please descrive the technique used\""
   ]
  },
  {
   "cell_type": "markdown",
   "metadata": {
    "_cell_guid": "ab2280a4-9c65-4810-8813-831f4dcd86e1",
    "_uuid": "97f80b7f76066fd78cdb5137757fb3c63abd0519"
   },
   "source": [
    "\n",
    "# Last Steps \n",
    "Click on the Output button.  This will bring you to a screen with an option to **Submit to Competition**.  Hit that and you will see how your model performed.\n",
    "\n",
    "If you want to go back to improve your model, click the Edit button, which re-opens the kernel.  You'll need to re-run all the cells when you re-open the kernel.\n",
    "\n",
    "# Conclusion\n",
    "You've completed Level 1 of Machine Learning.  Congrats.  \n",
    "\n",
    "If you are ready to keep improving your model (and your skills), start level 2 of [Learn Machine Learning](https://www.kaggle.com/learn/machine-learning). \n",
    "\n",
    "Level 2 covers more powerful models, techniques to include non-numeric data, and more.  You can make more submissions to the competition and climb up the leaderboard as you go through the course.\n",
    "\n",
    "\n"
   ]
  }
 ],
 "metadata": {
  "kernelspec": {
   "display_name": "Python 3",
   "language": "python",
   "name": "python3"
  },
  "language_info": {
   "codemirror_mode": {
    "name": "ipython",
    "version": 3
   },
   "file_extension": ".py",
   "mimetype": "text/x-python",
   "name": "python",
   "nbconvert_exporter": "python",
   "pygments_lexer": "ipython3",
   "version": "3.6.7"
  }
 },
 "nbformat": 4,
 "nbformat_minor": 1
}
