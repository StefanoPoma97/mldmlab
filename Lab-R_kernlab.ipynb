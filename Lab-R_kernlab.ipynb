{
 "cells": [
  {
   "cell_type": "markdown",
   "metadata": {},
   "source": [
    "# Using kerlab"
   ]
  },
  {
   "cell_type": "code",
   "execution_count": 1,
   "metadata": {},
   "outputs": [
    {
     "name": "stderr",
     "output_type": "stream",
     "text": [
      "Installing package into ‘/home/iserina/R/x86_64-pc-linux-gnu-library/3.5’\n",
      "(as ‘lib’ is unspecified)\n",
      "also installing the dependencies ‘magick’, ‘alphashape3d’\n",
      "\n",
      "Warning message in install.packages(new.packages, dependencies = TRUE):\n",
      "“installation of package ‘magick’ had non-zero exit status”Warning message in install.packages(new.packages, dependencies = TRUE):\n",
      "“installation of package ‘rgl’ had non-zero exit status”Warning message in install.packages(new.packages, dependencies = TRUE):\n",
      "“installation of package ‘alphashape3d’ had non-zero exit status”"
     ]
    },
    {
     "ename": "ERROR",
     "evalue": "Error in library(rgl): there is no package called ‘rgl’\n",
     "output_type": "error",
     "traceback": [
      "Error in library(rgl): there is no package called ‘rgl’\nTraceback:\n",
      "1. library(rgl)",
      "2. stop(txt, domain = NA)"
     ]
    }
   ],
   "source": [
    "list.of.packages <- c(\"kernlab\",\"rgl\")\n",
    "new.packages <- list.of.packages[!(list.of.packages %in% installed.packages()[,\"Package\"])]\n",
    "if(length(new.packages)) install.packages(new.packages, dependencies=TRUE)\n",
    "\n",
    "library(kernlab)\n",
    "library(rgl)\n"
   ]
  },
  {
   "cell_type": "code",
   "execution_count": null,
   "metadata": {},
   "outputs": [],
   "source": [
    "plotlinearsvm <- function(svp, xtrain, ytrain){\n",
    "  plot(xtrain, pch = ifelse(ytrain > 0, 1, 2), xlim = c(-2, 6), ylim = c(-3, 6))\n",
    "  legend(\"topleft\", c(\"Positive\", \"Negative\"), pch = seq(2))\n",
    "  w = colSums(unlist(alpha(svp)) * ytrain[unlist(alphaindex(svp))] * xtrain[unlist(alphaindex(svp)),])\n",
    "  b = - b(svp) \n",
    "  print(\"W=\")\n",
    "  print(w)\n",
    "  print(\"b=\")\n",
    "  print(b(svp))\n",
    "  M=1/norm(w,type=\"2\")\n",
    "  print(\"M=\")\n",
    "  print(M)\n",
    "  abline(a= -b / w[2], b = -w[1]/w[2])\n",
    "  abline(a= (-b+1)/ w[2], b = -w[1]/w[2], lty = 2)\n",
    "  abline(a= (-b-1)/ w[2], b = -w[1]/w[2], lty = 2)\n",
    "}\n",
    "\n",
    "\n",
    "computelinearsvm<- function(xtrain,ytrain, C1)\n",
    "{\n",
    "  \n",
    "  svp <- ksvm(xtrain,ytrain,type=\"C-svc\",kernel='vanilladot',C=C1,scaled=c())\n",
    "  # General summary\n",
    "  print(svp)\n",
    "  # Attributes that you can access\n",
    "  attributes(svp)\n",
    "  # For example, the support vectors\n",
    "  print(alpha(svp))\n",
    "  print(alphaindex(svp))\n",
    "  print(b(svp))\n",
    "  plotlinearsvm(svp, xtrain, ytrain)\n",
    "  \n",
    "}\n"
   ]
  },
  {
   "cell_type": "code",
   "execution_count": null,
   "metadata": {},
   "outputs": [],
   "source": [
    "n <- 150 # number of data points\n",
    "p <- 2   # dimension\n",
    "sigma <- 1  # variance of the distribution\n",
    "meanpos <- 0 # centre of the distribution of positive examples\n",
    "meanneg <- 3 # centre of the distribution of negative examples\n",
    "npos <- round(n/2) # number of positive examples\n",
    "nneg <- n-npos # number of negative examples\n",
    "# Generate the positive and negative examples\n",
    "xpos <- matrix(rnorm(npos*p,mean=meanpos,sd=sigma),npos,p)\n",
    "xneg <- matrix(rnorm(nneg*p,mean=meanneg,sd=sigma),npos,p)\n",
    "x <- rbind(xpos,xneg)\n",
    "# Generate the labels\n",
    "y <- matrix(c(rep(1,npos),rep(-1,nneg)))\n",
    "# Visualize the data\n",
    "plot(x,col=ifelse(y>0,1,2))\n",
    "legend(\"topleft\",c(\"Positive\",\"Negative\"),col=seq(2),pch=1,text.col=seq(2))\n"
   ]
  },
  {
   "cell_type": "code",
   "execution_count": null,
   "metadata": {},
   "outputs": [],
   "source": [
    "## Prepare a training and a test set ##\n",
    "ntrain <- round(n*0.8) # number of training examples\n",
    "tindex <- sample(n,ntrain) # indices of training samples\n",
    "xtrain <- x[tindex,]\n",
    "xtest <- x[-tindex,]\n",
    "ytrain <- y[tindex]\n",
    "\n",
    "ytest <- y[-tindex]\n",
    "istrain=rep(0,n)\n",
    "istrain[tindex]=1\n",
    "# Visualize\n",
    "plot(x,col=ifelse(y>0,1,2),pch=ifelse(istrain==1,1,2))\n",
    "legend(\"topleft\",c(\"Positive Train\",\"Positive Test\",\"Negative Train\", \"Negative Test\"), col=c(1,1,2,2),pch=c(1,2,1,2),text.col=c(1,1,2,2))\n"
   ]
  },
  {
   "cell_type": "code",
   "execution_count": null,
   "metadata": {},
   "outputs": [],
   "source": [
    "\n",
    "#Train svm\n",
    "# train the SVM\n",
    "svp <- ksvm(xtrain,ytrain,type=\"C-svc\",kernel='vanilladot',C=100000000,scaled=c())\n",
    "# General summary\n",
    "svp\n",
    "# Attributes that you can access\n",
    "attributes(svp)\n",
    "# For example, the support vectors\n",
    "alpha(svp)\n",
    "alphaindex(svp)\n",
    "b(svp)\n",
    "# Use the built-in function to pretty-plot the classifier\n",
    "plot(svp,data=xtrain)\n",
    "\n",
    "plotlinearsvm(svp, xtrain, ytrain)"
   ]
  },
  {
   "cell_type": "code",
   "execution_count": null,
   "metadata": {},
   "outputs": [],
   "source": [
    "# Train a nonlinear SVM\n",
    "svp <- ksvm(x,y,type=\"C-svc\",kernel='rbf',kpar=list(sigma=1),C=1)\n",
    "# Visualize it\n",
    "plot(svp,data=x)\n"
   ]
  },
  {
   "cell_type": "code",
   "execution_count": null,
   "metadata": {},
   "outputs": [],
   "source": [
    "\n",
    "# RUN1\n",
    "x1=c(1,2,2, 3, 4, 4,\n",
    "     1,2,0, 3, 4, 3)\n",
    "y= c(1,1,1,-1,-1,-1)\n",
    "xtrain=matrix(x1,ncol=2)\n",
    "ytrain=y\n",
    "plot(xtrain,col=ifelse(ytrain>0,1,2))\n",
    "legend(\"topleft\",c(\"Positive\",\"Negative\"),col=seq(2),pch=1,text.col=seq(2))\n",
    "# train the SVM\n",
    "computelinearsvm(xtrain,ytrain,1000000)\n",
    "\n"
   ]
  },
  {
   "cell_type": "code",
   "execution_count": null,
   "metadata": {},
   "outputs": [],
   "source": [
    "# RUN2\n",
    "x1=c(1,2,2,4, 3, 4, 4,\n",
    "     1,2,0,0, 3, 4, 3)\n",
    "y= c(1,1,1,1,-1,-1,-1)\n",
    "xtrain=matrix(x1,ncol=2)\n",
    "ytrain=y\n",
    "plot(xtrain,col=ifelse(ytrain>0,1,2))\n",
    "legend(\"topleft\",c(\"Positive\",\"Negative\"),col=seq(2),pch=1,text.col=seq(2))\n",
    "# train the SVM\n",
    "computelinearsvm(xtrain,ytrain,1000000)\n",
    "\n"
   ]
  },
  {
   "cell_type": "code",
   "execution_count": null,
   "metadata": {},
   "outputs": [],
   "source": [
    "# RUN3\n",
    "x1=c(1,2,2,4, 3, 4, 4,\n",
    "     1,2,0,1, 3, 4, 3)\n",
    "y= c(1,1,1,1,-1,-1,-1)\n",
    "xtrain=matrix(x1,ncol=2)\n",
    "ytrain=y\n",
    "plot(xtrain,col=ifelse(ytrain>0,1,2))\n",
    "legend(\"topleft\",c(\"Positive\",\"Negative\"),col=seq(2),pch=1,text.col=seq(2))\n",
    "# train the SVM\n",
    "computelinearsvm(xtrain,ytrain,1000000)\n",
    "\n"
   ]
  },
  {
   "cell_type": "code",
   "execution_count": null,
   "metadata": {},
   "outputs": [],
   "source": [
    "# RUN4\n",
    "x1=c(1,2,2,4, 3, 4, 4, 4,\n",
    "     1,2,0,1, 3, 4, 3, 2)\n",
    "y= c(1,1,1,1,-1,-1,-1,-1)\n",
    "xtrain=matrix(x1,ncol=2)\n",
    "ytrain=y\n",
    "plot(xtrain,col=ifelse(ytrain>0,1,2))\n",
    "legend(\"topleft\",c(\"Positive\",\"Negative\"),col=seq(2),pch=1,text.col=seq(2))\n",
    "# train the SVM\n",
    "computelinearsvm(xtrain,ytrain,1000000)\n"
   ]
  },
  {
   "cell_type": "code",
   "execution_count": null,
   "metadata": {},
   "outputs": [],
   "source": [
    "#RUN5\n",
    "set.seed(1)\n",
    "x=matrix(rnorm(100*2), ncol=2)\n",
    "x1=apply(x,1,function(z) norm(z,\"2\"))\n",
    "x.3d=cbind(x,x1)\n",
    "y=ifelse(x1>1,1,-1)\n",
    "plot(x[,1],rep(0,100), col=(3-y))\n",
    "plot(x, col=(3-y))\n",
    "\n",
    "options(rgl.printRglwidget = TRUE)\n",
    "plot3d(x.3d[,1], x.3d[,2],x.3d[,3], col=(3-y))\n",
    "plot(x.3d[,3],rep(0,100), col=(3-y))\n",
    "\n",
    "\n",
    "\n",
    "# Train a linear SVM\n",
    "svp <- ksvm(x,y,type=\"C-svc\",kernel='vanilladot',C=100000,scaled=c())\n",
    "# Visualize it\n",
    "plot(svp,data=x)\n",
    "\n",
    "\n",
    "# Train a nonlinear SVM\n",
    "svp <- ksvm(x,y,type=\"C-svc\",kernel='rbf',kpar=list(sigma=2),C=1000)\n",
    "# Visualize it\n",
    "plot(svp,data=x)\n"
   ]
  },
  {
   "cell_type": "code",
   "execution_count": null,
   "metadata": {},
   "outputs": [],
   "source": [
    "################ \n",
    "#RUN6\n",
    "n    <- 1000\n",
    "\n",
    "# Training\n",
    "x    <- cbind(runif(n),runif(n))\n",
    "eta  <- x[,2] - sin(10*x[,1])\n",
    "prob <- 1/(1+exp(-5*eta))\n",
    "y    <- 2*rbinom(n,1,prob)-1\n",
    "\n",
    "# Testing\n",
    "xp   <- cbind(runif(n),runif(n))\n",
    "eta  <- xp[,2] - sin(10*xp[,1])\n",
    "prob <- 1/(1+exp(-5*eta))\n",
    "yp   <- 2*rbinom(n,1,prob)-1\n",
    "\n",
    "y  <- as.factor(y)\n",
    "yp <- as.factor(yp)\n",
    "\n",
    "plot(x,col=ifelse(y==\"1\",1,3),pch=19,main=\"Training data\")\n",
    "legend(\"topright\",c(\"Y=1\",\"Y=-1\"),pch=19,col=c(1,3),inset=0.05,bg=gray(1),cex=1.5)\n",
    "\n",
    "fit<-ksvm(x,y,kernel=\"rbfdot\")\n",
    "\n",
    "plot(fit,data=x)\n",
    "\n",
    "SV <- x[alphaindex(fit)[[1]],]\n",
    "plot(SV,pch=19,main=\"Locations of the support vectors\")\n",
    "\n"
   ]
  },
  {
   "cell_type": "code",
   "execution_count": null,
   "metadata": {},
   "outputs": [],
   "source": []
  }
 ],
 "metadata": {
  "kernelspec": {
   "display_name": "R",
   "language": "R",
   "name": "ir"
  },
  "language_info": {
   "codemirror_mode": "r",
   "file_extension": ".r",
   "mimetype": "text/x-r-source",
   "name": "R",
   "pygments_lexer": "r",
   "version": "3.5.3"
  }
 },
 "nbformat": 4,
 "nbformat_minor": 2
}
