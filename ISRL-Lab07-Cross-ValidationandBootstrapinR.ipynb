{
 "cells": [
  {
   "cell_type": "markdown",
   "metadata": {},
   "source": [
    "This lab on Cross-Validation and Bootstrap in R comes from p. 190-197 of \"Introduction to Statistical Learning with\n",
    "Applications in R\" by Gareth James, Daniela Witten, Trevor Hastie and Robert Tibshirani. It was re-implemented in Fall 2016 in `tidyverse` format by Amelia McNamara and R. Jordan Crouser at Smith College."
   ]
  },
  {
   "cell_type": "code",
   "execution_count": null,
   "metadata": {
    "collapsed": true
   },
   "outputs": [],
   "source": [
    "\n",
    "library(ISLR)\n",
    "library(dplyr)\n",
    "library(broom)\n",
    "library(modelr)\n",
    "library(purrr)\n",
    "library(tidyr)"
   ]
  },
  {
   "cell_type": "markdown",
   "metadata": {},
   "source": [
    "# 5.3.1 The Validation Set Approach\n",
    "\n",
    "In this section, we'll explore the use of the validation set approach in order to estimate the\n",
    "test error rates that result from fitting various linear models on the `Auto`data set.\n",
    "\n",
    "Before we begin, we use the `set.seed()`function in order to set a seed for\n",
    "`R}$’s random number generator, so that you'll obtain precisely the same results as those shown in the textbook. It is generally a good idea to set a random seed when performing an analysis such as cross-validation\n",
    "that contains an element of randomness, so that the results obtained can be reproduced precisely at a later time.\n",
    "\n",
    "We begin by using the `sample_n()` and `setdiff()` functions to split the set of observations into two halves. We'll start by selecting a random subset of 196 observations out of the original 392 observations. We refer to these observations as the training\n",
    "set."
   ]
  },
  {
   "cell_type": "code",
   "execution_count": null,
   "metadata": {
    "collapsed": true
   },
   "outputs": [],
   "source": [
    "set.seed(1)\n",
    "\n",
    "train = Auto %>%\n",
    "  sample_n(196)\n",
    "\n",
    "test = Auto %>%\n",
    "  setdiff(train)"
   ]
  },
  {
   "cell_type": "markdown",
   "metadata": {},
   "source": [
    "We then use `lm()`to fit a linear regression using only\n",
    "the observations corresponding to the training set."
   ]
  },
  {
   "cell_type": "code",
   "execution_count": null,
   "metadata": {
    "collapsed": true
   },
   "outputs": [],
   "source": [
    "model_LR = lm(mpg~horsepower, data=train)"
   ]
  },
  {
   "cell_type": "markdown",
   "metadata": {},
   "source": [
    "We now use the `predict()`function to estimate the response for the test\n",
    "observations, and we use the `mean()`function to calculate the MSE of the\n",
    "196 observations in the test set:"
   ]
  },
  {
   "cell_type": "code",
   "execution_count": null,
   "metadata": {
    "collapsed": true
   },
   "outputs": [],
   "source": [
    "test = test %>%\n",
    "  mutate(predictions_quad = predict(model_LR, test))\n",
    "\n",
    "test %>%\n",
    "  summarize(MSE_slr = mean((mpg-predictions_quad)^2))"
   ]
  },
  {
   "cell_type": "markdown",
   "metadata": {},
   "source": [
    "Therefore, the estimated test MSE for the linear regression fit is 26.14. We\n",
    "can use the `poly()`function to estimate the test error for the quadratic\n",
    "and cubic regressions."
   ]
  },
  {
   "cell_type": "code",
   "execution_count": null,
   "metadata": {
    "collapsed": true
   },
   "outputs": [],
   "source": [
    "model_QUAD = lm(mpg~poly(horsepower,2), data=train)\n",
    "\n",
    "test = test %>%\n",
    "  mutate(predictions_quad = predict(model_QUAD, test))\n",
    "test %>% \n",
    "  summarize(MSE_quad = mean((mpg-predictions_quad)^2))\n",
    "\n",
    "model_CUBIC = lm(mpg~poly(horsepower,3),data=train)\n",
    "\n",
    "test = test %>%\n",
    "  mutate(predictions_cubic = predict(model_CUBIC, test))\n",
    "test %>%\n",
    "  summarize(MSE_cubic = mean((mpg-predictions_cubic)^2))"
   ]
  },
  {
   "cell_type": "markdown",
   "metadata": {},
   "source": [
    "These error rates are 19.82 and 19.78, respectively. If we choose a different\n",
    "training set instead, then we will obtain somewhat different errors on the\n",
    "validation set. We can test this out by setting a different random seed:"
   ]
  },
  {
   "cell_type": "code",
   "execution_count": null,
   "metadata": {
    "collapsed": true
   },
   "outputs": [],
   "source": [
    "set.seed(2)\n",
    "\n",
    "train = Auto %>%\n",
    "  sample_n(196)\n",
    "\n",
    "test = Auto %>%\n",
    "  setdiff(train)\n",
    "\n",
    "model_LR2 = lm(mpg~horsepower, data=train)\n",
    "\n",
    "test = test %>%\n",
    "  mutate(predictions_slr = predict(model_LR2, test))\n",
    "\n",
    "model_QUAD2=lm(mpg~poly(horsepower,2),data=train)\n",
    "\n",
    "test = test %>%\n",
    "  mutate(predictions_quad = predict(model_QUAD2, test))\n",
    "\n",
    "model_CUBIC2=lm(mpg~poly(horsepower,3),data=train)\n",
    "\n",
    "test = test %>%\n",
    "  mutate(predictions_cubic =  predict(model_CUBIC2, test))\n",
    "\n",
    "test %>%\n",
    "  summarize(MSE_slr = mean((mpg-predictions_slr)^2),\n",
    "            MSE_quad = mean((mpg - predictions_quad)^2),\n",
    "            MSE_cube = mean((mpg - predictions_cubic)^2))"
   ]
  },
  {
   "cell_type": "markdown",
   "metadata": {},
   "source": [
    "Using this split of the observations into a training set and a validation\n",
    "set, we find that the validation set error rates for the models with linear,\n",
    "quadratic, and cubic terms are 23.30, 18.90, and 19.26, respectively.\n",
    "\n",
    "These results are consistent with our previous findings: a model that\n",
    "predicts `mpg` using a quadratic function of `horsepower` performs better than\n",
    "a model that involves only a linear function of `horsepower`, and there is\n",
    "little evidence in favor of a model that uses a cubic function of `horsepower`.\n",
    "\n",
    "# 5.3.2 Leave-One-Out Cross-Validation\n",
    "\n",
    "The LOOCV estimate can be automatically computed for any generalized\n",
    "linear model using the `glm()` and `cv.glm()` functions. In the lab for Chapter 4, we used the `glm()` function to perform logistic regression by passing\n",
    "in the `family=\"binomial\"` argument. But if we use `glm()` to fit a model\n",
    "without passing in the family argument, then it performs linear regression,\n",
    "just like the `lm()` function. The following should yield identical models:"
   ]
  },
  {
   "cell_type": "code",
   "execution_count": null,
   "metadata": {
    "collapsed": true
   },
   "outputs": [],
   "source": [
    "model_GLR = glm(mpg~horsepower, data=Auto)\n",
    "coef(model_GLR)\n",
    "\n",
    "model_LR = lm(mpg~horsepower, data=Auto)\n",
    "coef(model_LR)"
   ]
  },
  {
   "cell_type": "markdown",
   "metadata": {},
   "source": [
    "In this lab, we will perform linear\n",
    "regression using the `glm()` function rather than the `lm()` function because\n",
    "the latter can be used together with `cv.glm()` to perform cross-validation. The `cv.glm()` function is part of the `boot` library."
   ]
  },
  {
   "cell_type": "code",
   "execution_count": null,
   "metadata": {
    "collapsed": true
   },
   "outputs": [],
   "source": [
    "library(boot)\n",
    "model_GLR = glm(mpg~horsepower, data=Auto)\n",
    "\n",
    "cv_error = cv.glm(Auto, model_GLR)\n",
    "cv_error$delta"
   ]
  },
  {
   "cell_type": "markdown",
   "metadata": {},
   "source": [
    "The `cv.glm()` function produces a list with several components. The two\n",
    "numbers in the delta vector contain the cross-validation results. In this case the numbers are identical (up to two decimal places) and correspond\n",
    "to the LOOCV statistic: our cross-validation estimate for the test\n",
    "error is approximately 24.23. Below, we'll discuss a situation in\n",
    "which the two numbers differ. \n",
    "\n",
    "We can repeat this procedure for increasingly complex polynomial fits.\n",
    "To automate the process, we use the `for()` function to initiate a for loop\n",
    "which iteratively fits polynomial regressions for polynomials of order `i = 1`\n",
    "to `i = 5` and computes the associated cross-validation error. \n",
    "\n",
    "This command may take a couple of minutes to run."
   ]
  },
  {
   "cell_type": "code",
   "execution_count": null,
   "metadata": {
    "collapsed": true
   },
   "outputs": [],
   "source": [
    "deltas = data.frame(delta1=0, delta2=0)\n",
    "for (i in 1:5){\n",
    " model_GLR = glm(mpg~poly(horsepower,i), data=Auto)\n",
    " deltas[i,] = cv.glm(Auto, model_GLR)$delta\n",
    "}\n",
    "deltas"
   ]
  },
  {
   "cell_type": "markdown",
   "metadata": {},
   "source": [
    "Here we see a sharp drop in the estimated test MSE between\n",
    "the linear and quadratic fits, but then no clear improvement from using\n",
    "higher-order polynomials.\n",
    "\n",
    "# 5.3.3 k-Fold Cross-Validation\n",
    "\n",
    "The `cv.glm()` function can also be used to implement `k`-fold CV. Below we\n",
    "use `k = 10`, a common choice for `k`, on the `Auto` data set. We once again set\n",
    "a random seed and initialize a vector in which we will store the CV errors\n",
    "corresponding to the polynomial fits of orders one to ten."
   ]
  },
  {
   "cell_type": "code",
   "execution_count": null,
   "metadata": {
    "collapsed": true
   },
   "outputs": [],
   "source": [
    "set.seed(1)\n",
    "cv_errors = data.frame(delta1 = 0, delta2 = 0)\n",
    "\n",
    "for (i in 1:10){\n",
    " model_GLR = glm(mpg~poly(horsepower,i), data=Auto)\n",
    " cv_errors[i, ] = cv.glm(Auto, model_GLR, K=10)$delta\n",
    "}\n",
    "cv_errors"
   ]
  },
  {
   "cell_type": "markdown",
   "metadata": {},
   "source": [
    "Notice that the computation time is **much** shorter than that of LOOCV.\n",
    "(In principle, the computation time for LOOCV for a least squares linear\n",
    "model should be faster than for `k`-fold CV, due to the availability of the\n",
    "formula (5.2) for LOOCV; however, unfortunately the `cv.glm()` function\n",
    "does not make use of this formula.) We still see little evidence that using\n",
    "cubic or higher-order polynomial terms leads to lower test error than simply\n",
    "using a quadratic fit.\n",
    "\n",
    "We saw in Section 5.3.2 that the two numbers associated with delta are\n",
    "essentially the same when LOOCV is performed. When we instead perform\n",
    "`k`-fold CV, then the two numbers associated with delta differ slightly. The first is the standard `k`-fold CV estimate, as in (5.3). The second is a bias-corrected\n",
    "version. On this data set, the two estimates are very similar to\n",
    "each other.\n",
    "\n",
    "# An Application to Default Data\n",
    "\n",
    "Now that you're armed with more useful technique for resampling your data, let's try fitting a model for the `Default` dataset:"
   ]
  },
  {
   "cell_type": "code",
   "execution_count": null,
   "metadata": {
    "collapsed": true
   },
   "outputs": [],
   "source": [
    "summary(Default)"
   ]
  },
  {
   "cell_type": "markdown",
   "metadata": {},
   "source": [
    "First we'll try just holding out a random 20% of the data:"
   ]
  },
  {
   "cell_type": "code",
   "execution_count": null,
   "metadata": {
    "collapsed": true
   },
   "outputs": [],
   "source": [
    "for (i in 1:10){\n",
    "\n",
    "    set.seed(i)\n",
    "\n",
    "    train = Default %>%\n",
    "      sample_frac(0.2)\n",
    "\n",
    "    test = Default %>%\n",
    "      setdiff(train)\n",
    "\n",
    "    # Fit a logistic regression to predict default using balance\n",
    "    model_LOGISTIC = glm(default~balance+student, data=train, family=binomial)\n",
    "\n",
    "    # Use the model to predict the response on the test data\n",
    "    glm_probs = data.frame(probs = predict(model_LOGISTIC, newdata=test, type=\"response\"))\n",
    "\n",
    "    # Confusion matrix\n",
    "    glm_pred = glm_probs %>%\n",
    "      mutate(pred = ifelse(probs>.5, \"Yes\", \"No\"))\n",
    "\n",
    "    glm_pred = cbind(test, glm_pred)\n",
    "\n",
    "    result = glm_pred %>%\n",
    "      summarize(score = mean(pred == default))\n",
    "    \n",
    "    print(result)\n",
    "}"
   ]
  },
  {
   "cell_type": "markdown",
   "metadata": {},
   "source": [
    "Our accuracy is really high on this data, but we're getting different error rates depending on how we choose our test set. That's no good!\n",
    "\n",
    "Unfortunately this dataset is too big for us to run LOOCV, so we'll have to settle for `k`-fold. In the space below, build a logistic model on the full `Default`dataset and then run 5-fold cross-validation to get a more accurate estimate of your test error rate:"
   ]
  },
  {
   "cell_type": "code",
   "execution_count": null,
   "metadata": {
    "collapsed": true
   },
   "outputs": [],
   "source": [
    "# Your code here"
   ]
  },
  {
   "cell_type": "markdown",
   "metadata": {},
   "source": [
    "# 5.3.4 The Bootstrap\n",
    "\n",
    "We illustrate the use of the bootstrap in the simple example of Section 5.2,\n",
    "as well as on an example involving estimating the accuracy of the linear\n",
    "regression model on the `Auto`data set.\n",
    "\n",
    "# Estimating the Accuracy of a Statistic of Interest\n",
    "\n",
    "One of the great advantages of the bootstrap approach is that it can be\n",
    "applied in almost all situations. No complicated mathematical calculations\n",
    "are required. Performing a bootstrap analysis in R entails only two steps.\n",
    "\n",
    "- First, we must create a function that computes the statistic of interest.\n",
    "- Second, we use the `boot()` function, which is part of the boot library, to perform the bootstrap by repeatedly sampling observations from the data set with replacement.\n",
    "\n",
    "The `Portfolio`data set in the `ISLR` package is described in Section 5.2. It has variables called `X` and `Y`. \n",
    "To illustrate the use of the bootstrap on this data, we must first create\n",
    "a function, `fn_alpha()`, which takes as input the data and outputs the estimate for $\\alpha$ (described in more detail on page 187)."
   ]
  },
  {
   "cell_type": "code",
   "execution_count": null,
   "metadata": {
    "collapsed": true
   },
   "outputs": [],
   "source": [
    "fn_alpha = function(data){\n",
    "  \n",
    "  # resample class needs to be \"reconstituted\" into a dataframe\n",
    "  data <- as.data.frame(data)\n",
    "\n",
    "  data %>%\n",
    "  summarize(alpha = (var(Y)-cov(X,Y))/(var(X)+var(Y)-2*cov(X,Y))) %>%\n",
    "  .$alpha\n",
    "}"
   ]
  },
  {
   "cell_type": "markdown",
   "metadata": {},
   "source": [
    "This function returns, or outputs, an estimate for $\\alpha$ based on applying\n",
    "(5.7) to the observations indexed by the argument index. For instance, the\n",
    "following command tells `R` to estimate $\\alpha$ using all 100 observations."
   ]
  },
  {
   "cell_type": "code",
   "execution_count": null,
   "metadata": {
    "collapsed": true
   },
   "outputs": [],
   "source": [
    "Portfolio %>%\n",
    "  slice(1:100) %>%\n",
    "  fn_alpha()"
   ]
  },
  {
   "cell_type": "markdown",
   "metadata": {},
   "source": [
    "The next command uses the `sample()` function to randomly select 100 observations\n",
    "from the range 1 to 100, with replacement. This is equivalent\n",
    "to constructing a new bootstrap data set and recomputing $\\hat{\\alpha}$ based on the\n",
    "new data set."
   ]
  },
  {
   "cell_type": "code",
   "execution_count": null,
   "metadata": {
    "collapsed": true
   },
   "outputs": [],
   "source": [
    "set.seed(1)\n",
    "Portfolio %>%\n",
    "  sample_n(100, replace=TRUE) %>%\n",
    "  fn_alpha()"
   ]
  },
  {
   "cell_type": "markdown",
   "metadata": {},
   "source": [
    "We can implement a bootstrap analysis by performing this command many\n",
    "times, recording all of the corresponding estimates for $\\alpha$, and computing the resulting standard deviation. However, the `bootstrap()`function automates\n",
    "this approach. Below we produce $R = 1,000$ bootstrap estimates for $\\alpha$:"
   ]
  },
  {
   "cell_type": "code",
   "execution_count": null,
   "metadata": {
    "attributes": {
     "classes": [],
     "eval": "FALSE",
     "id": ""
    },
    "collapsed": true
   },
   "outputs": [],
   "source": [
    "bootstrap_Portfolio = Portfolio %>%\n",
    "  modelr::bootstrap(1000) \n",
    "\n",
    "bootstrap_Portfolio %>%\n",
    "  mutate(alpha = map_dbl(strap, fn_alpha)) "
   ]
  },
  {
   "cell_type": "markdown",
   "metadata": {},
   "source": [
    "The final output shows that using the original data, $\\hat{\\alpha} = 0.5758$, and that the bootstrap estimate for $SE(\\hat{\\alpha})$ is 0.0886.\n",
    "\n",
    "# Estimating the Accuracy of a Linear Regression Model\n",
    "\n",
    "The bootstrap approach can be used to assess the variability of the coefficient\n",
    "estimates and predictions from a statistical learning method. Here\n",
    "we use the bootstrap approach in order to assess the variability of the\n",
    "estimates for $\\beta_0$ and $\\beta_1$, the intercept and slope terms for the linear regression\n",
    "model that uses horsepower to predict mpg in the Auto data set. We\n",
    "will compare the estimates obtained using the bootstrap to those obtained\n",
    "using the formulas for $SE(\\hat{\\beta}_0)$ and $SE(\\hat{\\beta}_1)$ described in Section 3.1.2.\n",
    "\n",
    "We first create a simple function, `fn_model()`, which takes in the `Auto` data\n",
    "and returns the intercept\n",
    "and slope estimates for the linear regression model. We then apply this\n",
    "function to the full set of 392 observations in order to compute the estimates\n",
    "of $\\beta_0$ and $\\beta_1$ on the entire data set using the usual linear regression\n",
    "coefficient estimate formulas from Chapter 3."
   ]
  },
  {
   "cell_type": "code",
   "execution_count": null,
   "metadata": {
    "collapsed": true
   },
   "outputs": [],
   "source": [
    "fn_model = function(data){\n",
    "  lm(mpg ~ horsepower, data = data)\n",
    "}\n",
    "\n",
    "Auto %>% fn_model()"
   ]
  },
  {
   "cell_type": "markdown",
   "metadata": {},
   "source": [
    "The `fn_model()`function can also be used in order to create bootstrap estimates\n",
    "for the intercept and slope terms by randomly sampling from among\n",
    "the observations with replacement. Here we give two examples:"
   ]
  },
  {
   "cell_type": "code",
   "execution_count": null,
   "metadata": {
    "collapsed": true
   },
   "outputs": [],
   "source": [
    "set.seed(1)\n",
    "Auto_bootstrap = Auto %>%\n",
    "  modelr::bootstrap(1)\n",
    "\n",
    "df_regression_bootstrap_model = Auto_bootstrap %>%\n",
    "  mutate(model = map(strap, fn_model)) \n",
    "\n",
    "df_regression_bootstrap_param = df_regression_bootstrap_model %>%\n",
    "  mutate(param = map(model, tidy)) %>%\n",
    "  select(.id, param) %>%\n",
    "  unnest() %>%\n",
    "  print()\n",
    "\n",
    "Auto %>%\n",
    "  modelr::bootstrap(1) %>%\n",
    "  mutate(model = map(strap, fn_model))  %>%\n",
    "  mutate(param = map(model, tidy)) %>%\n",
    "  select(.id, param) %>%\n",
    "  unnest() %>%\n",
    "  print()"
   ]
  },
  {
   "cell_type": "markdown",
   "metadata": {},
   "source": [
    "Next, we use the `bootstrap()` function to compute the standard errors of 1,000\n",
    "bootstrap estimates for the intercept and slope terms:"
   ]
  },
  {
   "cell_type": "code",
   "execution_count": null,
   "metadata": {
    "collapsed": true
   },
   "outputs": [],
   "source": [
    "set.seed(1)\n",
    "Auto_bootstrap = Auto %>%\n",
    "  modelr::bootstrap(1000)\n",
    "\n",
    "df_regression_bootstrap_model = Auto_bootstrap %>%\n",
    "  mutate(model = map(strap, fn_model)) \n",
    "\n",
    "df_regression_bootstrap_param = df_regression_bootstrap_model %>%\n",
    "  mutate(param = map(model, tidy)) %>%\n",
    "  select(.id, param) %>%\n",
    "  unnest() %>%\n",
    "  print()\n",
    "\n",
    "df_regression_bootstrap_param %>%\n",
    "  group_by(term) %>%\n",
    "  summarize(point_est = mean(estimate),\n",
    "            std_error = mean(std.error))"
   ]
  },
  {
   "cell_type": "markdown",
   "metadata": {},
   "source": [
    "This indicates that the bootstrap estimate for $SE(\\hat\\beta_0)$ is 0.716, and that\n",
    "the bootstrap estimate for $SE(\\hat\\beta_1)$ is 0.0064. As discussed in Section 3.1.2,\n",
    "standard formulas can be used to compute the standard errors for the\n",
    "regression coefficients in a linear model. These can be obtained using the\n",
    "`summary()`function:"
   ]
  },
  {
   "cell_type": "code",
   "execution_count": null,
   "metadata": {
    "collapsed": true
   },
   "outputs": [],
   "source": [
    "summary(lm(mpg~horsepower, data=Auto))"
   ]
  },
  {
   "cell_type": "markdown",
   "metadata": {},
   "source": [
    "Note that the standard error estimates produced by the `summary()`function were a little different from the estimates obtained using the bootstrap. Does this indicate a problem with the bootstrap? In fact, it's just the opposite!\n",
    "\n",
    "Recall that we found previously that the relationship between `horsepower` and `mpg` is better characterized by a quadratic model. Let's see how the error rates compare when we fit that instead of a linear model:"
   ]
  },
  {
   "cell_type": "code",
   "execution_count": null,
   "metadata": {
    "collapsed": true
   },
   "outputs": [],
   "source": [
    "fn_boot = function(data){\n",
    "  lm(mpg~horsepower + I(horsepower^2) ,data=data)\n",
    "}\n",
    "\n",
    "set.seed(1)\n",
    "Auto_bootstrap = Auto %>%\n",
    "  modelr::bootstrap(1000)\n",
    "\n",
    "df_regression_bootstrap_model = Auto_bootstrap %>%\n",
    "  mutate(model = map(strap, fn_boot)) \n",
    "\n",
    "df_regression_bootstrap_param = df_regression_bootstrap_model %>%\n",
    "  mutate(param = map(model, tidy)) %>%\n",
    "  select(.id, param) %>%\n",
    "  unnest() %>%\n",
    "  print()\n",
    "\n",
    "df_regression_bootstrap_param %>%\n",
    "  group_by(term) %>%\n",
    "  summarize(point_est = mean(estimate),\n",
    "            std_error = mean(std.error))"
   ]
  },
  {
   "cell_type": "code",
   "execution_count": null,
   "metadata": {
    "collapsed": true
   },
   "outputs": [],
   "source": [
    "summary(lm(mpg~horsepower + I(horsepower^2), data=Auto))"
   ]
  },
  {
   "cell_type": "markdown",
   "metadata": {},
   "source": [
    "Since this model provides a good fit to the data, there is now a better correspondence between the bootstrap estimates and the standard estimates of $SE(\\hat\\beta_0), SE(\\hat\\beta_1)$ and $SE(\\hat\\beta_2)$.\n",
    "\n",
    "To get credit for this lab, please post your answers to the following questions:\n",
    "- How did the cross-validated error rate compare to the models where you held out a validation set? Why do you think that is?\n",
    "- How do you explain the discrepancy between the bootstrap evaluation and the standard error evaluation of the linear model predicting `mpg `from `horsepower`?\n",
    "- What was the most confusing part of today's class?"
   ]
  }
 ],
 "metadata": {
  "anaconda-cloud": {},
  "kernelspec": {
   "display_name": "R",
   "language": "R",
   "name": "ir"
  },
  "language_info": {
   "codemirror_mode": "r",
   "file_extension": ".r",
   "mimetype": "text/x-r-source",
   "name": "R",
   "pygments_lexer": "r",
   "version": "3.4.1"
  }
 },
 "nbformat": 4,
 "nbformat_minor": 1
}
