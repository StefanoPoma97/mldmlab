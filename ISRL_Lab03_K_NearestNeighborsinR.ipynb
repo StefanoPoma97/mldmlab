{
  "nbformat": 4,
  "nbformat_minor": 0,
  "metadata": {
    "colab": {
      "name": "ISRL-Lab03-K-NearestNeighborsinR.ipynb",
      "version": "0.3.2",
      "provenance": [],
      "include_colab_link": true
    },
    "kernelspec": {
      "display_name": "R",
      "language": "R",
      "name": "ir"
    }
  },
  "cells": [
    {
      "cell_type": "markdown",
      "metadata": {
        "id": "view-in-github",
        "colab_type": "text"
      },
      "source": [
        "<a href=\"https://colab.research.google.com/github/serivan/mldmlab/blob/master/ISRL_Lab03_K_NearestNeighborsinR.ipynb\" target=\"_parent\"><img src=\"https://colab.research.google.com/assets/colab-badge.svg\" alt=\"Open In Colab\"/></a>"
      ]
    },
    {
      "metadata": {
        "id": "NmKCX8R7S6Vz",
        "colab_type": "text"
      },
      "cell_type": "markdown",
      "source": [
        "This lab on K-Nearest Neighbors in R comes from p. 163-167 of \"Introduction to Statistical Learning with Applications in R\" by Gareth James, Daniela Witten, Trevor Hastie and Robert Tibshirani"
      ]
    },
    {
      "metadata": {
        "id": "89vhLIGPS6V8",
        "colab_type": "text"
      },
      "cell_type": "markdown",
      "source": [
        "# 4.6.5: K-Nearest Neighbors"
      ]
    },
    {
      "metadata": {
        "id": "HBtKubQ5S6WB",
        "colab_type": "text"
      },
      "cell_type": "markdown",
      "source": [
        "In this lab, we will perform KNN clustering on the `Smarket` dataset from `ISLR`. This data set consists of percentage returns for the S&P 500 stock index over 1,250 days, from the\n",
        "beginning of 2001 until the end of 2005. \n",
        "\n",
        "For each date, we have recorded the percentage returns for each of the five previous trading days (`Lag1` through `Lag5`). \n",
        "\n",
        "We have also recorded:\n",
        "- `Volume` (the number of shares traded on the previous day, in billions)\n",
        "- `Today` (the percentage return on the date in question) \n",
        "- `Direction` (whether the market was `Up` or `Down` on this date). \n",
        "\n",
        "We can use the `head(...)` function to look at the first few rows:"
      ]
    },
    {
      "metadata": {
        "id": "6DsRx_3yS6WL",
        "colab_type": "code",
        "outputId": "d88bd88f-18cf-42d7-b06c-aa43102cfe74",
        "colab": {
          "base_uri": "https://localhost:8080/",
          "height": 169
        }
      },
      "cell_type": "code",
      "source": [
        "#install.packages(\"ISLR\")\n",
        "library(ISLR)\n",
        "head(Smarket)"
      ],
      "execution_count": 0,
      "outputs": [
        {
          "output_type": "display_data",
          "data": {
            "text/plain": [
              "  Year Lag1   Lag2   Lag3   Lag4   Lag5   Volume Today  Direction\n",
              "1 2001  0.381 -0.192 -2.624 -1.055  5.010 1.1913  0.959 Up       \n",
              "2 2001  0.959  0.381 -0.192 -2.624 -1.055 1.2965  1.032 Up       \n",
              "3 2001  1.032  0.959  0.381 -0.192 -2.624 1.4112 -0.623 Down     \n",
              "4 2001 -0.623  1.032  0.959  0.381 -0.192 1.2760  0.614 Up       \n",
              "5 2001  0.614 -0.623  1.032  0.959  0.381 1.2057  0.213 Up       \n",
              "6 2001  0.213  0.614 -0.623  1.032  0.959 1.3491  1.392 Up       "
            ],
            "text/latex": "\\begin{tabular}{r|lllllllll}\n Year & Lag1 & Lag2 & Lag3 & Lag4 & Lag5 & Volume & Today & Direction\\\\\n\\hline\n\t 2001   &  0.381 & -0.192 & -2.624 & -1.055 &  5.010 & 1.1913 &  0.959 & Up    \\\\\n\t 2001   &  0.959 &  0.381 & -0.192 & -2.624 & -1.055 & 1.2965 &  1.032 & Up    \\\\\n\t 2001   &  1.032 &  0.959 &  0.381 & -0.192 & -2.624 & 1.4112 & -0.623 & Down  \\\\\n\t 2001   & -0.623 &  1.032 &  0.959 &  0.381 & -0.192 & 1.2760 &  0.614 & Up    \\\\\n\t 2001   &  0.614 & -0.623 &  1.032 &  0.959 &  0.381 & 1.2057 &  0.213 & Up    \\\\\n\t 2001   &  0.213 &  0.614 & -0.623 &  1.032 &  0.959 & 1.3491 &  1.392 & Up    \\\\\n\\end{tabular}\n",
            "text/markdown": "\n| Year | Lag1 | Lag2 | Lag3 | Lag4 | Lag5 | Volume | Today | Direction |\n|---|---|---|---|---|---|---|---|---|\n| 2001   |  0.381 | -0.192 | -2.624 | -1.055 |  5.010 | 1.1913 |  0.959 | Up     |\n| 2001   |  0.959 |  0.381 | -0.192 | -2.624 | -1.055 | 1.2965 |  1.032 | Up     |\n| 2001   |  1.032 |  0.959 |  0.381 | -0.192 | -2.624 | 1.4112 | -0.623 | Down   |\n| 2001   | -0.623 |  1.032 |  0.959 |  0.381 | -0.192 | 1.2760 |  0.614 | Up     |\n| 2001   |  0.614 | -0.623 |  1.032 |  0.959 |  0.381 | 1.2057 |  0.213 | Up     |\n| 2001   |  0.213 |  0.614 | -0.623 |  1.032 |  0.959 | 1.3491 |  1.392 | Up     |\n\n",
            "text/html": [
              "<table>\n",
              "<thead><tr><th scope=col>Year</th><th scope=col>Lag1</th><th scope=col>Lag2</th><th scope=col>Lag3</th><th scope=col>Lag4</th><th scope=col>Lag5</th><th scope=col>Volume</th><th scope=col>Today</th><th scope=col>Direction</th></tr></thead>\n",
              "<tbody>\n",
              "\t<tr><td>2001  </td><td> 0.381</td><td>-0.192</td><td>-2.624</td><td>-1.055</td><td> 5.010</td><td>1.1913</td><td> 0.959</td><td>Up    </td></tr>\n",
              "\t<tr><td>2001  </td><td> 0.959</td><td> 0.381</td><td>-0.192</td><td>-2.624</td><td>-1.055</td><td>1.2965</td><td> 1.032</td><td>Up    </td></tr>\n",
              "\t<tr><td>2001  </td><td> 1.032</td><td> 0.959</td><td> 0.381</td><td>-0.192</td><td>-2.624</td><td>1.4112</td><td>-0.623</td><td>Down  </td></tr>\n",
              "\t<tr><td>2001  </td><td>-0.623</td><td> 1.032</td><td> 0.959</td><td> 0.381</td><td>-0.192</td><td>1.2760</td><td> 0.614</td><td>Up    </td></tr>\n",
              "\t<tr><td>2001  </td><td> 0.614</td><td>-0.623</td><td> 1.032</td><td> 0.959</td><td> 0.381</td><td>1.2057</td><td> 0.213</td><td>Up    </td></tr>\n",
              "\t<tr><td>2001  </td><td> 0.213</td><td> 0.614</td><td>-0.623</td><td> 1.032</td><td> 0.959</td><td>1.3491</td><td> 1.392</td><td>Up    </td></tr>\n",
              "</tbody>\n",
              "</table>\n"
            ]
          },
          "metadata": {
            "tags": []
          }
        }
      ]
    },
    {
      "metadata": {
        "id": "dOqmsVSmS6Wf",
        "colab_type": "text"
      },
      "cell_type": "markdown",
      "source": [
        "Today we're going to try to predict `Direction` using percentage returns from the previous two days (`Lag1` and `Lag2`). \n",
        "\n",
        "We'll build our model using the `knn()` function, which is part of the\n",
        "`class` library:"
      ]
    },
    {
      "metadata": {
        "id": "ZPqZhQ6LS6Wj",
        "colab_type": "code",
        "colab": {}
      },
      "cell_type": "code",
      "source": [
        "library(class)\n",
        "?knn"
      ],
      "execution_count": 0,
      "outputs": []
    },
    {
      "metadata": {
        "id": "UhcAWy_KS6Wv",
        "colab_type": "text"
      },
      "cell_type": "markdown",
      "source": [
        "This function works a bit differently from the other model-fitting\n",
        "functions that we have encountered thus far. Rather than a two-step\n",
        "approach in which we first fit the model and then we use the model to make\n",
        "predictions, `knn()` forms predictions using a single command. The function\n",
        "requires four inputs.\n",
        "   1. Training data (just the predictors). We'll call this `train_Market`.\n",
        "   2. Testing data (just the predictors). We'll call this `test_Market`.\n",
        "   3. Training data (our outcome variable, which is class labels in this case). We'll call this `train_Direction`.\n",
        "   4. A value for `K`, the number of nearest neighbors to be used by the classifier.\n",
        "\n",
        "We'll first create two subsets of our data -- one containing the observations from 2001 through 2004, which we'll use to train the model and one with observations from 2005 on, for testing. Since we're only interested in `Lag1` and `Lag2`, we'll want to pull those out. To do this, we'll use the dplyr `filter()` command and `select()` commands:"
      ]
    },
    {
      "metadata": {
        "id": "lSiI98DrS6Wz",
        "colab_type": "code",
        "outputId": "308a8f4e-b77c-44b2-f70b-593f575c654e",
        "colab": {}
      },
      "cell_type": "code",
      "source": [
        "library(dplyr)\n",
        "\n",
        "train_Market = Smarket %>%\n",
        "  filter(Year < 2005) %>%\n",
        "  select(Lag1, Lag2)\n",
        "\n",
        "test_Market = Smarket %>%\n",
        "  filter(Year >= 2005)%>%\n",
        "  select(Lag1, Lag2)"
      ],
      "execution_count": 0,
      "outputs": [
        {
          "output_type": "error",
          "ename": "ERROR",
          "evalue": "Error in library(dplyr): there is no package called ‘dplyr’\n",
          "traceback": [
            "Error in library(dplyr): there is no package called ‘dplyr’\nTraceback:\n",
            "1. library(dplyr)",
            "2. stop(txt, domain = NA)"
          ]
        }
      ]
    },
    {
      "metadata": {
        "id": "eGXS4psMS6XB",
        "colab_type": "text"
      },
      "cell_type": "markdown",
      "source": [
        "Now we just need to pull out the outcome variable for the training data. The `knn()` function expects us to provide the class labels as a *vector* rather than a `dataframe`, which we can specify by adding `.$Direction` to the end of our `dplyr` chain:"
      ]
    },
    {
      "metadata": {
        "id": "2xwGAxLkS6XE",
        "colab_type": "code",
        "colab": {}
      },
      "cell_type": "code",
      "source": [
        "train_Direction = Smarket %>%\n",
        "  filter(Year < 2005) %>%\n",
        "  select(Direction) %>%\n",
        "  .$Direction "
      ],
      "execution_count": 0,
      "outputs": []
    },
    {
      "metadata": {
        "id": "yTTomXeZS6XR",
        "colab_type": "text"
      },
      "cell_type": "markdown",
      "source": [
        "Now the `knn()` function can be used to predict the market’s movement for\n",
        "the dates in 2005. We set a **random seed** before we apply `knn()` because\n",
        "if several observations are tied as nearest neighbors, then `R` will randomly\n",
        "break the tie. Therefore, a seed must be set in order to ensure reproducibility\n",
        "of results."
      ]
    },
    {
      "metadata": {
        "id": "cIqj9yCXS6XY",
        "colab_type": "code",
        "colab": {}
      },
      "cell_type": "code",
      "source": [
        "set.seed(1)\n",
        "knn_pred = knn(train_Market, test_Market, train_Direction, k = 1)"
      ],
      "execution_count": 0,
      "outputs": []
    },
    {
      "metadata": {
        "id": "fvo3zKTBS6Xi",
        "colab_type": "text"
      },
      "cell_type": "markdown",
      "source": [
        "The `table()` function can be used to produce a **confusion matrix** in order to determine how many observations were correctly or incorrectly classified."
      ]
    },
    {
      "metadata": {
        "id": "N8URguO9S6Xl",
        "colab_type": "code",
        "colab": {}
      },
      "cell_type": "code",
      "source": [
        "# Pull out the true responses for the test data\n",
        "test_Direction = Smarket %>%\n",
        "  filter(Year >= 2005) %>%\n",
        "  select(Direction) %>%\n",
        "  .$Direction\n",
        "\n",
        "table(knn_pred, test_Direction)\n",
        "mean(knn_pred == test_Direction)"
      ],
      "execution_count": 0,
      "outputs": []
    },
    {
      "metadata": {
        "id": "pmGNH1-1S6X5",
        "colab_type": "text"
      },
      "cell_type": "markdown",
      "source": [
        "The results using $K = 1$ are not very good, since only 50% of the observations\n",
        "are correctly predicted. Of course, it may be that $K = 1$ results in an\n",
        "overly flexible fit to the data. Below, we repeat the analysis using $K = 3$."
      ]
    },
    {
      "metadata": {
        "id": "CydH54FBS6X7",
        "colab_type": "code",
        "colab": {}
      },
      "cell_type": "code",
      "source": [
        "set.seed(1)\n",
        "knn_pred = knn(train_Market, test_Market, train_Direction, k = 3)\n",
        "\n",
        "table(knn_pred, test_Direction)\n",
        "mean(knn_pred == test_Direction)"
      ],
      "execution_count": 0,
      "outputs": []
    },
    {
      "metadata": {
        "id": "JrFJHyE3S6YG",
        "colab_type": "text"
      },
      "cell_type": "markdown",
      "source": [
        "The results have improved slightly. Let's try a few other $K$ values to see if we get any further improvement:"
      ]
    },
    {
      "metadata": {
        "id": "Df5gLQQ0S6YI",
        "colab_type": "code",
        "colab": {}
      },
      "cell_type": "code",
      "source": [
        "for (k in 4:10) {\n",
        "    set.seed(1)\n",
        "    # Your code here\n",
        "}"
      ],
      "execution_count": 0,
      "outputs": []
    },
    {
      "metadata": {
        "id": "nnmbXybtS6YR",
        "colab_type": "text"
      },
      "cell_type": "markdown",
      "source": [
        "It looks like for classifying this dataset, `KNN` might not be the right approach."
      ]
    },
    {
      "metadata": {
        "id": "H7ofEsyMS6YV",
        "colab_type": "text"
      },
      "cell_type": "markdown",
      "source": [
        "# 4.6.6: An Application to Caravan Insurance Data\n",
        "Let's see how the `KNN` approach performs on the `Caravan` data set, which is\n",
        "part of the `ISLR` library. This data set includes 85 predictors that measure demographic characteristics for 5,822 individuals. \n",
        "\n",
        "The response variable is\n",
        "`Purchase`, which indicates whether or not a given individual purchases a\n",
        "caravan insurance policy. In this data set, only 6% of people purchased\n",
        "caravan insurance."
      ]
    },
    {
      "metadata": {
        "id": "okSxOUS8S6YY",
        "colab_type": "code",
        "colab": {}
      },
      "cell_type": "code",
      "source": [
        "Caravan %>%\n",
        "    select(Purchase) %>%\n",
        "    summary()"
      ],
      "execution_count": 0,
      "outputs": []
    },
    {
      "metadata": {
        "id": "a6MeLmnOS6Yh",
        "colab_type": "text"
      },
      "cell_type": "markdown",
      "source": [
        "Because the `KNN` classifier predicts the class of a given test observation by\n",
        "identifying the observations that are nearest to it, the scale of the variables\n",
        "matters. Any variables that are on a large scale will have a much larger\n",
        "effect on the distance between the observations, and hence on the `KNN`\n",
        "classifier, than variables that are on a small scale. \n",
        "\n",
        "For instance, imagine a\n",
        "data set that contains two variables, salary and age (measured in dollars\n",
        "and years, respectively). As far as `KNN` is concerned, a difference of \\$1,000\n",
        "in salary is enormous compared to a difference of 50 years in age. Consequently,\n",
        "salary will drive the `KNN` classification results, and age will have\n",
        "almost no effect. \n",
        "\n",
        "This is contrary to our intuition that a salary difference\n",
        "of \\$1,000 is quite small compared to an age difference of 50 years. Furthermore,\n",
        "the importance of scale to the `KNN` classifier leads to another issue:\n",
        "if we measured salary in Japanese yen, or if we measured age in minutes,\n",
        "then we’d get quite different classification results from what we get if these\n",
        "two variables are measured in dollars and years.\n",
        "\n",
        "A good way to handle this problem is to **standardize** the data so that all\n",
        "variables are given a mean of zero and a standard deviation of one. Then\n",
        "all variables will be on a comparable scale. The `scale()` function does just\n",
        "this. In standardizing the data, we exclude the qualitative `Purchase` variable."
      ]
    },
    {
      "metadata": {
        "id": "h3wVifyiS6Yn",
        "colab_type": "code",
        "colab": {}
      },
      "cell_type": "code",
      "source": [
        "standardized_Caravan = Caravan %>%\n",
        "  select(-Purchase) %>%\n",
        "  scale() %>%\n",
        "  data.frame() # The scale() funtion doesn't return a dataframe, so we need to do that manually"
      ],
      "execution_count": 0,
      "outputs": []
    },
    {
      "metadata": {
        "id": "xFCA-uPIS6Yv",
        "colab_type": "text"
      },
      "cell_type": "markdown",
      "source": [
        "Now every column of `standardized_Caravan` has a standard deviation of one and\n",
        "a mean of zero.\n",
        "\n",
        "We'll now split the observations into a test set, containing the first 1,000\n",
        "observations, and a training set, containing the remaining observations."
      ]
    },
    {
      "metadata": {
        "id": "OyKrx0qmS6Yy",
        "colab_type": "code",
        "colab": {}
      },
      "cell_type": "code",
      "source": [
        "test_Caravan = standardized_Caravan %>%\n",
        "  slice(1:1000)\n",
        "train_Caravan = standardized_Caravan %>%\n",
        "  slice(1001:5822)\n",
        "\n",
        "Purchase = Caravan %>%\n",
        "  select(Purchase)\n",
        "\n",
        "test_Purchase = Purchase %>%\n",
        "  slice(1:1000) %>%\n",
        "  .$Purchase\n",
        "\n",
        "train_Purchase = Purchase %>%\n",
        "  slice(1001:5822) %>%\n",
        "  .$Purchase"
      ],
      "execution_count": 0,
      "outputs": []
    },
    {
      "metadata": {
        "id": "jrsbpKi7S6Y5",
        "colab_type": "text"
      },
      "cell_type": "markdown",
      "source": [
        "Let's fit a `KNN` model on the training data using $K = 1$, and evaluate its\n",
        "performance on the test data."
      ]
    },
    {
      "metadata": {
        "id": "SUIRo5_US6ZD",
        "colab_type": "code",
        "colab": {}
      },
      "cell_type": "code",
      "source": [
        "set.seed(1)\n",
        "knn_pred = knn(train_Caravan, test_Caravan, train_Purchase, k=1)\n",
        "mean(test_Purchase != knn_pred) # KNN error rate\n",
        "mean(test_Purchase != \"No\")     # Percent of people who purchase insurance"
      ],
      "execution_count": 0,
      "outputs": []
    },
    {
      "metadata": {
        "id": "fw7aku97S6ZM",
        "colab_type": "text"
      },
      "cell_type": "markdown",
      "source": [
        "The KNN error rate on the 1,000 test observations is just under 12%. At first glance, this may appear to be fairly good. However, since only 6% of customers purchased insurance, we could get the error rate down to 6% by always predicting `No` regardless of the values of the predictors!\n",
        "\n",
        "Suppose that there is some non-trivial cost to trying to sell insurance\n",
        "to a given individual. For instance, perhaps a salesperson must visit each\n",
        "potential customer. If the company tries to sell insurance to a random\n",
        "selection of customers, then the success rate will be only 6%, which may\n",
        "be far too low given the costs involved. \n",
        "\n",
        "Instead, the company would like\n",
        "to try to sell insurance only to customers who are likely to buy it. So the\n",
        "overall error rate is not of interest. Instead, the fraction of individuals that\n",
        "are correctly predicted to buy insurance is of interest.\n",
        "\n",
        "It turns out that `KNN` with $K = 1$ does far better than random guessing\n",
        "among the customers that are predicted to buy insurance:"
      ]
    },
    {
      "metadata": {
        "id": "GDQep495S6ZR",
        "colab_type": "code",
        "colab": {}
      },
      "cell_type": "code",
      "source": [
        "table(knn_pred, test_Purchase)"
      ],
      "execution_count": 0,
      "outputs": []
    },
    {
      "metadata": {
        "id": "hRbL8XY_S6Zc",
        "colab_type": "text"
      },
      "cell_type": "markdown",
      "source": [
        "Among 77 such\n",
        "customers, 9, or 11.7%, actually do purchase insurance. This is double the\n",
        "rate that one would obtain from random guessing. Let's see if increasing $K$ helps! Try out a few different $K$ values below. Feeling adventurous? Write a function that figures out the best value for $K$."
      ]
    },
    {
      "metadata": {
        "id": "Ic24ZEZaS6Ze",
        "colab_type": "code",
        "colab": {}
      },
      "cell_type": "code",
      "source": [
        "set.seed(1)\n",
        "# Your code here"
      ],
      "execution_count": 0,
      "outputs": []
    },
    {
      "metadata": {
        "id": "ziyTp5-nS6Zx",
        "colab_type": "text"
      },
      "cell_type": "markdown",
      "source": [
        "It appears that `KNN` is finding some real patterns in a difficult data set! \n",
        "\n",
        "To get credit for this lab, post a response to the prompt posted to [#lab3](https://sds293.slack.com/messages/C793X7831/)."
      ]
    }
  ]
}