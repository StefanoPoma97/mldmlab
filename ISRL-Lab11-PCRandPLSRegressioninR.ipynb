{
 "cells": [
  {
   "cell_type": "markdown",
   "metadata": {},
   "source": [
    "This lab on PCS and PLS in R comes from p. 256-259 of \"Introduction to Statistical Learning with Applications in R\" by Gareth James, Daniela Witten, Trevor Hastie and Robert Tibshirani. It was re-implemented in Fall 2016 in `tidyverse` format by Amelia McNamara and R. Jordan Crouser at Smith College.\n",
    "\n",
    "# 6.7.1 Principal Components Regression\n",
    "\n",
    "Principal components regression (PCR) can be performed using the `pcr()`\n",
    "function, which is part of the `pls` library. In this lab, we'll apply PCR to the `Hitters`\n",
    "data, in order to predict `Salary`. As in previous labs, we'll start by ensuring that the missing values have\n",
    "been removed from the data:"
   ]
  },
  {
   "cell_type": "code",
   "execution_count": null,
   "metadata": {
    "collapsed": false
   },
   "outputs": [],
   "source": [
    "library(ISLR)\n",
    "library(dplyr)\n",
    "library(tidyr)\n",
    "library(pls)\n",
    "Hitters = na.omit(Hitters) # Omit empty rows"
   ]
  },
  {
   "cell_type": "markdown",
   "metadata": {},
   "source": [
    "The syntax for the `pcr()` function is similar to that for `lm()`, with a few\n",
    "additional options. Setting `scale=TRUE` has the effect of standardizing each\n",
    "predictor prior to generating the principal components, so that\n",
    "the scale on which each variable is measured will not have an effect. Setting\n",
    "`validation=\"CV\"` causes `pcr()` to compute the ten-fold cross-validation error\n",
    "for each possible value of $M$, the number of principal components used.  As usual, we'll set a random seed for consistency:"
   ]
  },
  {
   "cell_type": "code",
   "execution_count": null,
   "metadata": {
    "collapsed": true
   },
   "outputs": [],
   "source": [
    "set.seed(2)\n",
    "pcr_fit = pcr(Salary~., data = Hitters, scale = TRUE, validation = \"CV\")"
   ]
  },
  {
   "cell_type": "markdown",
   "metadata": {},
   "source": [
    "The resulting fit can be examined using the `summary()` function:"
   ]
  },
  {
   "cell_type": "code",
   "execution_count": null,
   "metadata": {
    "collapsed": false
   },
   "outputs": [],
   "source": [
    "summary(pcr_fit)"
   ]
  },
  {
   "cell_type": "markdown",
   "metadata": {},
   "source": [
    "The CV score is provided for each possible number of components, ranging\n",
    "from $M = 0$ onwards. Note that `pcr()` reports the **root mean squared error**; in order to obtain\n",
    "the usual MSE, we must square this quantity. For instance, a root mean\n",
    "squared error of 352.8 corresponds to an MSE of 352.82 = 124,468.\n",
    "\n",
    "One can also plot the cross-validation scores using the `validationplot()`\n",
    "function. Using `val.type=\"MSEP\"` will cause the cross-validation MSE to be\n",
    "plotted:"
   ]
  },
  {
   "cell_type": "code",
   "execution_count": null,
   "metadata": {
    "collapsed": false
   },
   "outputs": [],
   "source": [
    "validationplot(pcr_fit, val.type = \"MSEP\")"
   ]
  },
  {
   "cell_type": "markdown",
   "metadata": {},
   "source": [
    "We see that the smallest cross-validation error occurs when $M = 16$ components\n",
    "are used. This is barely fewer than $M = 19$, which amounts to\n",
    "simply performing least squares, because when all of the components are\n",
    "used in PCR no dimension reduction occurs. However, from the plot we\n",
    "also see that the cross-validation error is roughly the same when only one\n",
    "component is included in the model. This suggests that a model that uses\n",
    "just a small number of components might suffice.\n",
    "\n",
    "You might have noticed that the `summary()` function also provides the percentage of variance explained\n",
    "in the predictors and in the response using different numbers of components.\n",
    "We'll dig deeper into this concept in Chapter 10, but for now we can think of this as the amount of information about the predictors or the response that is captured using $M$ principal components. For example,\n",
    "setting $M = 1$ only captures 38.31% of all the variance, or information, in\n",
    "the predictors. In contrast, using $M = 6$ increases the value to 88.63%. If\n",
    "we were to use all $M = p = 19$ components, this would increase to 100%.\n",
    "\n",
    "Now let's perform PCR on the training data and evaluate its test set\n",
    "performance:"
   ]
  },
  {
   "cell_type": "code",
   "execution_count": null,
   "metadata": {
    "collapsed": false
   },
   "outputs": [],
   "source": [
    "set.seed(1)\n",
    "\n",
    "train = Hitters %>%\n",
    "  sample_frac(0.5)\n",
    "\n",
    "test = Hitters %>%\n",
    "  setdiff(train)\n",
    "\n",
    "pcr_fit2 = pcr(Salary~., data = train, scale = TRUE, validation = \"CV\")\n",
    "validationplot(pcr_fit2, val.type = \"MSEP\")"
   ]
  },
  {
   "cell_type": "markdown",
   "metadata": {},
   "source": [
    "We find that the lowest cross-validation error occurs when $M = 7$\n",
    "components are used. We compute the test MSE as follows:"
   ]
  },
  {
   "cell_type": "code",
   "execution_count": null,
   "metadata": {
    "collapsed": false
   },
   "outputs": [],
   "source": [
    "x_train = model.matrix(Salary~., train)[,-1]\n",
    "x_test = model.matrix(Salary~., test)[,-1]\n",
    "\n",
    "y_train = train %>%\n",
    "  select(Salary) %>%\n",
    "  unlist() %>%\n",
    "  as.numeric()\n",
    "\n",
    "y_test = test %>%\n",
    "  select(Salary) %>%\n",
    "  unlist() %>%\n",
    "  as.numeric()\n",
    "\n",
    "pcr_pred = predict(pcr_fit2, x_test, ncomp=7)\n",
    "mean((pcr_pred-y_test)^2)"
   ]
  },
  {
   "cell_type": "markdown",
   "metadata": {},
   "source": [
    "This test set MSE is competitive with the results obtained using ridge regression\n",
    "and the lasso. However, as a result of the way PCR is implemented,\n",
    "the final model is more difficult to interpret because it does not perform\n",
    "any kind of variable selection or even directly produce coefficient estimates.\n",
    "\n",
    "Finally, we fit PCR on the full data set using $M = 7$, the number of\n",
    "components identified by cross-validation:"
   ]
  },
  {
   "cell_type": "code",
   "execution_count": null,
   "metadata": {
    "collapsed": false
   },
   "outputs": [],
   "source": [
    "x = model.matrix(Salary~., Hitters)[,-1]\n",
    "\n",
    "y = Hitters %>%\n",
    "  select(Salary) %>%\n",
    "  unlist() %>%\n",
    "  as.numeric()\n",
    "\n",
    "pcr_fit2 = pcr(y~x, scale = TRUE, ncomp = 7)\n",
    "summary(pcr_fit2)"
   ]
  },
  {
   "cell_type": "markdown",
   "metadata": {},
   "source": [
    "# 6.7.2 Partial Least Squares\n",
    "\n",
    "Next we'll implement partial least squares (PLS) using the `plsr()` function, also\n",
    "in the `pls` library. The syntax is just like that of the `pcr()` function:"
   ]
  },
  {
   "cell_type": "code",
   "execution_count": null,
   "metadata": {
    "collapsed": false
   },
   "outputs": [],
   "source": [
    "set.seed(1)\n",
    "pls_fit = plsr(Salary~., data = train, scale = TRUE, validation = \"CV\")\n",
    "summary(pls_fit)\n",
    "validationplot(pls_fit, val.type = \"MSEP\")"
   ]
  },
  {
   "cell_type": "markdown",
   "metadata": {},
   "source": [
    "The lowest cross-validation error occurs when only $M = 2$ partial least\n",
    "squares dimensions are used. We now evaluate the corresponding test set\n",
    "MSE:"
   ]
  },
  {
   "cell_type": "code",
   "execution_count": null,
   "metadata": {
    "collapsed": false
   },
   "outputs": [],
   "source": [
    "pls_pred = predict(pls_fit, x_test, ncomp = 2)\n",
    "mean((pls_pred - y_test)^2)"
   ]
  },
  {
   "cell_type": "markdown",
   "metadata": {},
   "source": [
    "The test MSE is comparable to, but slightly higher than, the test MSE\n",
    "obtained using ridge regression, the lasso, and PCR.\n",
    "\n",
    "Finally, we perform PLS using the full data set using $M = 2$, the number\n",
    "of components identified by cross-validation:"
   ]
  },
  {
   "cell_type": "code",
   "execution_count": null,
   "metadata": {
    "collapsed": false
   },
   "outputs": [],
   "source": [
    "pls_fit2 = plsr(Salary~., data = Hitters, scale = TRUE, ncomp = 2)\n",
    "summary(pls_fit2)"
   ]
  },
  {
   "cell_type": "markdown",
   "metadata": {},
   "source": [
    "The test MSE is again comparable to the test MSE\n",
    "obtained using ridge regression, the lasso, and PCR.\n",
    "\n",
    "# Your turn!\n",
    "Now it's time to test out these approaches (PCR and PLS) and evaluation methods (validation set, cross validation) on other datasets. You may want to work with a team on this portion of the lab.\n",
    "You may use any of the datasets included in ISLR, or choose one from the UCI machine learning repository (http://archive.ics.uci.edu/ml/datasets.html). Download a dataset, and try to determine the optimal set of parameters to use to model it! You are free to use the same dataset you used in Labs 9 and 10, or you can choose a new one."
   ]
  },
  {
   "cell_type": "code",
   "execution_count": null,
   "metadata": {
    "collapsed": true
   },
   "outputs": [],
   "source": [
    "# Your code here"
   ]
  },
  {
   "cell_type": "markdown",
   "metadata": {},
   "source": [
    "To get credit for this lab, post your responses to the following questions:\n",
    " - Which dataset did you choose?\n",
    " - What was your response variable (i.e. what were you trying to model)?\n",
    " - Which method performed better?\n",
    " - Which method do you think tends to have lower bias?\n",
    " - Which method do you think tends to have lower variance?\n",
    " \n",
    "to Moodle: https://moodle.smith.edu/mod/quiz/view.php?id=260068"
   ]
  }
 ],
 "metadata": {
  "anaconda-cloud": {},
  "kernelspec": {
   "display_name": "R",
   "language": "R",
   "name": "ir"
  },
  "language_info": {
   "codemirror_mode": "r",
   "file_extension": ".r",
   "mimetype": "text/x-r-source",
   "name": "R",
   "pygments_lexer": "r",
   "version": "3.4.1"
  }
 },
 "nbformat": 4,
 "nbformat_minor": 1
}
