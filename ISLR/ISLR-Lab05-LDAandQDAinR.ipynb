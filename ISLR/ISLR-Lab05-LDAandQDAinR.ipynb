{
 "cells": [
  {
   "cell_type": "markdown",
   "metadata": {},
   "source": [
    "This lab on Logistic Regression in R comes from p. 161-163 of \"Introduction to Statistical Learning with Applications in R\" by Gareth James, Daniela Witten, Trevor Hastie and Robert Tibshirani. It was re-implemented in Fall 2016 in tidyverse format by Amelia McNamara and R. Jordan Crouser at Smith College.\n"
   ]
  },
  {
   "cell_type": "markdown",
   "metadata": {},
   "source": [
    "# 4.6.3 Linear Discriminant Analysis"
   ]
  },
  {
   "cell_type": "markdown",
   "metadata": {},
   "source": [
    "Now we will perform LDA on the `Smarket` data from the `ISLR` package. In `R`, we can fit a LDA model using the `lda()` function, which is part of the `MASS` library. Note: `dplyr` and `MASS` have a name clash around the word `select()`, so we need to do a little magic to make them play nicely."
   ]
  },
  {
   "cell_type": "code",
   "execution_count": 1,
   "metadata": {},
   "outputs": [],
   "source": [
    "list.of.packages <- c(\"dplyr\",\"ISLR\",\"MASS\")\n",
    "new.packages <- list.of.packages[!(list.of.packages %in% installed.packages()[,\"Package\"])]\n",
    "if(length(new.packages)) install.packages(new.packages)"
   ]
  },
  {
   "cell_type": "code",
   "execution_count": 2,
   "metadata": {},
   "outputs": [
    {
     "name": "stderr",
     "output_type": "stream",
     "text": [
      "\n",
      "Attaching package: ‘dplyr’\n",
      "\n",
      "The following object is masked from ‘package:MASS’:\n",
      "\n",
      "    select\n",
      "\n",
      "The following objects are masked from ‘package:stats’:\n",
      "\n",
      "    filter, lag\n",
      "\n",
      "The following objects are masked from ‘package:base’:\n",
      "\n",
      "    intersect, setdiff, setequal, union\n",
      "\n"
     ]
    }
   ],
   "source": [
    "library(MASS)\n",
    "library(dplyr)\n",
    "library(ISLR)\n",
    "select <- dplyr::select"
   ]
  },
  {
   "cell_type": "markdown",
   "metadata": {},
   "source": [
    "The syntax for the `lda()` function is identical to that of `lm()`, and to that of\n",
    "`glm()` except for the absence of the `family` option. As we did with logistic regression and KNN, we'll fit the model using only the observations before 2005, and then test the model on the data from 2005."
   ]
  },
  {
   "cell_type": "code",
   "execution_count": 3,
   "metadata": {},
   "outputs": [
    {
     "name": "stdout",
     "output_type": "stream",
     "text": [
      "Call:\n",
      "lda(Direction ~ Lag1 + Lag2, data = train)\n",
      "\n",
      "Prior probabilities of groups:\n",
      "    Down       Up \n",
      "0.491984 0.508016 \n",
      "\n",
      "Group means:\n",
      "            Lag1        Lag2\n",
      "Down  0.04279022  0.03389409\n",
      "Up   -0.03954635 -0.03132544\n",
      "\n",
      "Coefficients of linear discriminants:\n",
      "            LD1\n",
      "Lag1 -0.6420190\n",
      "Lag2 -0.5135293\n"
     ]
    }
   ],
   "source": [
    "train = Smarket %>%\n",
    "  filter(Year < 2005)\n",
    "\n",
    "test = Smarket %>%\n",
    "  filter(Year >= 2005)\n",
    "\n",
    "model_LDA = lda(Direction~Lag1+Lag2, data = train)\n",
    "print(model_LDA)"
   ]
  },
  {
   "cell_type": "markdown",
   "metadata": {},
   "source": [
    "The LDA output indicates prior probabilities of ${\\hat{\\pi}}_1 = 0.492$ and ${\\hat{\\pi}}_2 = 0.508$; in other words,\n",
    "49.2% of the training observations correspond to days during which the\n",
    "market went down.\n",
    "\n",
    "The function also provides the group means; these are the average\n",
    "of each predictor within each class, and are used by LDA as estimates\n",
    "of $\\mu_k$. These suggest that there is a tendency for the previous 2 days’\n",
    "returns to be negative on days when the market increases, and a tendency\n",
    "for the previous days’ returns to be positive on days when the market\n",
    "declines. \n",
    "\n",
    "The coefficients of linear discriminants output provides the linear\n",
    "combination of `Lag1` and `Lag2` that are used to form the LDA decision rule.\n",
    "\n",
    "If $−0.642\\times{\\tt Lag1}−0.514\\times{\\tt Lag2}$ is large, then the LDA classifier will\n",
    "predict a market increase, and if it is small, then the LDA classifier will\n",
    "predict a market decline. \n",
    "\n",
    "We can use the `plot()` function to produce plots of the linear\n",
    "discriminants, obtained by computing $−0.642\\times{\\tt Lag1}−0.514\\times{\\tt Lag2}$ for\n",
    "each of the training observations."
   ]
  },
  {
   "cell_type": "code",
   "execution_count": 4,
   "metadata": {},
   "outputs": [
    {
     "data": {
      "image/png": "[encoded data removed]",
      "text/plain": [
       "plot without title"
      ]
     },
     "metadata": {},
     "output_type": "display_data"
    }
   ],
   "source": [
    "plot(model_LDA)"
   ]
  },
  {
   "cell_type": "markdown",
   "metadata": {},
   "source": [
    "The `predict()` function returns a list with three elements. The first element,\n",
    "`class`, contains LDA’s predictions about the movement of the market.\n",
    "The second element, `posterior`, is a matrix whose $k^{th}$ column contains the\n",
    "posterior probability that the corresponding observation belongs to the $k^{th}$\n",
    "class. Finally, `x` contains the linear discriminants,\n",
    "described earlier."
   ]
  },
  {
   "cell_type": "code",
   "execution_count": 5,
   "metadata": {},
   "outputs": [
    {
     "data": {
      "text/html": [
       "<ol class=list-inline>\n",
       "\t<li>'class'</li>\n",
       "\t<li>'posterior.Down'</li>\n",
       "\t<li>'posterior.Up'</li>\n",
       "\t<li>'LD1'</li>\n",
       "</ol>\n"
      ],
      "text/latex": [
       "\\begin{enumerate*}\n",
       "\\item 'class'\n",
       "\\item 'posterior.Down'\n",
       "\\item 'posterior.Up'\n",
       "\\item 'LD1'\n",
       "\\end{enumerate*}\n"
      ],
      "text/markdown": [
       "1. 'class'\n",
       "2. 'posterior.Down'\n",
       "3. 'posterior.Up'\n",
       "4. 'LD1'\n",
       "\n",
       "\n"
      ],
      "text/plain": [
       "[1] \"class\"          \"posterior.Down\" \"posterior.Up\"   \"LD1\"           "
      ]
     },
     "metadata": {},
     "output_type": "display_data"
    }
   ],
   "source": [
    "predictions_LDA = data.frame(predict(model_LDA, test))\n",
    "names(predictions_LDA)"
   ]
  },
  {
   "cell_type": "markdown",
   "metadata": {},
   "source": [
    "Let's check out the confusion matrix to see how this model is doing. We'll want to compare the **predicted class** (which we can find in the `class` column of the `predictions_LDA` data frame) to the true class."
   ]
  },
  {
   "cell_type": "code",
   "execution_count": 6,
   "metadata": {},
   "outputs": [
    {
     "data": {
      "text/html": [
       "<table>\n",
       "<thead><tr><th scope=col>class</th><th scope=col>Direction</th><th scope=col>n</th></tr></thead>\n",
       "<tbody>\n",
       "\t<tr><td>Down</td><td>Down</td><td> 35 </td></tr>\n",
       "\t<tr><td>Down</td><td>Up  </td><td> 35 </td></tr>\n",
       "\t<tr><td>Up  </td><td>Down</td><td> 76 </td></tr>\n",
       "\t<tr><td>Up  </td><td>Up  </td><td>106 </td></tr>\n",
       "</tbody>\n",
       "</table>\n"
      ],
      "text/latex": [
       "\\begin{tabular}{r|lll}\n",
       " class & Direction & n\\\\\n",
       "\\hline\n",
       "\t Down & Down &  35 \\\\\n",
       "\t Down & Up   &  35 \\\\\n",
       "\t Up   & Down &  76 \\\\\n",
       "\t Up   & Up   & 106 \\\\\n",
       "\\end{tabular}\n"
      ],
      "text/markdown": [
       "\n",
       "class | Direction | n | \n",
       "|---|---|---|---|\n",
       "| Down | Down |  35  | \n",
       "| Down | Up   |  35  | \n",
       "| Up   | Down |  76  | \n",
       "| Up   | Up   | 106  | \n",
       "\n",
       "\n"
      ],
      "text/plain": [
       "  class Direction n  \n",
       "1 Down  Down       35\n",
       "2 Down  Up         35\n",
       "3 Up    Down       76\n",
       "4 Up    Up        106"
      ]
     },
     "metadata": {},
     "output_type": "display_data"
    },
    {
     "data": {
      "text/html": [
       "<table>\n",
       "<thead><tr><th scope=col>score</th></tr></thead>\n",
       "<tbody>\n",
       "\t<tr><td>0.5595238</td></tr>\n",
       "</tbody>\n",
       "</table>\n"
      ],
      "text/latex": [
       "\\begin{tabular}{r|l}\n",
       " score\\\\\n",
       "\\hline\n",
       "\t 0.5595238\\\\\n",
       "\\end{tabular}\n"
      ],
      "text/markdown": [
       "\n",
       "score | \n",
       "|---|\n",
       "| 0.5595238 | \n",
       "\n",
       "\n"
      ],
      "text/plain": [
       "  score    \n",
       "1 0.5595238"
      ]
     },
     "metadata": {},
     "output_type": "display_data"
    }
   ],
   "source": [
    "predictions_LDA_2 = cbind(test, predictions_LDA)\n",
    "\n",
    "predictions_LDA_2 %>%\n",
    "  count(class, Direction)\n",
    "\n",
    "predictions_LDA_2 %>%\n",
    "  summarize(score = mean(class == Direction))"
   ]
  },
  {
   "cell_type": "markdown",
   "metadata": {},
   "source": [
    "The LDA predictions are identical to the ones from our logistic model:"
   ]
  },
  {
   "cell_type": "code",
   "execution_count": 7,
   "metadata": {},
   "outputs": [
    {
     "data": {
      "text/html": [
       "<table>\n",
       "<thead><tr><th scope=col>class</th><th scope=col>Direction</th><th scope=col>n</th></tr></thead>\n",
       "<tbody>\n",
       "\t<tr><td>Down</td><td>Down</td><td> 35 </td></tr>\n",
       "\t<tr><td>Down</td><td>Up  </td><td> 35 </td></tr>\n",
       "\t<tr><td>Up  </td><td>Down</td><td> 76 </td></tr>\n",
       "\t<tr><td>Up  </td><td>Up  </td><td>106 </td></tr>\n",
       "</tbody>\n",
       "</table>\n"
      ],
      "text/latex": [
       "\\begin{tabular}{r|lll}\n",
       " class & Direction & n\\\\\n",
       "\\hline\n",
       "\t Down & Down &  35 \\\\\n",
       "\t Down & Up   &  35 \\\\\n",
       "\t Up   & Down &  76 \\\\\n",
       "\t Up   & Up   & 106 \\\\\n",
       "\\end{tabular}\n"
      ],
      "text/markdown": [
       "\n",
       "class | Direction | n | \n",
       "|---|---|---|---|\n",
       "| Down | Down |  35  | \n",
       "| Down | Up   |  35  | \n",
       "| Up   | Down |  76  | \n",
       "| Up   | Up   | 106  | \n",
       "\n",
       "\n"
      ],
      "text/plain": [
       "  class Direction n  \n",
       "1 Down  Down       35\n",
       "2 Down  Up         35\n",
       "3 Up    Down       76\n",
       "4 Up    Up        106"
      ]
     },
     "metadata": {},
     "output_type": "display_data"
    },
    {
     "data": {
      "text/html": [
       "<table>\n",
       "<thead><tr><th scope=col>score</th></tr></thead>\n",
       "<tbody>\n",
       "\t<tr><td>0.5595238</td></tr>\n",
       "</tbody>\n",
       "</table>\n"
      ],
      "text/latex": [
       "\\begin{tabular}{r|l}\n",
       " score\\\\\n",
       "\\hline\n",
       "\t 0.5595238\\\\\n",
       "\\end{tabular}\n"
      ],
      "text/markdown": [
       "\n",
       "score | \n",
       "|---|\n",
       "| 0.5595238 | \n",
       "\n",
       "\n"
      ],
      "text/plain": [
       "  score    \n",
       "1 0.5595238"
      ]
     },
     "metadata": {},
     "output_type": "display_data"
    }
   ],
   "source": [
    "# Logistic model, for comparison\n",
    "model_logistic = glm(Direction~Lag1+Lag2, data=train ,family=binomial)\n",
    "\n",
    "logistic_probs = data.frame(probs = predict(model_logistic, test, type=\"response\"))\n",
    "\n",
    "predictions_logistic = logistic_probs %>%\n",
    "  mutate(class = ifelse(probs>.5, \"Up\", \"Down\"))\n",
    "\n",
    "predictions_logistic = cbind(test, predictions_logistic)\n",
    "\n",
    "predictions_logistic %>%\n",
    "  count(class, Direction)\n",
    "\n",
    "predictions_logistic %>%\n",
    "  summarize(score = mean(class == Direction))"
   ]
  },
  {
   "cell_type": "markdown",
   "metadata": {},
   "source": [
    "# 4.6.4 Quadratic Discriminant Analysis\n",
    "We will now fit a QDA model to the `Smarket` data. QDA is implemented\n",
    "in `R` using the `qda()` function, which is also part of the `MASS` library. The\n",
    "syntax is identical to that of `lda()`."
   ]
  },
  {
   "cell_type": "code",
   "execution_count": 8,
   "metadata": {},
   "outputs": [
    {
     "data": {
      "text/plain": [
       "Call:\n",
       "qda(Direction ~ Lag1 + Lag2, data = train)\n",
       "\n",
       "Prior probabilities of groups:\n",
       "    Down       Up \n",
       "0.491984 0.508016 \n",
       "\n",
       "Group means:\n",
       "            Lag1        Lag2\n",
       "Down  0.04279022  0.03389409\n",
       "Up   -0.03954635 -0.03132544"
      ]
     },
     "metadata": {},
     "output_type": "display_data"
    }
   ],
   "source": [
    "model_QDA = qda(Direction~Lag1+Lag2, data = train)\n",
    "model_QDA"
   ]
  },
  {
   "cell_type": "markdown",
   "metadata": {},
   "source": [
    "The output contains the group means. But it does not contain the coefficients\n",
    "of the linear discriminants, because the QDA classifier involves a\n",
    "_quadratic_, rather than a linear, function of the predictors. The `predict()`\n",
    "function works in exactly the same fashion as for LDA."
   ]
  },
  {
   "cell_type": "code",
   "execution_count": 9,
   "metadata": {},
   "outputs": [
    {
     "data": {
      "text/html": [
       "<table>\n",
       "<thead><tr><th scope=col>class</th><th scope=col>Direction</th><th scope=col>n</th></tr></thead>\n",
       "<tbody>\n",
       "\t<tr><td>Down</td><td>Down</td><td> 30 </td></tr>\n",
       "\t<tr><td>Down</td><td>Up  </td><td> 20 </td></tr>\n",
       "\t<tr><td>Up  </td><td>Down</td><td> 81 </td></tr>\n",
       "\t<tr><td>Up  </td><td>Up  </td><td>121 </td></tr>\n",
       "</tbody>\n",
       "</table>\n"
      ],
      "text/latex": [
       "\\begin{tabular}{r|lll}\n",
       " class & Direction & n\\\\\n",
       "\\hline\n",
       "\t Down & Down &  30 \\\\\n",
       "\t Down & Up   &  20 \\\\\n",
       "\t Up   & Down &  81 \\\\\n",
       "\t Up   & Up   & 121 \\\\\n",
       "\\end{tabular}\n"
      ],
      "text/markdown": [
       "\n",
       "class | Direction | n | \n",
       "|---|---|---|---|\n",
       "| Down | Down |  30  | \n",
       "| Down | Up   |  20  | \n",
       "| Up   | Down |  81  | \n",
       "| Up   | Up   | 121  | \n",
       "\n",
       "\n"
      ],
      "text/plain": [
       "  class Direction n  \n",
       "1 Down  Down       30\n",
       "2 Down  Up         20\n",
       "3 Up    Down       81\n",
       "4 Up    Up        121"
      ]
     },
     "metadata": {},
     "output_type": "display_data"
    },
    {
     "data": {
      "text/html": [
       "<table>\n",
       "<thead><tr><th scope=col>score</th></tr></thead>\n",
       "<tbody>\n",
       "\t<tr><td>0.5992063</td></tr>\n",
       "</tbody>\n",
       "</table>\n"
      ],
      "text/latex": [
       "\\begin{tabular}{r|l}\n",
       " score\\\\\n",
       "\\hline\n",
       "\t 0.5992063\\\\\n",
       "\\end{tabular}\n"
      ],
      "text/markdown": [
       "\n",
       "score | \n",
       "|---|\n",
       "| 0.5992063 | \n",
       "\n",
       "\n"
      ],
      "text/plain": [
       "  score    \n",
       "1 0.5992063"
      ]
     },
     "metadata": {},
     "output_type": "display_data"
    }
   ],
   "source": [
    "predictions_QDA = data.frame(predict(model_QDA, test))\n",
    "\n",
    "predictions_QDA = cbind(test, predictions_QDA)\n",
    "\n",
    "predictions_QDA %>%\n",
    "  count(class, Direction)\n",
    "\n",
    "predictions_QDA %>%\n",
    "  summarize(score = mean(class == Direction))"
   ]
  },
  {
   "cell_type": "markdown",
   "metadata": {},
   "source": [
    "Interestingly, the QDA predictions are accurate almost 60% of the time,\n",
    "even though the 2005 data was not used to fit the model. This level of accuracy\n",
    "is quite impressive for stock market data, which is known to be quite\n",
    "hard to model accurately. \n",
    "\n",
    "This suggests that the quadratic form assumed\n",
    "by QDA may capture the true relationship more accurately than the linear\n",
    "forms assumed by LDA and logistic regression. However, we recommend\n",
    "evaluating this method’s performance on a larger test set before betting\n",
    "that this approach will consistently beat the market!"
   ]
  },
  {
   "cell_type": "markdown",
   "metadata": {},
   "source": [
    "# An Application to Carseats Data\n",
    "Let's see how the `LDA/QDA` approach performs on the `Carseats` data set, which is\n",
    "part of the `ISLR` library. \n",
    "\n",
    "Recall: this is a simulated data set containing sales of child car seats at 400 different stores."
   ]
  },
  {
   "cell_type": "code",
   "execution_count": 10,
   "metadata": {},
   "outputs": [
    {
     "data": {
      "text/plain": [
       "     Sales          CompPrice       Income        Advertising    \n",
       " Min.   : 0.000   Min.   : 77   Min.   : 21.00   Min.   : 0.000  \n",
       " 1st Qu.: 5.390   1st Qu.:115   1st Qu.: 42.75   1st Qu.: 0.000  \n",
       " Median : 7.490   Median :125   Median : 69.00   Median : 5.000  \n",
       " Mean   : 7.496   Mean   :125   Mean   : 68.66   Mean   : 6.635  \n",
       " 3rd Qu.: 9.320   3rd Qu.:135   3rd Qu.: 91.00   3rd Qu.:12.000  \n",
       " Max.   :16.270   Max.   :175   Max.   :120.00   Max.   :29.000  \n",
       "   Population        Price        ShelveLoc        Age          Education   \n",
       " Min.   : 10.0   Min.   : 24.0   Bad   : 96   Min.   :25.00   Min.   :10.0  \n",
       " 1st Qu.:139.0   1st Qu.:100.0   Good  : 85   1st Qu.:39.75   1st Qu.:12.0  \n",
       " Median :272.0   Median :117.0   Medium:219   Median :54.50   Median :14.0  \n",
       " Mean   :264.8   Mean   :115.8                Mean   :53.32   Mean   :13.9  \n",
       " 3rd Qu.:398.5   3rd Qu.:131.0                3rd Qu.:66.00   3rd Qu.:16.0  \n",
       " Max.   :509.0   Max.   :191.0                Max.   :80.00   Max.   :18.0  \n",
       " Urban       US     \n",
       " No :118   No :142  \n",
       " Yes:282   Yes:258  \n",
       "                    \n",
       "                    \n",
       "                    \n",
       "                    "
      ]
     },
     "metadata": {},
     "output_type": "display_data"
    }
   ],
   "source": [
    "summary(Carseats)"
   ]
  },
  {
   "cell_type": "markdown",
   "metadata": {},
   "source": [
    "See if you can build a model that predicts `ShelveLoc`, the shelf location (Bad, Good, or Medium) of the product at each store. Don't forget to hold out some of the data for testing!"
   ]
  },
  {
   "cell_type": "code",
   "execution_count": 11,
   "metadata": {},
   "outputs": [],
   "source": [
    "# Your code here"
   ]
  },
  {
   "cell_type": "markdown",
   "metadata": {},
   "source": [
    "To get credit for this lab, please post your answers to the prompt in [#lab5](https://sds293.slack.com/messages/C7CR96LJ3)."
   ]
  }
 ],
 "metadata": {
  "anaconda-cloud": {},
  "kernelspec": {
   "display_name": "R",
   "language": "R",
   "name": "ir"
  },
  "language_info": {
   "codemirror_mode": "r",
   "file_extension": ".r",
   "mimetype": "text/x-r-source",
   "name": "R",
   "pygments_lexer": "r",
   "version": "3.5.3"
  }
 },
 "nbformat": 4,
 "nbformat_minor": 1
}
