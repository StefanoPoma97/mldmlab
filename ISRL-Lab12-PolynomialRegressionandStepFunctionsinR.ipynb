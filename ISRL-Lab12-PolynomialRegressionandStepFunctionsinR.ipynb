{
 "cells": [
  {
   "cell_type": "markdown",
   "metadata": {},
   "source": [
    "This lab on Polynomial Regression and Step Functions in R comes from p. 288-292 of \"Introduction to Statistical Learning with Applications in R\" by Gareth James, Daniela Witten, Trevor Hastie and Robert Tibshirani. It was re-implemented in Fall 2016 in `tidyverse` format by Amelia McNamara and R. Jordan Crouser at Smith College."
   ]
  },
  {
   "cell_type": "code",
   "execution_count": null,
   "metadata": {
    "collapsed": false
   },
   "outputs": [],
   "source": [
    "library(ISLR)\n",
    "library(dplyr)\n",
    "library(ggplot2)"
   ]
  },
  {
   "cell_type": "markdown",
   "metadata": {},
   "source": [
    "# 7.8.1 Polynomial Regression and Step Functions\n",
    "\n",
    "In this lab, we'll explore how to generate the `Wage` dataset models we saw in class. We first fit the polynomial regression model using the following command:"
   ]
  },
  {
   "cell_type": "code",
   "execution_count": null,
   "metadata": {
    "collapsed": false
   },
   "outputs": [],
   "source": [
    "fit = lm(wage ~ poly(age, 4), data = Wage)\n",
    "coef(summary(fit))"
   ]
  },
  {
   "cell_type": "markdown",
   "metadata": {},
   "source": [
    "This syntax fits a linear model, using the `lm()` function, in order to predict\n",
    "wage using a fourth-degree polynomial in `age`: `poly(age,4)`. The `poly()` command\n",
    "allows us to avoid having to write out a long formula with powers\n",
    "of `age`. The function returns a matrix whose columns are a basis of orthogonal\n",
    "polynomials, which essentially means that each column is a linear\n",
    "combination of the variables `age`, `age^2`, `age^3` and `age^4`.\n",
    "\n",
    "If we prefer, we can also use `poly()` to obtain `age`, `age^2`, `age^3` and `age^4`\n",
    "directly. We can do this by using the `raw = TRUE` argument to\n",
    "the `poly()` function. Later we see that this does not affect the model in a\n",
    "meaningful way -- though the choice of basis clearly affects the coefficient\n",
    "estimates, it does not affect the fitted values obtained."
   ]
  },
  {
   "cell_type": "code",
   "execution_count": null,
   "metadata": {
    "collapsed": false
   },
   "outputs": [],
   "source": [
    "fit2 = lm(wage~poly(age, 4, raw = TRUE), data = Wage)\n",
    "coef(summary(fit2))"
   ]
  },
  {
   "cell_type": "markdown",
   "metadata": {},
   "source": [
    "We now create a grid of values for `age` at which we want predictions, and\n",
    "then call the generic `predict()` function, specifying that we want standard\n",
    "errors as well."
   ]
  },
  {
   "cell_type": "code",
   "execution_count": null,
   "metadata": {
    "collapsed": true
   },
   "outputs": [],
   "source": [
    "# Get min/max values of age using the range() function\n",
    "agelims = Wage %>%\n",
    "    select(age) %>%\n",
    "    range\n",
    "\n",
    "# Generate a sequence of age values spanning the range\n",
    "age_grid = seq(from = min(agelims), to = max(agelims))\n",
    "\n",
    "# Predict the value of the generated ages,\n",
    "# returning the standard error using se = TRUE\n",
    "preds = predict(fit, newdata = list(age = age_grid), se = TRUE)\n",
    "\n",
    "# Compute error bands (2*SE)\n",
    "se_bands = cbind(\"upper\" = preds$fit+2*preds$se.fit, \n",
    "                 \"lower\" = preds$fit-2*preds$se.fit)"
   ]
  },
  {
   "cell_type": "markdown",
   "metadata": {},
   "source": [
    "Finally, we plot the data and add the fit from the degree-4 polynomial."
   ]
  },
  {
   "cell_type": "code",
   "execution_count": null,
   "metadata": {
    "collapsed": false
   },
   "outputs": [],
   "source": [
    "ggplot() +\n",
    "  geom_point(data = Wage, aes(x = age, y = wage)) +\n",
    "  geom_line(aes(x = age_grid, y = preds$fit), color = \"#0000FF\") +\n",
    "  geom_ribbon(aes(x = age_grid, \n",
    "                  ymin = se_bands[,\"lower\"], \n",
    "                  ymax = se_bands[,\"upper\"]), \n",
    "              alpha = 0.3) +\n",
    "  xlim(agelims) +\n",
    "  labs(title = \"Degree-4 Polynomial\")"
   ]
  },
  {
   "cell_type": "markdown",
   "metadata": {},
   "source": [
    "We mentioned earlier that whether or not an orthogonal set of basis functions\n",
    "is produced in the `poly()` function will not affect the model obtained\n",
    "in a meaningful way. What do we mean by this? The fitted values obtained\n",
    "in either case are identical (up to a miniscule rounding error caused by building our models on a computer):"
   ]
  },
  {
   "cell_type": "code",
   "execution_count": null,
   "metadata": {
    "collapsed": false
   },
   "outputs": [],
   "source": [
    "preds2 = predict(fit2, newdata = list(age = age_grid), se = TRUE)\n",
    "\n",
    "# Calculate the difference between the two estimates, print out the first few values\n",
    "head(abs(preds$fit - preds2$fit))"
   ]
  },
  {
   "cell_type": "markdown",
   "metadata": {},
   "source": [
    "# Deciding on a degree\n",
    "\n",
    "In performing a polynomial regression we must decide on the degree of\n",
    "the polynomial to use. One way to do this is by using hypothesis tests. We\n",
    "now fit models ranging from linear to a degree-5 polynomial and seek to\n",
    "determine the simplest model which is sufficient to explain the relationship\n",
    "between `wage` and `age`.\n",
    "\n",
    "We can do this using the `anova()` function, which performs an\n",
    "analysis of variance (ANOVA, using an F-test) in order to test the null\n",
    "hypothesis that a model $M_1$ is sufficient to explain the data against the \n",
    "alternative hypothesis that a more complex model $M_2$ is required. In order\n",
    "to use the `anova()` function, $M_1$ and $M_2$ must be **nested models**: the\n",
    "predictors in $M_1$ must be a subset of the predictors in $M_2$. In this case,\n",
    "we fit five different models and sequentially compare the simpler model to\n",
    "the more complex model:"
   ]
  },
  {
   "cell_type": "code",
   "execution_count": null,
   "metadata": {
    "collapsed": false
   },
   "outputs": [],
   "source": [
    "fit_1 = lm(wage~age, data = Wage)\n",
    "fit_2 = lm(wage~poly(age,2), data = Wage)\n",
    "fit_3 = lm(wage~poly(age,3), data = Wage)\n",
    "fit_4 = lm(wage~poly(age,4), data = Wage)\n",
    "fit_5 = lm(wage~poly(age,5), data = Wage)\n",
    "print(anova(fit_1,fit_2,fit_3,fit_4,fit_5))"
   ]
  },
  {
   "cell_type": "markdown",
   "metadata": {},
   "source": [
    "The $p$-value comparing the linear Model 1 to the quadratic Model 2 is\n",
    "essentially zero $(<10^{-15})$, indicating that a linear fit is not sufficient. Similarly the $p$-value comparing the quadratic Model 2 to the cubic Model 3\n",
    "is very low (0.0017), so the quadratic fit is also insufficient. The $p$-value\n",
    "comparing the cubic and degree-4 polynomials, Model 3 and Model 4, is approximately\n",
    "0.05 while the degree-5 polynomial Model 5 seems unnecessary because its $p$-value is 0.37. Hence, either a cubic or a quartic polynomial appear to provide a reasonable fit to the data, but lower- or higher-order models are not justified.\n",
    "\n",
    "In this case, instead of using the `anova()` function, we could also have obtained\n",
    "these $p$-values more succinctly by exploiting the fact that `poly()` creates\n",
    "orthogonal polynomials."
   ]
  },
  {
   "cell_type": "code",
   "execution_count": null,
   "metadata": {
    "collapsed": false
   },
   "outputs": [],
   "source": [
    "print(coef(summary(fit_5)))"
   ]
  },
  {
   "cell_type": "markdown",
   "metadata": {},
   "source": [
    "Notice that the p-values are the same, and in fact the square of the\n",
    "t-statistics are equal to the F-statistics from the `anova()` function; for\n",
    "example:"
   ]
  },
  {
   "cell_type": "code",
   "execution_count": null,
   "metadata": {
    "collapsed": false
   },
   "outputs": [],
   "source": [
    "(-11.983)^2"
   ]
  },
  {
   "cell_type": "markdown",
   "metadata": {},
   "source": [
    "However, the ANOVA method works whether or not we used orthogonal\n",
    "polynomials; it also works when we have other terms in the model as well.\n",
    "For example, we can use `anova()` to compare these three models:"
   ]
  },
  {
   "cell_type": "code",
   "execution_count": null,
   "metadata": {
    "collapsed": false
   },
   "outputs": [],
   "source": [
    "fit_1 = lm(wage~education+age, data = Wage)\n",
    "fit_2 = lm(wage~education+poly(age,2), data = Wage)\n",
    "fit_3 = lm(wage~education+poly(age,3), data = Wage)\n",
    "print(anova(fit_1,fit_2,fit_3))"
   ]
  },
  {
   "cell_type": "markdown",
   "metadata": {},
   "source": [
    "As an alternative to using hypothesis tests and ANOVA, we could choose\n",
    "the polynomial degree using cross-validation as we have in previous labs.\n",
    "\n",
    "Next we consider the task of predicting whether an individual earns more\n",
    "than \\$250,000 per year. We proceed much as before, except that first we\n",
    "create the appropriate response vector, and then apply the `glm()` function\n",
    "using `family = \"binomial\"` in order to fit a polynomial logistic regression\n",
    "model:"
   ]
  },
  {
   "cell_type": "code",
   "execution_count": null,
   "metadata": {
    "collapsed": true
   },
   "outputs": [],
   "source": [
    "fit = glm(I(wage>250)~poly(age,4), data = Wage, family = binomial)"
   ]
  },
  {
   "cell_type": "markdown",
   "metadata": {},
   "source": [
    "Note that we again use the wrapper `I()` to create this binary response\n",
    "variable on the fly. The expression `wage>250` evaluates to a logical variable\n",
    "containing `TRUEs` and `FALSEs`, which `glm()` coerces to binary by setting the\n",
    "`TRUEs` to 1 and the `FALSEs` to 0.\n",
    "\n",
    "Once again, we make predictions using the `predict()` function:"
   ]
  },
  {
   "cell_type": "code",
   "execution_count": null,
   "metadata": {
    "collapsed": true
   },
   "outputs": [],
   "source": [
    "preds = predict(fit, newdata = list(age = age_grid), se = TRUE)"
   ]
  },
  {
   "cell_type": "markdown",
   "metadata": {},
   "source": [
    "However, calculating the confidence intervals is slightly more involved than\n",
    "in the linear regression case. The default prediction type for a glm() model\n",
    "is type=\"link\", which is what we use here. This means we get predictions\n",
    "for the logit: that is, we have fit a model of the form\n",
    "\n",
    "$$log\\left(\\frac{Pr(Y = 1|X)}{1 − Pr(Y = 1|X)}\\right)= X\\beta$$\n",
    "\n",
    "and the predictions given are of the form $X\\hat \\beta$. The standard errors given are\n",
    "also of this form. In order to obtain confidence intervals for $Pr(Y = 1|X)$,\n",
    "we use the transformation:\n",
    "\n",
    "$$Pr(Y = 1|X) = \\frac{e^{X\\beta}}{1 + e^{X\\beta}}$$"
   ]
  },
  {
   "cell_type": "code",
   "execution_count": null,
   "metadata": {
    "collapsed": true
   },
   "outputs": [],
   "source": [
    "pfit = exp(preds$fit) / (1+exp(preds$fit))\n",
    "\n",
    "se_bands_logit = cbind(\"upper\" = preds$fit+2*preds$se.fit, \n",
    "                       \"lower\" = preds$fit-2*preds$se.fit)\n",
    "\n",
    "se_bands = exp(se_bands_logit) / (1+exp(se_bands_logit))"
   ]
  },
  {
   "cell_type": "markdown",
   "metadata": {},
   "source": [
    "We could have directly computed the probabilities by selecting\n",
    "the `type = \"response\"` option in the `predict()` function. However, the corresponding confidence intervals would not have been sensible because we would end up with negative probabilities!\n",
    "\n",
    "Now we're ready to draw the second plot we saw in class:"
   ]
  },
  {
   "cell_type": "code",
   "execution_count": null,
   "metadata": {
    "collapsed": false
   },
   "outputs": [],
   "source": [
    "high = Wage %>%\n",
    "  filter(wage > 250)\n",
    "\n",
    "low = Wage %>%\n",
    "  filter(wage <= 250)\n",
    "\n",
    "ggplot() +\n",
    "  geom_rug(data = low, aes(x = jitter(age), y = wage), sides = \"b\", alpha = 0.3) +\n",
    "  geom_rug(data = high, aes(x = jitter(age), y = wage), sides = \"t\", alpha = 0.3) +\n",
    "  geom_line(aes(x = age_grid, y = pfit), color = \"#0000FF\") +\n",
    "  geom_ribbon(aes(x = age_grid, \n",
    "                  ymin = se_bands[,\"lower\"], \n",
    "                  ymax = se_bands[,\"upper\"]), \n",
    "              alpha = 0.3) +\n",
    "  xlim(agelims) +\n",
    "  ylim(c(0,1)) +\n",
    "  labs(title = \"Degree-4 Polynomial\",\n",
    "       x = \"Age\",\n",
    "       y = \"P(wage > 250)\")"
   ]
  },
  {
   "cell_type": "markdown",
   "metadata": {},
   "source": [
    "We have drawn the `age` values corresponding to the observations with `wage`\n",
    "values above 250 as gray marks on the top of the plot, and those with `wage`\n",
    "values below 250 are shown as gray marks on the bottom of the plot. We\n",
    "used the `jitter()` function to jitter the `age` values a bit so that observations\n",
    "with the same `age` value do not cover each other up. This is often called a\n",
    "*rug plot*.\n",
    "\n",
    "# Step functions\n",
    "In order to fit a step function, we use the `cut()` function:"
   ]
  },
  {
   "cell_type": "code",
   "execution_count": null,
   "metadata": {
    "collapsed": false
   },
   "outputs": [],
   "source": [
    "table(cut(Wage$age,4))\n",
    "fit_step = lm(wage~cut(age,4), data = Wage)\n",
    "print(coef(summary(fit)))"
   ]
  },
  {
   "cell_type": "markdown",
   "metadata": {},
   "source": [
    "Here `cut()` automatically picked the cutpoints at 33.5, 49, and 64.5 years\n",
    "of age. We could also have specified our own cutpoints directly using the\n",
    "`breaks` option. The function `cut()` returns an ordered categorical variable;\n",
    "the lm() function then creates a set of dummy variables for use in the regression.\n",
    "The `age<33.5` category is left out, so the intercept coefficient of\n",
    "\\$94,160 can be interpreted as the average salary for those under 33.5 years\n",
    "of age, and the other coefficients can be interpreted as the average additional\n",
    "salary for those in the other age groups. \n",
    "\n",
    "We can produce predictions\n",
    "and plots just as we did in the case of the polynomial fit_"
   ]
  },
  {
   "cell_type": "code",
   "execution_count": null,
   "metadata": {
    "collapsed": false
   },
   "outputs": [],
   "source": [
    "# Predict the value of the generated ages, returning the standard error using se = TRUE\n",
    "preds = predict(fit_step, newdata = list(age = age_grid), se = TRUE)\n",
    "\n",
    "# Compute error bands (2*SE)\n",
    "se_bands = cbind(\"upper\" = preds$fit+2*preds$se.fit, \n",
    "                 \"lower\" = preds$fit-2*preds$se.fit)\n",
    "\n",
    "# Plot\n",
    "ggplot() +\n",
    "  geom_point(data = Wage, aes(x = age, y = wage)) +\n",
    "  geom_line(aes(x = age_grid, y = preds$fit), color = \"#0000FF\") +\n",
    "  geom_ribbon(aes(x = age_grid, \n",
    "                  ymin = se_bands[,\"lower\"], \n",
    "                  ymax = se_bands[,\"upper\"]), \n",
    "              alpha = 0.3) +\n",
    "  xlim(agelims) +\n",
    "  labs(title = \"Step Function\")"
   ]
  },
  {
   "cell_type": "markdown",
   "metadata": {},
   "source": [
    "# Getting credit\n",
    "\n",
    "To get credit for this lab, post your responses to the following questions:\n",
    " - What is one real-world example where you might try polynomial regression? Why?\n",
    " - What is one real-world example where you might try using a step function? Why?\n",
    " \n",
    "to [Moodle](https://moodle.smith.edu/mod/quiz/view.php?id=262426)."
   ]
  }
 ],
 "metadata": {
  "kernelspec": {
   "display_name": "R",
   "language": "R",
   "name": "ir"
  },
  "language_info": {
   "codemirror_mode": "r",
   "file_extension": ".r",
   "mimetype": "text/x-r-source",
   "name": "R",
   "pygments_lexer": "r",
   "version": "3.3.2"
  }
 },
 "nbformat": 4,
 "nbformat_minor": 2
}
