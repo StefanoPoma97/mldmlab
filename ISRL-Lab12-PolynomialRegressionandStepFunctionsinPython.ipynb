{
 "cells": [
  {
   "cell_type": "markdown",
   "metadata": {},
   "source": [
    "This lab on Polynomial Regression and Step Functions is a python adaptation of p. 288-292 of \"Introduction to Statistical Learning with Applications in R\" by Gareth James, Daniela Witten, Trevor Hastie and Robert Tibshirani. Original adaptation by J. Warmenhoven, updated by R. Jordan Crouser at Smith College for SDS293: Machine Learning (Spring 2016)."
   ]
  },
  {
   "cell_type": "code",
   "execution_count": null,
   "metadata": {
    "collapsed": false
   },
   "outputs": [],
   "source": [
    "import pandas as pd\n",
    "import numpy as np\n",
    "import matplotlib as mpl\n",
    "import matplotlib.pyplot as plt\n",
    "\n",
    "from sklearn.preprocessing import PolynomialFeatures\n",
    "import statsmodels.api as sm\n",
    "\n",
    "%matplotlib inline"
   ]
  },
  {
   "cell_type": "markdown",
   "metadata": {},
   "source": [
    "# 7.8.1 Polynomial Regression and Step Functions\n",
    "\n",
    "In this lab, we'll explore how to generate the `Wage` dataset models we saw in class."
   ]
  },
  {
   "cell_type": "code",
   "execution_count": null,
   "metadata": {
    "collapsed": false
   },
   "outputs": [],
   "source": [
    "df = pd.read_csv('Wage.csv')\n",
    "df.head(3)"
   ]
  },
  {
   "cell_type": "markdown",
   "metadata": {},
   "source": [
    "We first fit the polynomial regression model using the following commands:"
   ]
  },
  {
   "cell_type": "code",
   "execution_count": null,
   "metadata": {
    "collapsed": false
   },
   "outputs": [],
   "source": [
    "X1 = PolynomialFeatures(1).fit_transform(df.age.values.reshape(-1,1))\n",
    "X2 = PolynomialFeatures(2).fit_transform(df.age.values.reshape(-1,1))\n",
    "X3 = PolynomialFeatures(3).fit_transform(df.age.values.reshape(-1,1))\n",
    "X4 = PolynomialFeatures(4).fit_transform(df.age.values.reshape(-1,1))\n",
    "X5 = PolynomialFeatures(5).fit_transform(df.age.values.reshape(-1,1))"
   ]
  },
  {
   "cell_type": "markdown",
   "metadata": {},
   "source": [
    "This syntax fits a linear model, using the `PolynomialFeatures()` function, in order to predict\n",
    "wage using up to a fourth-degree polynomial in `age`. The `PolynomialFeatures()` command\n",
    "allows us to avoid having to write out a long formula with powers\n",
    "of `age`. We can then fit our linear model:"
   ]
  },
  {
   "cell_type": "code",
   "execution_count": null,
   "metadata": {
    "collapsed": false
   },
   "outputs": [],
   "source": [
    "fit2 = sm.GLS(df.wage, X4).fit()\n",
    "fit2.summary().tables[1]"
   ]
  },
  {
   "cell_type": "markdown",
   "metadata": {},
   "source": [
    "Next we consider the task of predicting whether an individual earns more\n",
    "than \\$250,000 per year. We proceed much as before, except that first we\n",
    "create the appropriate response vector, and then we fit a logistic model using the `GLM()` function from `statsmodels`:"
   ]
  },
  {
   "cell_type": "code",
   "execution_count": null,
   "metadata": {
    "collapsed": false
   },
   "outputs": [],
   "source": [
    "# Create response matrix\n",
    "y = (df.wage > 250).map({False:0, True:1}).as_matrix()\n",
    "\n",
    "# Fit logistic model\n",
    "clf = sm.GLM(y, X4, family=sm.families.Binomial(sm.families.links.logit))\n",
    "res = clf.fit()"
   ]
  },
  {
   "cell_type": "markdown",
   "metadata": {},
   "source": [
    "We now create a grid of values for `age` at which we want predictions, and\n",
    "then call the generic `predict()` function for each model:"
   ]
  },
  {
   "cell_type": "code",
   "execution_count": null,
   "metadata": {
    "collapsed": true
   },
   "outputs": [],
   "source": [
    "# Generate a sequence of age values spanning the range\n",
    "age_grid = np.arange(df.age.min(), df.age.max()).reshape(-1,1)\n",
    "\n",
    "# Generate test data\n",
    "X_test = PolynomialFeatures(4).fit_transform(age_grid)\n",
    "\n",
    "# Predict the value of the generated ages\n",
    "pred1 = fit2.predict(X_test) # salary\n",
    "pred2 = res.predict(X_test)  # Pr(wage>250)"
   ]
  },
  {
   "cell_type": "markdown",
   "metadata": {},
   "source": [
    "Finally, we plot the data and add the fit from the degree-4 polynomial."
   ]
  },
  {
   "cell_type": "code",
   "execution_count": null,
   "metadata": {
    "collapsed": false
   },
   "outputs": [],
   "source": [
    "# creating plots\n",
    "fig, (ax1, ax2) = plt.subplots(1,2, figsize = (16,5))\n",
    "fig.suptitle('Degree-4 Polynomial', fontsize=14)\n",
    "\n",
    "# Scatter plot with polynomial regression line\n",
    "ax1.scatter(df.age, df.wage, facecolor='None', edgecolor='k', alpha=0.3)\n",
    "ax1.plot(age_grid, pred1, color = 'b')\n",
    "ax1.set_ylim(ymin=0)\n",
    "\n",
    "# Logistic regression showing Pr(wage>250) for the age range.\n",
    "ax2.plot(age_grid, pred2, color='b')\n",
    "\n",
    "# Rug plot showing the distribution of wage>250 in the training data.\n",
    "# 'True' on the top, 'False' on the bottom.\n",
    "ax2.scatter(df.age, y/5, s=30, c='grey', marker='|', alpha=0.7)\n",
    "\n",
    "ax2.set_ylim(-0.01,0.21)\n",
    "ax2.set_xlabel('age')\n",
    "ax2.set_ylabel('Pr(wage>250|age)')"
   ]
  },
  {
   "cell_type": "markdown",
   "metadata": {},
   "source": [
    "# Deciding on a degree\n",
    "\n",
    "In performing a polynomial regression we must decide on the degree of\n",
    "the polynomial to use. One way to do this is by using hypothesis tests. We\n",
    "now fit models ranging from linear to a degree-5 polynomial and seek to\n",
    "determine the simplest model which is sufficient to explain the relationship\n",
    "between `wage` and `age`.\n",
    "\n",
    "We can do this using the `anova_lm()` function, which performs an\n",
    "analysis of variance (ANOVA, using an F-test) in order to test the null\n",
    "hypothesis that a model $M_1$ is sufficient to explain the data against the \n",
    "alternative hypothesis that a more complex model $M_2$ is required. In order\n",
    "to use the `anova_lm()` function, $M_1$ and $M_2$ must be **nested models**: the\n",
    "predictors in $M_1$ must be a subset of the predictors in $M_2$. In this case,\n",
    "we fit five different models and sequentially compare the simpler model to\n",
    "the more complex model (*Note:* you may get an *invalid value* Runtime Warning on the first model, because there is no \"simpler model\" to compare to):"
   ]
  },
  {
   "cell_type": "code",
   "execution_count": null,
   "metadata": {
    "collapsed": false
   },
   "outputs": [],
   "source": [
    "fit_1 = fit = sm.GLS(df.wage, X1).fit()\n",
    "fit_2 = fit = sm.GLS(df.wage, X2).fit()\n",
    "fit_3 = fit = sm.GLS(df.wage, X3).fit()\n",
    "fit_4 = fit = sm.GLS(df.wage, X4).fit()\n",
    "fit_5 = fit = sm.GLS(df.wage, X5).fit()\n",
    "\n",
    "print(sm.stats.anova_lm(fit_1, fit_2, fit_3, fit_4, fit_5, typ=1))"
   ]
  },
  {
   "cell_type": "markdown",
   "metadata": {},
   "source": [
    "The $p$-value comparing the linear Model 1 to the quadratic Model 2 is\n",
    "essentially zero $(<10^{-32})$, indicating that a linear fit is not sufficient. Similarly\n",
    "the $p$-value comparing the quadratic Model 2 to the cubic Model 3\n",
    "is very low (0.0017), so the quadratic fit is also insufficient. The $p$-value\n",
    "comparing the cubic and degree-4 polynomials, Model 3 and Model 4, is approximately\n",
    "0.05 while the degree-5 polynomial Model 5 seems unnecessary\n",
    "because its $p$-value is 0.37. Hence, either a cubic or a quartic polynomial\n",
    "appear to provide a reasonable fit to the data, but lower- or higher-order\n",
    "models are not justified."
   ]
  },
  {
   "cell_type": "markdown",
   "metadata": {},
   "source": [
    "As an alternative to using hypothesis tests and ANOVA, we could choose\n",
    "the polynomial degree using cross-validation as we have in previous labs."
   ]
  },
  {
   "cell_type": "markdown",
   "metadata": {},
   "source": [
    "# Step functions\n",
    "In order to fit a step function, we use the `cut()` function:"
   ]
  },
  {
   "cell_type": "code",
   "execution_count": null,
   "metadata": {
    "collapsed": false
   },
   "outputs": [],
   "source": [
    "df_cut, bins = pd.cut(df.age, 4, retbins = True, right = True)\n",
    "df_cut.value_counts(sort = False)"
   ]
  },
  {
   "cell_type": "markdown",
   "metadata": {},
   "source": [
    "Here `cut()` automatically picked the cutpoints at 33.5, 49, and 64.5 years\n",
    "of age. We could also have specified our own cutpoints directly. Now let's create a set of dummy variables for use in the regression:"
   ]
  },
  {
   "cell_type": "code",
   "execution_count": null,
   "metadata": {
    "collapsed": false
   },
   "outputs": [],
   "source": [
    "df_steps = pd.concat([df.age, df_cut, df.wage], keys = ['age','age_cuts','wage'], axis = 1)\n",
    "\n",
    "# Create dummy variables for the age groups\n",
    "df_steps_dummies = pd.get_dummies(df_steps['age_cuts'])\n",
    "\n",
    "# Statsmodels requires explicit adding of a constant (intercept)\n",
    "df_steps_dummies = sm.add_constant(df_steps_dummies)\n",
    "\n",
    "# Drop the (17.938, 33.5] category\n",
    "df_steps_dummies = df_steps_dummies.drop(df_steps_dummies.columns[1], axis = 1)\n",
    "\n",
    "df_steps_dummies.head(5)"
   ]
  },
  {
   "cell_type": "markdown",
   "metadata": {},
   "source": [
    "An now to fit the models! We dropped the `age<33.5` category, so the intercept coefficient of\n",
    "\\$94,160 can be interpreted as the average salary for those under 33.5 years\n",
    "of age. The other coefficients can be interpreted as the average additional\n",
    "salary for those in the other age groups. "
   ]
  },
  {
   "cell_type": "code",
   "execution_count": null,
   "metadata": {
    "collapsed": false
   },
   "outputs": [],
   "source": [
    "fit3 = sm.GLM(df_steps.wage, df_steps_dummies).fit()\n",
    "fit3.summary().tables[1]"
   ]
  },
  {
   "cell_type": "markdown",
   "metadata": {},
   "source": [
    "We can produce predictions\n",
    "and plots just as we did in the case of the polynomial fit."
   ]
  },
  {
   "cell_type": "code",
   "execution_count": null,
   "metadata": {
    "collapsed": false
   },
   "outputs": [],
   "source": [
    "# Put the test data in the same bins as the training data.\n",
    "bin_mapping = np.digitize(age_grid.ravel(), bins)\n",
    "\n",
    "# Get dummies, drop first dummy category, add constant\n",
    "X_test2 = sm.add_constant(pd.get_dummies(bin_mapping).drop(1, axis = 1))\n",
    "\n",
    "# Predict the value of the generated ages using the linear model\n",
    "pred2 = fit3.predict(X_test2)\n",
    "\n",
    "# And the logistic model\n",
    "clf2 = sm.GLM(y, df_steps_dummies,\n",
    "              family=sm.families.Binomial(sm.families.links.logit))\n",
    "res2 = clf2.fit()\n",
    "pred3 = res2.predict(X_test2)\n",
    "\n",
    "# Plot\n",
    "fig, (ax1, ax2) = plt.subplots(1,2, figsize = (12,5))\n",
    "fig.suptitle('Piecewise Constant', fontsize = 14)\n",
    "\n",
    "# Scatter plot with polynomial regression line\n",
    "ax1.scatter(df.age, df.wage, facecolor = 'None', edgecolor = 'k', alpha = 0.3)\n",
    "ax1.plot(age_grid, pred2, c = 'b')\n",
    "\n",
    "ax1.set_xlabel('age')\n",
    "ax1.set_ylabel('wage')\n",
    "ax1.set_ylim(ymin = 0)\n",
    "\n",
    "# Logistic regression showing Pr(wage>250) for the age range.\n",
    "ax2.plot(np.arange(df.age.min(), df.age.max()).reshape(-1,1), pred3, color = 'b')\n",
    "\n",
    "# Rug plot showing the distribution of wage>250 in the training data.\n",
    "# 'True' on the top, 'False' on the bottom.\n",
    "ax2.scatter(df.age, y/5, s = 30, c = 'grey', marker = '|', alpha = 0.7)\n",
    "\n",
    "ax2.set_ylim(-0.01, 0.21)\n",
    "ax2.set_xlabel('age')\n",
    "ax2.set_ylabel('Pr(wage>250|age)')"
   ]
  },
  {
   "cell_type": "markdown",
   "metadata": {},
   "source": [
    "# Getting credit\n",
    "\n",
    "To get credit for this lab, post your responses to the following questions:\n",
    " - What is one real-world example where you might try polynomial regression? Why?\n",
    " - What is one real-world example where you might try using a step function? Why?\n",
    " \n",
    "to [Moodle](https://moodle.smith.edu/mod/quiz/view.php?id=262426)."
   ]
  }
 ],
 "metadata": {
  "kernelspec": {
   "display_name": "Python 3",
   "language": "python",
   "name": "python3"
  },
  "language_info": {
   "codemirror_mode": {
    "name": "ipython",
    "version": 3
   },
   "file_extension": ".py",
   "mimetype": "text/x-python",
   "name": "python",
   "nbconvert_exporter": "python",
   "pygments_lexer": "ipython3",
   "version": "3.6.0"
  }
 },
 "nbformat": 4,
 "nbformat_minor": 0
}
