{
 "cells": [
  {
   "cell_type": "markdown",
   "metadata": {},
   "source": [
    "This lab on Support Vector Machines in R is an abbreviated version of p. 359-366 of \"Introduction to Statistical Learning with Applications in R\" by Gareth James, Daniela Witten, Trevor Hastie and Robert Tibshirani. It was re-implemented in Fall 2016 in `tidyverse` format by Amelia McNamara and R. Jordan Crouser at Smith College.\n",
    "\n",
    "# 9.6 Lab: Support Vector Machines\n",
    "\n",
    "In this lab, we'll use the `e1071` library in `R` to demonstrate the support vector classifier\n",
    "and the SVM. Another option is the `LiblineaR` library, which is particularly useful for\n",
    "very large linear problems.\n",
    "\n",
    "# 9.6.1 Support Vector Classifier\n",
    "The `e1071` library contains implementations for a number of statistical\n",
    "learning methods. In particular, the `svm()` function can be used to fit a\n",
    "support vector classifier when the argument `kernel=\"linear\"` is used. This\n",
    "function uses a slightly different formulation of the equations we saw in lecture to build the\n",
    "support vector classifier. A `cost` argument allows us to specify the cost of\n",
    "a violation to the margin. When the `cost` argument is **small**, then the margins\n",
    "will be wide and many support vectors will be on the margin or will\n",
    "violate the margin. When the `cost` argument is large, then the margins will\n",
    "be narrow and there will be few support vectors on the margin or violating\n",
    "the margin.\n",
    "\n",
    "We can use the `svm()` function to fit the support vector classifier for a\n",
    "given value of the `cost` parameter. Here we demonstrate the use of this\n",
    "function on a two-dimensional example so that we can plot the resulting\n",
    "decision boundary. Let's start by generating a set of observations, which belong\n",
    "to two classes:"
   ]
  },
  {
   "cell_type": "code",
   "execution_count": null,
   "metadata": {
    "collapsed": false
   },
   "outputs": [],
   "source": [
    "set.seed(1)\n",
    "x = matrix(rnorm(20*2), ncol=2)\n",
    "class = c(rep(-1,10), rep(1,10))\n",
    "x[class == 1,] = x[class == 1,] + 1"
   ]
  },
  {
   "cell_type": "markdown",
   "metadata": {},
   "source": [
    "Let's plot the data to see whether the classes are linearly separable:"
   ]
  },
  {
   "cell_type": "code",
   "execution_count": null,
   "metadata": {
    "collapsed": false
   },
   "outputs": [],
   "source": [
    "library(ggplot2)\n",
    "ggplot(data.frame(x), aes(X1, X2, colour = factor(class))) +\n",
    "  geom_point()"
   ]
  },
  {
   "cell_type": "markdown",
   "metadata": {},
   "source": [
    "Nope; not linear. Next, we fit the support vector classifier. Note that in order\n",
    "for the `svm()` function to perform **classification** (as opposed to SVM-based\n",
    "regression), we must encode the response as a **factor**:"
   ]
  },
  {
   "cell_type": "code",
   "execution_count": null,
   "metadata": {
    "collapsed": false
   },
   "outputs": [],
   "source": [
    "training_data = data.frame(x = x, class = as.factor(class))\n",
    "\n",
    "library(e1071)\n",
    "svmfit = svm(class~., \n",
    "             data = training_data, \n",
    "             kernel = \"linear\", \n",
    "             cost = 10, \n",
    "             scale = FALSE)"
   ]
  },
  {
   "cell_type": "markdown",
   "metadata": {},
   "source": [
    "The argument `scale = FALSE` tells the `svm()` function not to scale each feature\n",
    "to have mean zero or standard deviation one; depending on the application,\n",
    "we might prefer to use `scale = TRUE`. We can now plot the support vector classifier by calling the `plot()` function on the output of the call to `svm()`, as well as the data used in the call to `svm()`:"
   ]
  },
  {
   "cell_type": "code",
   "execution_count": null,
   "metadata": {
    "collapsed": false
   },
   "outputs": [],
   "source": [
    "plot(svmfit, training_data)"
   ]
  },
  {
   "cell_type": "markdown",
   "metadata": {},
   "source": [
    "The region of feature space that will be assigned to the −1 class is shown in\n",
    "light blue, and the region that will be assigned to the +1 class is shown in\n",
    "purple. The decision boundary between the two classes is linear (because we\n",
    "used the argument `kernel = \"linear\"`), though due to the way in which the\n",
    "plotting function is implemented in this library the decision boundary looks\n",
    "somewhat jagged in the plot. We see that in this case only one observation\n",
    "is misclassified. (Note also that the second feature is plotted on the x-axis\n",
    "and the first feature is plotted on the y-axis, in contrast to the behavior of\n",
    "the usual `plot()` function in `R`.) \n",
    "\n",
    "The support vectors are plotted as crosses\n",
    "and the remaining observations are plotted as circles; we see here that there\n",
    "are seven support vectors. We can determine their identities as follows:"
   ]
  },
  {
   "cell_type": "code",
   "execution_count": null,
   "metadata": {
    "collapsed": false
   },
   "outputs": [],
   "source": [
    "svmfit$index"
   ]
  },
  {
   "cell_type": "markdown",
   "metadata": {},
   "source": [
    "We can obtain some basic information about the support vector classifier\n",
    "fit using the `summary()` command:"
   ]
  },
  {
   "cell_type": "code",
   "execution_count": null,
   "metadata": {
    "collapsed": false
   },
   "outputs": [],
   "source": [
    "summary(svmfit)"
   ]
  },
  {
   "cell_type": "markdown",
   "metadata": {},
   "source": [
    "This tells us, for instance, that a linear kernel was used with `cost = 10`, and\n",
    "that there were seven support vectors, four in one class and three in the\n",
    "other. What if we instead used a smaller value of the `cost` parameter?"
   ]
  },
  {
   "cell_type": "code",
   "execution_count": null,
   "metadata": {
    "collapsed": false
   },
   "outputs": [],
   "source": [
    "svmfit = svm(class~., \n",
    "             data = training_data, \n",
    "             kernel = \"linear\", \n",
    "             cost = 0.1, \n",
    "             scale = FALSE)\n",
    "\n",
    "plot(svmfit, training_data)\n",
    "svmfit$index"
   ]
  },
  {
   "cell_type": "markdown",
   "metadata": {},
   "source": [
    "Now that a smaller value of the `cost` parameter is being used, we obtain a\n",
    "larger number of support vectors, because the margin is now **wider**. Unfortunately,\n",
    "the `svm()` function does not explicitly output the coefficients of\n",
    "the linear decision boundary obtained when the support vector classifier is\n",
    "fit, nor does it output the width of the margin.\n",
    "\n",
    "The `e1071` library includes a built-in function, `tune()`, to perform cross-validation. By default, `tune()` performs **ten-fold cross-validation** on a set\n",
    "of models of interest. In order to use this function, we pass in relevant\n",
    "information about the set of models that are under consideration. The\n",
    "following command indicates that we want to compare SVMs with a linear\n",
    "kernel, using a range of values of the cost parameter:"
   ]
  },
  {
   "cell_type": "code",
   "execution_count": null,
   "metadata": {
    "collapsed": true
   },
   "outputs": [],
   "source": [
    "set.seed(1)\n",
    "tune_out = tune(svm, \n",
    "                class~., \n",
    "                data = training_data, \n",
    "                kernel = \"linear\", \n",
    "                ranges = list(cost = c(0.001, 0.01, 0.1, 1,5,10,100)))"
   ]
  },
  {
   "cell_type": "markdown",
   "metadata": {},
   "source": [
    "We can easily access the cross-validation errors for each of these models\n",
    "using the `summary()` command:"
   ]
  },
  {
   "cell_type": "code",
   "execution_count": null,
   "metadata": {
    "collapsed": false
   },
   "outputs": [],
   "source": [
    "summary(tune_out)"
   ]
  },
  {
   "cell_type": "markdown",
   "metadata": {},
   "source": [
    "The `tune()` function stores the best model obtained, which can be accessed as\n",
    "follows:"
   ]
  },
  {
   "cell_type": "code",
   "execution_count": null,
   "metadata": {
    "collapsed": false
   },
   "outputs": [],
   "source": [
    "bestmod = tune_out$best.model\n",
    "summary(bestmod)"
   ]
  },
  {
   "cell_type": "markdown",
   "metadata": {},
   "source": [
    "As usual, the `predict()` function can be used to predict the class label on a set of\n",
    "test observations, at any given value of the cost parameter. Let's\n",
    "generate a test data set:"
   ]
  },
  {
   "cell_type": "code",
   "execution_count": null,
   "metadata": {
    "collapsed": true
   },
   "outputs": [],
   "source": [
    "xtest = matrix(rnorm(20*2), ncol = 2)\n",
    "ytest = sample(c(-1,1), 20, rep = TRUE)\n",
    "xtest[ytest == 1,] = xtest[ytest == 1,] + 1\n",
    "test_data = data.frame(x = xtest, class = as.factor(ytest))"
   ]
  },
  {
   "cell_type": "markdown",
   "metadata": {},
   "source": [
    "Now we predict the class labels of these test observations. Here we use the\n",
    "best model obtained through cross-validation in order to make predictions:"
   ]
  },
  {
   "cell_type": "code",
   "execution_count": null,
   "metadata": {
    "collapsed": false
   },
   "outputs": [],
   "source": [
    "class_pred = predict(bestmod, test_data)\n",
    "table(predicted = class_pred, true = test_data$class)"
   ]
  },
  {
   "cell_type": "markdown",
   "metadata": {},
   "source": [
    "Thus, with this value of `cost`, 19 of the test observations are correctly\n",
    "classified. What if we had instead used `cost = 0.01`?"
   ]
  },
  {
   "cell_type": "code",
   "execution_count": null,
   "metadata": {
    "collapsed": false
   },
   "outputs": [],
   "source": [
    "svmfit = svm(class~., data = training_data, kernel = \"linear\", cost = .01, scale = FALSE)\n",
    "class_pred = predict(svmfit, test_data)\n",
    "table(predicted = class_pred, true = test_data$class)"
   ]
  },
  {
   "cell_type": "markdown",
   "metadata": {},
   "source": [
    "In this case one additional observation is misclassified.\n",
    "\n",
    "Now consider a situation in which the two classes are linearly separable.\n",
    "Then we can find a separating hyperplane using the `svm()` function. First we'll give our simulated data a little nudge so that they are linearly separable:"
   ]
  },
  {
   "cell_type": "code",
   "execution_count": null,
   "metadata": {
    "collapsed": false
   },
   "outputs": [],
   "source": [
    "x[class == 1,] = x[class == 1,] + 0.5\n",
    "ggplot(data.frame(x), aes(X1, X2, colour = factor(class))) +\n",
    "  geom_point()"
   ]
  },
  {
   "cell_type": "markdown",
   "metadata": {},
   "source": [
    "Now the observations are **just barely linearly** separable. We fit the support\n",
    "vector classifier and plot the resulting hyperplane, using a very large value\n",
    "of `cost` so that no observations are misclassified."
   ]
  },
  {
   "cell_type": "code",
   "execution_count": null,
   "metadata": {
    "collapsed": false
   },
   "outputs": [],
   "source": [
    "training_data2 = data.frame(x = x, class = as.factor(class))\n",
    "svmfit = svm(class~., data = training_data2, kernel = \"linear\", cost = 1e5)\n",
    "summary(svmfit)\n",
    "plot(svmfit, training_data2)"
   ]
  },
  {
   "cell_type": "markdown",
   "metadata": {},
   "source": [
    "No training errors were made and only three support vectors were used.\n",
    "However, we can see from the figure that the margin is very narrow (because\n",
    "the observations that are **not** support vectors, indicated as circles, are very close to the decision boundary). It seems likely that this model will perform\n",
    "poorly on test data. Let's try a smaller value of `cost`:"
   ]
  },
  {
   "cell_type": "code",
   "execution_count": null,
   "metadata": {
    "collapsed": false
   },
   "outputs": [],
   "source": [
    "svmfit = svm(class~., data = training_data2, kernel = \"linear\", cost = 1)\n",
    "summary(svmfit)\n",
    "plot(svmfit, training_data2)"
   ]
  },
  {
   "cell_type": "markdown",
   "metadata": {},
   "source": [
    "Using `cost = 1`, we misclassify a training observation, but we also obtain\n",
    "a much wider margin and make use of seven support vectors. It seems\n",
    "likely that this model will perform better on test data than the model with\n",
    "`cost = 1e5`.\n",
    "\n",
    "# 9.6.2 Support Vector Machine\n",
    "\n",
    "In order to fit an SVM using a **non-linear kernel**, we once again use the `svm()`\n",
    "function. However, now we use a different value of the parameter kernel.\n",
    "To fit an SVM with a polynomial kernel we use `kernel=\"polynomial\"`, and\n",
    "to fit an SVM with a radial kernel we use `kernel=\"radial\"`. In the former\n",
    "case we also use the `degree` argument to specify a degree for the polynomial\n",
    "kernel, and in the latter case we use `gamma` to specify a\n",
    "value of $\\gamma$ for the radial basis kernel.\n",
    "\n",
    "Let's generate some data with a non-linear class boundary:"
   ]
  },
  {
   "cell_type": "code",
   "execution_count": null,
   "metadata": {
    "collapsed": false
   },
   "outputs": [],
   "source": [
    "set.seed(1)\n",
    "x = matrix(rnorm(200*2), ncol = 2)\n",
    "x[1:100,] = x[1:100,]+2\n",
    "x[101:150,] = x[101:150,]-2\n",
    "class = c(rep(1,150),rep(2,50))\n",
    "nonlinear_data = data.frame(x = x, class = as.factor(class))\n",
    "\n",
    "ggplot(nonlinear_data, aes(x.1, x.2, colour = factor(class))) +\n",
    "  geom_point()"
   ]
  },
  {
   "cell_type": "markdown",
   "metadata": {},
   "source": [
    "See how one class is kind of stuck in the middle of another class? This suggests that we might want to use a **radial kernel** in our SVM. Now let's randomly split this data into training and testing groups, and then fit\n",
    "the training data using the `svm()` function with a radial kernel and $\\gamma = 1$:"
   ]
  },
  {
   "cell_type": "code",
   "execution_count": null,
   "metadata": {
    "collapsed": false
   },
   "outputs": [],
   "source": [
    "library(dplyr)\n",
    "\n",
    "nonlinear_train = nonlinear_data %>%\n",
    "  sample_frac(0.5)\n",
    "\n",
    "nonlinear_test = nonlinear_data %>%\n",
    "  setdiff(nonlinear_train)\n",
    "\n",
    "svmfit = svm(class~., data = nonlinear_train, kernel = \"radial\",  gamma = 1, cost = 1)\n",
    "plot(svmfit, nonlinear_train)"
   ]
  },
  {
   "cell_type": "markdown",
   "metadata": {},
   "source": [
    "Not too shabby! The plot shows that the resulting SVM has a decidedly non-linear\n",
    "boundary. We can see from the figure that there are a fair number of training errors\n",
    "in this SVM fit. If we increase the value of cost, we can reduce the number\n",
    "of training errors:"
   ]
  },
  {
   "cell_type": "code",
   "execution_count": null,
   "metadata": {
    "collapsed": false
   },
   "outputs": [],
   "source": [
    "svmfit = svm(class~., data = nonlinear_train, kernel = \"radial\", gamma = 1, cost = 1e5)\n",
    "plot(svmfit, nonlinear_train)"
   ]
  },
  {
   "cell_type": "markdown",
   "metadata": {},
   "source": [
    "However, this comes at the price of a more irregular decision boundary that seems to be at risk of overfitting the data. We can perform cross-validation using `tune()` to select the best choice of\n",
    "$\\gamma$ and cost for an SVM with a radial kernel:"
   ]
  },
  {
   "cell_type": "code",
   "execution_count": null,
   "metadata": {
    "collapsed": false
   },
   "outputs": [],
   "source": [
    "set.seed(1)\n",
    "tune_out = tune(svm, class~., data = nonlinear_train, kernel = \"radial\",\n",
    "                ranges = list(cost = c(0.1,1,10,100,1000), gamma = c(0.5,1,2,3,4)))\n",
    "bestmod = tune_out$best.model\n",
    "summary(bestmod)"
   ]
  },
  {
   "cell_type": "markdown",
   "metadata": {},
   "source": [
    "Therefore, the best choice of parameters involves `cost = 1` and `gamma = 2`. We\n",
    "can plot the resulting fit using the `plot()` function, and view the test set predictions for this model by applying the `predict()`\n",
    "function to the test data."
   ]
  },
  {
   "cell_type": "code",
   "execution_count": null,
   "metadata": {
    "collapsed": false
   },
   "outputs": [],
   "source": [
    "plot(bestmod, nonlinear_train)\n",
    "table(true = nonlinear_test$class, pred = predict(tune_out$best.model, newdata = nonlinear_test))"
   ]
  },
  {
   "cell_type": "markdown",
   "metadata": {},
   "source": [
    "90% of test observations are correctly classified by this SVM. Not bad!\n",
    "\n",
    "# 9.6.3 ROC Curves\n",
    "\n",
    "The `ROCR` package can be used to produce ROC curves such as those we saw in lecture. We first write a short function to plot an ROC curve\n",
    "given a vector containing a numerical score for each observation, `pred`, and\n",
    "a vector containing the class label for each observation, `truth`:"
   ]
  },
  {
   "cell_type": "code",
   "execution_count": null,
   "metadata": {
    "collapsed": false
   },
   "outputs": [],
   "source": [
    "library(ROCR)\n",
    "rocplot = function(pred, truth, ...){\n",
    "   predob = prediction(pred, truth)\n",
    "   perf = performance(predob, \"tpr\", \"fpr\")\n",
    "   plot(perf,...)}"
   ]
  },
  {
   "cell_type": "markdown",
   "metadata": {},
   "source": [
    "SVMs and support vector classifiers output class labels for each observation.\n",
    "However, it is also possible to obtain fitted values for each observation,\n",
    "which are the numerical scores used to obtain the class labels. For instance,\n",
    "in the case of a support vector classifier, the fitted value for an observation\n",
    "$X = (X_1,X_2, . . .,X_p)^T$ takes the form $\\hat\\beta_0 + \\hat\\beta_1X_1 + \\hat\\beta_2X_2 + . . . + \\hat\\beta_pX_p$.\n",
    "\n",
    "For an SVM with a non-linear kernel, the equation that yields the fitted\n",
    "value is given in (9.23) on p. 352 of the ISLR book. In essence, the sign of the fitted value determines\n",
    "on which side of the decision boundary the observation lies. Therefore, the\n",
    "relationship between the fitted value and the class prediction for a given\n",
    "observation is simple: if the fitted value exceeds zero then the observation\n",
    "is assigned to one class, and if it is less than zero than it is assigned to the\n",
    "other.\n",
    "\n",
    "In order to obtain the fitted values for a given SVM model fit, we\n",
    "use `decision.values=TRUE` when fitting `svm()`. Then the `predict()` function\n",
    "will output the fitted values. Let's fit models using the $\\gamma$ selected by cross-validation, and a higher value, which will produce a more flexible fit:"
   ]
  },
  {
   "cell_type": "code",
   "execution_count": null,
   "metadata": {
    "collapsed": true
   },
   "outputs": [],
   "source": [
    "svmfit_opt = svm(class~., data = nonlinear_train, kernel = \"radial\", \n",
    "                 gamma = 2, cost = 1, decision.values = TRUE)\n",
    "\n",
    "svmfit_flex = svm(class~., data = nonlinear_train, kernel = \"radial\", \n",
    "                  gamma = 50, cost = 1, decision.values = TRUE)"
   ]
  },
  {
   "cell_type": "markdown",
   "metadata": {},
   "source": [
    "Now we can produce the ROC plot to see how the models perform on both the training and the test data:"
   ]
  },
  {
   "cell_type": "code",
   "execution_count": null,
   "metadata": {
    "collapsed": false
   },
   "outputs": [],
   "source": [
    "par(mfrow = c(1,2))\n",
    "\n",
    "# Plot optimal parameter model's performance on training data\n",
    "fitted_opt_train = attributes(predict(svmfit_opt, nonlinear_train, \n",
    "                                      decision.values = TRUE))$decision.values\n",
    "rocplot(fitted_opt_train, nonlinear_train$class, main = \"Training Data\")\n",
    "\n",
    "# Add more flexible model's performance to the plot\n",
    "fitted_flex_train = attributes(predict(svmfit_flex, nonlinear_train,\n",
    "                                       decision.values = TRUE))$decision.values\n",
    "rocplot(fitted_flex_train, nonlinear_train$class, add = TRUE, col = \"red\")\n",
    "\n",
    "# Plot optimal parameter model's performance on test data\n",
    "fitted_opt_test = attributes(predict(svmfit_opt, nonlinear_test, \n",
    "                                     decision.values = TRUE))$decision.values\n",
    "rocplot(fitted_opt_test, nonlinear_test$class, main = \"Test Data\")\n",
    "\n",
    "# Add more flexible model's performance to the plot\n",
    "fitted_flex_test = attributes(predict(svmfit_flex, nonlinear_test, \n",
    "                                      decision.values = TRUE))$decision.values\n",
    "rocplot(fitted_flex_test, nonlinear_test$class, add = TRUE, col = \"red\")"
   ]
  },
  {
   "cell_type": "markdown",
   "metadata": {},
   "source": [
    "# 9.6.4 SVM with Multiple Classes\n",
    "\n",
    "If the response is a factor containing more than two levels, then the ${\\tt svm()}$\n",
    "function will perform multi-class classification using the one-versus-one approach.\n",
    "We explore that setting here by generating a third class of observations:"
   ]
  },
  {
   "cell_type": "code",
   "execution_count": null,
   "metadata": {
    "collapsed": false
   },
   "outputs": [],
   "source": [
    "x = rbind(x, matrix(rnorm(50*2), ncol = 2))\n",
    "class = c(class, rep(0,50))\n",
    "x[class == 0,2] = x[class == 0,2]+2\n",
    "data_3_classes = data.frame(x = x, class = as.factor(class))\n",
    "\n",
    "ggplot(data_3_classes, aes(x.1, x.2, colour = factor(class))) +\n",
    "  geom_point()"
   ]
  },
  {
   "cell_type": "markdown",
   "metadata": {},
   "source": [
    "Fitting an SVM to multiclass data uses identical syntax to fitting a simple two-class model:"
   ]
  },
  {
   "cell_type": "code",
   "execution_count": null,
   "metadata": {
    "collapsed": false
   },
   "outputs": [],
   "source": [
    "svmfit = svm(class~., data = data_3_classes, kernel = \"radial\", cost = 10, gamma = 1)\n",
    "plot(svmfit, data_3_classes)"
   ]
  },
  {
   "cell_type": "markdown",
   "metadata": {},
   "source": [
    "The `e1071` library can also be used to perform support vector regression,\n",
    "if the response vector that is passed in to `svm()` is numerical rather than a\n",
    "factor.\n",
    "\n",
    "# Application to Handwritten Letter Data\n",
    "\n",
    "We now examine [`Optical Recognition of Handwritten Digits Data Set`](http://archive.ics.uci.edu/ml/datasets/optical+recognition+of+handwritten+digits), which contains 5,620 samples of handwritten digits 0..9. You can use these links to download the [training data](http://archive.ics.uci.edu/ml/machine-learning-databases/optdigits/optdigits.tra) and [test data](http://archive.ics.uci.edu/ml/machine-learning-databases/optdigits/optdigits.tes), and then we'll load them into R:"
   ]
  },
  {
   "cell_type": "code",
   "execution_count": null,
   "metadata": {
    "collapsed": false
   },
   "outputs": [],
   "source": [
    "digits_train = read.csv(\"optdigits.tra\", header = FALSE)\n",
    "digits_train = data.frame(x = digits_train[,-1], y = as.factor(digits_train[,65]))\n",
    "\n",
    "digits_test = read.csv(\"optdigits.tes\", header = FALSE)\n",
    "digits_test = data.frame(x = digits_test[,-1], y = as.factor(digits_test[,65]))"
   ]
  },
  {
   "cell_type": "markdown",
   "metadata": {
    "collapsed": true
   },
   "source": [
    "Let's take a look at the dimensions of this dataset:"
   ]
  },
  {
   "cell_type": "code",
   "execution_count": null,
   "metadata": {
    "collapsed": false
   },
   "outputs": [],
   "source": [
    "dim(digits_train)\n",
    "dim(digits_test)"
   ]
  },
  {
   "cell_type": "markdown",
   "metadata": {},
   "source": [
    "This data set consists of preprocessed images of handwriting samples gathered from 43 different people. Each image was converted into an 8x8 matrix (64 pixels), which was then flattened into a vector of 64 numeric values. The final column contains the class label for each digit.\n",
    "\n",
    "The training and test sets consist of 3,823 and 1,797 observations respectively. Let's see what one of these digits looks like:"
   ]
  },
  {
   "cell_type": "code",
   "execution_count": null,
   "metadata": {
    "collapsed": false
   },
   "outputs": [],
   "source": [
    "m = matrix(unlist(digits_train[1,-1]),8,8)\n",
    "image(m, axes = FALSE, col = grey(seq(0, 1, length = 256)))"
   ]
  },
  {
   "cell_type": "markdown",
   "metadata": {},
   "source": [
    "That's a pretty messy digit. Let's peek at the true class:"
   ]
  },
  {
   "cell_type": "code",
   "execution_count": null,
   "metadata": {
    "collapsed": false
   },
   "outputs": [],
   "source": [
    "digits_train[1,65]"
   ]
  },
  {
   "cell_type": "markdown",
   "metadata": {},
   "source": [
    "Phew, looks like our SVM has its work cut out for it! Let's start with a linear kernel to see how we do:"
   ]
  },
  {
   "cell_type": "code",
   "execution_count": null,
   "metadata": {
    "collapsed": false
   },
   "outputs": [],
   "source": [
    "digits_svm = svm(y~., data = digits_train, kernel = \"linear\", cost = 10, scale = FALSE)\n",
    "table(digits_svm$fitted, digits_train$y)"
   ]
  },
  {
   "cell_type": "markdown",
   "metadata": {},
   "source": [
    "We see that there are **no training errors**. In fact, this is not surprising,\n",
    "because the large number of variables relative to the number of observations\n",
    "implies that it is easy to find hyperplanes that fully separate the classes. We\n",
    "are most interested not in the support vector classifier’s performance on the\n",
    "training observations, but rather its performance on the test observations:"
   ]
  },
  {
   "cell_type": "code",
   "execution_count": null,
   "metadata": {
    "collapsed": false
   },
   "outputs": [],
   "source": [
    "pred = predict(digits_svm, newdata = digits_test)\n",
    "table(pred, digits_test$y)"
   ]
  },
  {
   "cell_type": "markdown",
   "metadata": {},
   "source": [
    "We see that using `cost = 10` yields just 40 test set errors on this data. Now try using the `tune()` function to select an optimal value for `cost`, and refit the model using that value. Consider values in the range 0.01 to 100:"
   ]
  },
  {
   "cell_type": "code",
   "execution_count": null,
   "metadata": {
    "collapsed": false
   },
   "outputs": [],
   "source": [
    "# Your code here"
   ]
  },
  {
   "cell_type": "markdown",
   "metadata": {},
   "source": [
    "To get credit for this lab, report your optimal values and comment on your final model's performance on Moodle: https://moodle.smith.edu/mod/quiz/view.php?id=266457"
   ]
  }
 ],
 "metadata": {
  "anaconda-cloud": {},
  "kernelspec": {
   "display_name": "R",
   "language": "R",
   "name": "ir"
  },
  "language_info": {
   "codemirror_mode": "r",
   "file_extension": ".r",
   "mimetype": "text/x-r-source",
   "name": "R",
   "pygments_lexer": "r",
   "version": "3.4.1"
  }
 },
 "nbformat": 4,
 "nbformat_minor": 1
}
