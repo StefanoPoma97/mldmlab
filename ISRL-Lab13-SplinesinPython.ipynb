{
 "cells": [
  {
   "cell_type": "markdown",
   "metadata": {},
   "source": [
    "This lab on Splines and GAMs is a python adaptation of p. 293-297 of \"Introduction to Statistical Learning with Applications in R\" by Gareth James, Daniela Witten, Trevor Hastie and Robert Tibshirani. It was originally written by <a href = \"https://github.com/JWarmenhoven\">Jordi Warmenhoven</a>, and was adapted by R. Jordan Crouser at Smith College in Spring 2016. "
   ]
  },
  {
   "cell_type": "code",
   "execution_count": null,
   "metadata": {
    "collapsed": false
   },
   "outputs": [],
   "source": [
    "import pandas as pd\n",
    "import numpy as np\n",
    "import matplotlib as mpl\n",
    "import matplotlib.pyplot as plt\n",
    "\n",
    "from sklearn.preprocessing import PolynomialFeatures\n",
    "import statsmodels.api as sm\n",
    "import statsmodels.formula.api as smf\n",
    "\n",
    "%matplotlib inline\n",
    "\n",
    "# Read in the data\n",
    "df = pd.read_csv('Wage.csv')\n",
    "\n",
    "# Generate a sequence of age values spanning the range\n",
    "age_grid = np.arange(df.age.min(), df.age.max()).reshape(-1,1)"
   ]
  },
  {
   "cell_type": "markdown",
   "metadata": {},
   "source": [
    "# 7.8.2 Splines\n",
    "\n",
    "In order to fit regression splines in python, we use the ${\\tt dmatrix}$ module from the ${\\tt patsy}$ library. In lecture, we saw that regression splines can be fit by constructing an appropriate matrix of basis functions. The ${\\tt bs()}$ function generates the entire matrix of basis functions for splines with the specified set of knots.  Fitting ${\\tt wage}$ to ${\\tt age}$ using a regression spline is simple:"
   ]
  },
  {
   "cell_type": "code",
   "execution_count": null,
   "metadata": {
    "collapsed": false
   },
   "outputs": [],
   "source": [
    "from patsy import dmatrix\n",
    "\n",
    "# Specifying 3 knots\n",
    "transformed_x1 = dmatrix(\"bs(df.age, knots=(25,40,60), degree=3, include_intercept=False)\",\n",
    "                        {\"df.age\": df.age}, return_type='dataframe')\n",
    "\n",
    "# Build a regular linear model from the splines\n",
    "fit1 = sm.GLM(df.wage, transformed_x1).fit()\n",
    "fit1.params"
   ]
  },
  {
   "cell_type": "markdown",
   "metadata": {},
   "source": [
    "Here we have prespecified knots at ages 25, 40, and 60. This produces a\n",
    "spline with six basis functions. (Recall that a cubic spline with three knots\n",
    "has seven degrees of freedom; these degrees of freedom are used up by an\n",
    "intercept, plus six basis functions.) We could also use the ${\\tt df}$ option to\n",
    "produce a spline with knots at uniform quantiles of the data:"
   ]
  },
  {
   "cell_type": "code",
   "execution_count": null,
   "metadata": {
    "collapsed": false
   },
   "outputs": [],
   "source": [
    "# Specifying 6 degrees of freedom \n",
    "transformed_x2 = dmatrix(\"bs(df.age, df=6, include_intercept=False)\",\n",
    "                        {\"df.age\": df.age}, return_type='dataframe')\n",
    "fit2 = sm.GLM(df.wage, transformed_x2).fit()\n",
    "fit2.params"
   ]
  },
  {
   "cell_type": "markdown",
   "metadata": {},
   "source": [
    "In this case python chooses knots which correspond\n",
    "to the 25th, 50th, and 75th percentiles of ${\\tt age}$. The function ${\\tt bs()}$ also has\n",
    "a ${\\tt degree}$ argument, so we can fit splines of any degree, rather than the\n",
    "default degree of 3 (which yields a cubic spline).\n",
    "\n",
    "In order to instead fit a natural spline, we use the ${\\tt cr()}$ function. Here\n",
    "we fit a natural spline with four degrees of freedom:"
   ]
  },
  {
   "cell_type": "code",
   "execution_count": null,
   "metadata": {
    "collapsed": false
   },
   "outputs": [],
   "source": [
    "# Specifying 4 degrees of freedom\n",
    "transformed_x3 = dmatrix(\"cr(df.age, df=4)\", {\"df.age\": df.age}, return_type='dataframe')\n",
    "fit3 = sm.GLM(df.wage, transformed_x3).fit()\n",
    "fit3.params"
   ]
  },
  {
   "cell_type": "markdown",
   "metadata": {},
   "source": [
    "As with the ${\\tt bs()}$ function, we could instead specify the knots directly using\n",
    "the ${\\tt knots}$ option.\n",
    "\n",
    "Let's see how these three models stack up:"
   ]
  },
  {
   "cell_type": "code",
   "execution_count": null,
   "metadata": {
    "collapsed": false
   },
   "outputs": [],
   "source": [
    "# Generate a sequence of age values spanning the range\n",
    "age_grid = np.arange(df.age.min(), df.age.max()).reshape(-1,1)\n",
    "\n",
    "# Make some predictions\n",
    "pred1 = fit1.predict(dmatrix(\"bs(age_grid, knots=(25,40,60), include_intercept=False)\",\n",
    "                             {\"age_grid\": age_grid}, return_type='dataframe'))\n",
    "pred2 = fit2.predict(dmatrix(\"bs(age_grid, df=6, include_intercept=False)\",\n",
    "                             {\"age_grid\": age_grid}, return_type='dataframe'))\n",
    "pred3 = fit3.predict(dmatrix(\"cr(age_grid, df=4)\", {\"age_grid\": age_grid}, return_type='dataframe'))\n",
    "\n",
    "# Plot the splines and error bands\n",
    "plt.scatter(df.age, df.wage, facecolor='None', edgecolor='k', alpha=0.1)\n",
    "plt.plot(age_grid, pred1, color='b', label='Specifying three knots')\n",
    "plt.plot(age_grid, pred2, color='r', label='Specifying df=6')\n",
    "plt.plot(age_grid, pred3, color='g', label='Natural spline df=4')\n",
    "[plt.vlines(i , 0, 350, linestyles='dashed', lw=2, colors='b') for i in [25,40,60]]\n",
    "plt.legend()\n",
    "plt.xlim(15,85)\n",
    "plt.ylim(0,350)\n",
    "plt.xlabel('age')\n",
    "plt.ylabel('wage')"
   ]
  },
  {
   "cell_type": "markdown",
   "metadata": {},
   "source": [
    "To get credit for this lab, post your answer to thew following question:\n",
    "\n",
    "* How would you choose whether to use a polynomial, step, or spline function for each predictor when building a GAM?\n",
    "\n",
    "to Moodle: https://moodle.smith.edu/mod/quiz/view.php?id=262963"
   ]
  }
 ],
 "metadata": {
  "kernelspec": {
   "display_name": "Python 3",
   "language": "python",
   "name": "python3"
  },
  "language_info": {
   "codemirror_mode": {
    "name": "ipython",
    "version": 3
   },
   "file_extension": ".py",
   "mimetype": "text/x-python",
   "name": "python",
   "nbconvert_exporter": "python",
   "pygments_lexer": "ipython3",
   "version": "3.6.0"
  }
 },
 "nbformat": 4,
 "nbformat_minor": 0
}
