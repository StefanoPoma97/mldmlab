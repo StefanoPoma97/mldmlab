{
 "cells": [
  {
   "cell_type": "markdown",
   "metadata": {},
   "source": [
    "<H1>Introduction to Python</H1>"
   ]
  },
  {
   "cell_type": "markdown",
   "metadata": {},
   "source": [
    "We will be using the Jupyter notebook for many activities this semester. Every notebook has an associated language called the \"kernel\". We will be using in the Python 3 kernel from the IPython project.\n",
    "\n",
    "For more information on how to use the notebook, please read the following (which is also a notebook written by a Bryn Mawr student):\n",
    "\n",
    "* https://athena.brynmawr.edu/jupyter/hub/dblank/public/Jupyter%20Notebook%20Users%20Manual.ipynb"
   ]
  },
  {
   "cell_type": "markdown",
   "metadata": {},
   "source": [
    "# 1. Python"
   ]
  },
  {
   "cell_type": "markdown",
   "metadata": {},
   "source": [
    "Python is a programming language that has been under development for over 25 years [1].\n",
    "\n",
    "This Chapter will not cover everything in Python. If you would like, please consider the following resources:\n",
    "\n",
    "**Getting Started with Python**:\n",
    "\n",
    "* https://www.codecademy.com/learn/python\n",
    "* http://docs.python-guide.org/en/latest/intro/learning/\n",
    "* https://learnpythonthehardway.org/book/\n",
    "* https://www.codementor.io/learn-python-online\n",
    "\n",
    "**Learning Python in Notebooks**:\n",
    "\n",
    "* http://mbakker7.github.io/exploratory_computing_with_python/\n",
    "\n",
    "This is handy to always have available for reference:\n",
    "\n",
    "**Python Reference**:\n",
    "\n",
    "* https://docs.python.org/3.5/reference/\n"
   ]
  },
  {
   "cell_type": "markdown",
   "metadata": {},
   "source": [
    "## 1.1 Statements"
   ]
  },
  {
   "cell_type": "markdown",
   "metadata": {},
   "source": [
    "Python is an [imperative language](https://en.wikipedia.org/wiki/Imperative_programming) based on [statements](https://en.wikipedia.org/wiki/Statement_(computer_science&#41;). That is, programs in Python consists of lines composed of statements. A statement can be:\n",
    "\n",
    "* a single expression\n",
    "* an assignment\n",
    "* a function call\n",
    "* a function definition\n",
    "* a statement; statement"
   ]
  },
  {
   "cell_type": "markdown",
   "metadata": {},
   "source": [
    "### 1.1.1 Expressions"
   ]
  },
  {
   "cell_type": "markdown",
   "metadata": {},
   "source": [
    "* Numbers\n",
    "  * integers\n",
    "  * floating-point\n",
    "  * complex numbers\n",
    "* strings\n",
    "* boolean values\n",
    "* lists and dicts"
   ]
  },
  {
   "cell_type": "markdown",
   "metadata": {},
   "source": [
    "#### 1.1.1.1 Numbers"
   ]
  },
  {
   "cell_type": "code",
   "execution_count": 1,
   "metadata": {},
   "outputs": [
    {
     "data": {
      "text/plain": [
       "1"
      ]
     },
     "execution_count": 1,
     "metadata": {},
     "output_type": "execute_result"
    }
   ],
   "source": [
    "1"
   ]
  },
  {
   "cell_type": "code",
   "execution_count": 2,
   "metadata": {},
   "outputs": [
    {
     "data": {
      "text/plain": [
       "2"
      ]
     },
     "execution_count": 2,
     "metadata": {},
     "output_type": "execute_result"
    }
   ],
   "source": [
    "2"
   ]
  },
  {
   "cell_type": "code",
   "execution_count": 3,
   "metadata": {},
   "outputs": [
    {
     "data": {
      "text/plain": [
       "-3"
      ]
     },
     "execution_count": 3,
     "metadata": {},
     "output_type": "execute_result"
    }
   ],
   "source": [
    "-3"
   ]
  },
  {
   "cell_type": "code",
   "execution_count": 4,
   "metadata": {},
   "outputs": [
    {
     "data": {
      "text/plain": [
       "2"
      ]
     },
     "execution_count": 4,
     "metadata": {},
     "output_type": "execute_result"
    }
   ],
   "source": [
    "1\n",
    "2"
   ]
  },
  {
   "cell_type": "code",
   "execution_count": 5,
   "metadata": {},
   "outputs": [
    {
     "data": {
      "text/plain": [
       "3.14"
      ]
     },
     "execution_count": 5,
     "metadata": {},
     "output_type": "execute_result"
    }
   ],
   "source": [
    "3.14"
   ]
  },
  {
   "cell_type": "markdown",
   "metadata": {},
   "source": [
    "#### 1.1.1.2 Strings"
   ]
  },
  {
   "cell_type": "code",
   "execution_count": 6,
   "metadata": {},
   "outputs": [
    {
     "data": {
      "text/plain": [
       "'apple'"
      ]
     },
     "execution_count": 6,
     "metadata": {},
     "output_type": "execute_result"
    }
   ],
   "source": [
    "'apple'"
   ]
  },
  {
   "cell_type": "code",
   "execution_count": 7,
   "metadata": {},
   "outputs": [
    {
     "data": {
      "text/plain": [
       "'apple'"
      ]
     },
     "execution_count": 7,
     "metadata": {},
     "output_type": "execute_result"
    }
   ],
   "source": [
    "\"apple\""
   ]
  },
  {
   "cell_type": "markdown",
   "metadata": {},
   "source": [
    "Notice that the Out might not match exactly the In. In the above example, we used double-quotes but the representation of the string used single-quotes. Python will default to showing representations of values using single-quotes, if it can."
   ]
  },
  {
   "cell_type": "markdown",
   "metadata": {},
   "source": [
    "#### 1.1.1.3 Boolean Values"
   ]
  },
  {
   "cell_type": "code",
   "execution_count": 8,
   "metadata": {},
   "outputs": [
    {
     "data": {
      "text/plain": [
       "True"
      ]
     },
     "execution_count": 8,
     "metadata": {},
     "output_type": "execute_result"
    }
   ],
   "source": [
    "True"
   ]
  },
  {
   "cell_type": "code",
   "execution_count": 9,
   "metadata": {},
   "outputs": [
    {
     "data": {
      "text/plain": [
       "False"
      ]
     },
     "execution_count": 9,
     "metadata": {},
     "output_type": "execute_result"
    }
   ],
   "source": [
    "False"
   ]
  },
  {
   "cell_type": "markdown",
   "metadata": {},
   "source": [
    "#### 1.1.1.4 Lists and Dicts"
   ]
  },
  {
   "cell_type": "markdown",
   "metadata": {},
   "source": [
    "Python has three very useful data structures built into the language:\n",
    "\n",
    "* dictionaries (hash tables): {}\n",
    "* lists: []\n",
    "* tuples: (item, ...)\n",
    "\n",
    "List is a mutable list of items. Tuple is a read-only data structure (immutable)."
   ]
  },
  {
   "cell_type": "code",
   "execution_count": 10,
   "metadata": {},
   "outputs": [
    {
     "data": {
      "text/plain": [
       "[1, 2, 3]"
      ]
     },
     "execution_count": 10,
     "metadata": {},
     "output_type": "execute_result"
    }
   ],
   "source": [
    "[1, 2, 3]"
   ]
  },
  {
   "cell_type": "code",
   "execution_count": 11,
   "metadata": {},
   "outputs": [
    {
     "data": {
      "text/plain": [
       "(1, 2, 3)"
      ]
     },
     "execution_count": 11,
     "metadata": {},
     "output_type": "execute_result"
    }
   ],
   "source": [
    "(1, 2, 3)"
   ]
  },
  {
   "cell_type": "code",
   "execution_count": 12,
   "metadata": {},
   "outputs": [
    {
     "data": {
      "text/plain": [
       "(1, 2, 3)"
      ]
     },
     "execution_count": 12,
     "metadata": {},
     "output_type": "execute_result"
    }
   ],
   "source": [
    "1, 2, 3"
   ]
  },
  {
   "cell_type": "code",
   "execution_count": 13,
   "metadata": {},
   "outputs": [
    {
     "data": {
      "text/plain": [
       "{'apple': 'a fruit', 'banana': 'an herb', 'monkey': 'a mammal'}"
      ]
     },
     "execution_count": 13,
     "metadata": {},
     "output_type": "execute_result"
    }
   ],
   "source": [
    "{\"apple\": \"a fruit\", \"banana\": \"an herb\", \"monkey\": \"a mammal\"}"
   ]
  },
  {
   "cell_type": "code",
   "execution_count": 14,
   "metadata": {},
   "outputs": [
    {
     "data": {
      "text/plain": [
       "'a fruit'"
      ]
     },
     "execution_count": 14,
     "metadata": {},
     "output_type": "execute_result"
    }
   ],
   "source": [
    "{\"apple\": \"a fruit\", \"banana\": \"an herb\", \"monkey\": \"a mammal\"}[\"apple\"]"
   ]
  },
  {
   "cell_type": "markdown",
   "metadata": {},
   "source": [
    "### 1.1.2 Function Calls"
   ]
  },
  {
   "cell_type": "markdown",
   "metadata": {},
   "source": [
    "There are two ways to call functions in Python:\n",
    "\n",
    "1. by pre-defined infix operator name\n",
    "2. by function name, followed by parentheses\n",
    "\n",
    "Infix operator name:"
   ]
  },
  {
   "cell_type": "code",
   "execution_count": 15,
   "metadata": {},
   "outputs": [
    {
     "data": {
      "text/plain": [
       "3"
      ]
     },
     "execution_count": 15,
     "metadata": {},
     "output_type": "execute_result"
    }
   ],
   "source": [
    "1 + 2"
   ]
  },
  {
   "cell_type": "code",
   "execution_count": 16,
   "metadata": {},
   "outputs": [
    {
     "data": {
      "text/plain": [
       "1"
      ]
     },
     "execution_count": 16,
     "metadata": {},
     "output_type": "execute_result"
    }
   ],
   "source": [
    "abs(-1)"
   ]
  },
  {
   "cell_type": "code",
   "execution_count": 17,
   "metadata": {},
   "outputs": [],
   "source": [
    "import operator"
   ]
  },
  {
   "cell_type": "code",
   "execution_count": 18,
   "metadata": {},
   "outputs": [
    {
     "data": {
      "text/plain": [
       "3"
      ]
     },
     "execution_count": 18,
     "metadata": {},
     "output_type": "execute_result"
    }
   ],
   "source": [
    "operator.add(1, 2)"
   ]
  },
  {
   "cell_type": "markdown",
   "metadata": {},
   "source": [
    "#### 1.1.2.1 Print"
   ]
  },
  {
   "cell_type": "markdown",
   "metadata": {},
   "source": [
    "Evaluating and display result as an Out, versus evaluating and printing result (side-effect)."
   ]
  },
  {
   "cell_type": "code",
   "execution_count": 19,
   "metadata": {},
   "outputs": [
    {
     "name": "stdout",
     "output_type": "stream",
     "text": [
      "1\n"
     ]
    }
   ],
   "source": [
    "print(1)"
   ]
  },
  {
   "cell_type": "markdown",
   "metadata": {},
   "source": [
    "### 1.1.3 Special Values"
   ]
  },
  {
   "cell_type": "code",
   "execution_count": 20,
   "metadata": {},
   "outputs": [],
   "source": [
    "None"
   ]
  },
  {
   "cell_type": "markdown",
   "metadata": {},
   "source": [
    "### 1.1.4 Defining Functions"
   ]
  },
  {
   "cell_type": "code",
   "execution_count": 21,
   "metadata": {},
   "outputs": [],
   "source": [
    "def plus(a, b):\n",
    "    return a + b"
   ]
  },
  {
   "cell_type": "code",
   "execution_count": 22,
   "metadata": {},
   "outputs": [
    {
     "data": {
      "text/plain": [
       "7"
      ]
     },
     "execution_count": 22,
     "metadata": {},
     "output_type": "execute_result"
    }
   ],
   "source": [
    "plus(3, 4)"
   ]
  },
  {
   "cell_type": "code",
   "execution_count": 23,
   "metadata": {},
   "outputs": [],
   "source": [
    "def plus(a, b):\n",
    "    a + b"
   ]
  },
  {
   "cell_type": "code",
   "execution_count": 24,
   "metadata": {},
   "outputs": [],
   "source": [
    "plus(3, 4)"
   ]
  },
  {
   "cell_type": "markdown",
   "metadata": {},
   "source": [
    "What happened? All functions return *something*, even if you don't specify it. If you don't specify a return value, then it will default to returning `None`."
   ]
  },
  {
   "cell_type": "code",
   "execution_count": 25,
   "metadata": {},
   "outputs": [
    {
     "ename": "TypeError",
     "evalue": "must be str, not int",
     "output_type": "error",
     "traceback": [
      "\u001b[0;31m---------------------------------------------------------------------------\u001b[0m",
      "\u001b[0;31mTypeError\u001b[0m                                 Traceback (most recent call last)",
      "\u001b[0;32m<ipython-input-25-42f7d05b4f13>\u001b[0m in \u001b[0;36m<module>\u001b[0;34m\u001b[0m\n\u001b[0;32m----> 1\u001b[0;31m \u001b[0;34m\"a\"\u001b[0m \u001b[0;34m+\u001b[0m \u001b[0;36m1\u001b[0m\u001b[0;34m\u001b[0m\u001b[0;34m\u001b[0m\u001b[0m\n\u001b[0m",
      "\u001b[0;31mTypeError\u001b[0m: must be str, not int"
     ]
    }
   ],
   "source": [
    "\"a\" + 1"
   ]
  },
  {
   "cell_type": "markdown",
   "metadata": {},
   "source": [
    "<div style=\"background-color: lightgrey\">\n",
    "<h2>Sidebar 2-1: How to Read Python Error Messages</h2>\n",
    "\n",
    "<p>\n",
    "Python error messages \n",
    "<p>\n",
    "<tt>TypeError: Can't convert 'int' object to str implicitly</tt>\n",
    "</p>\n",
    "\n",
    "<p>Above the error message is the \"traceback\" also called the \"call stack\". This is a representation of the sequence of procedure calls that lead to the error. If the procedure call originated from code from a file, the filename would be listed after the word \"File\" on each line. If the procedure call originated from a notebook cell, then the word \"ipython-input-#-HEX\".\n",
    "</p>\n",
    "</div>"
   ]
  },
  {
   "cell_type": "markdown",
   "metadata": {},
   "source": [
    "## 1.2 Equality"
   ]
  },
  {
   "cell_type": "markdown",
   "metadata": {},
   "source": [
    "### 1.2.1 =="
   ]
  },
  {
   "cell_type": "code",
   "execution_count": 49,
   "metadata": {},
   "outputs": [
    {
     "data": {
      "text/plain": [
       "True"
      ]
     },
     "execution_count": 49,
     "metadata": {},
     "output_type": "execute_result"
    }
   ],
   "source": [
    "1 == 1"
   ]
  },
  {
   "cell_type": "markdown",
   "metadata": {},
   "source": [
    "### 1.2.2 is"
   ]
  },
  {
   "cell_type": "code",
   "execution_count": 50,
   "metadata": {},
   "outputs": [
    {
     "data": {
      "text/plain": [
       "False"
      ]
     },
     "execution_count": 50,
     "metadata": {},
     "output_type": "execute_result"
    }
   ],
   "source": [
    "[] is []"
   ]
  },
  {
   "cell_type": "code",
   "execution_count": 51,
   "metadata": {},
   "outputs": [
    {
     "data": {
      "text/plain": [
       "False"
      ]
     },
     "execution_count": 51,
     "metadata": {},
     "output_type": "execute_result"
    }
   ],
   "source": [
    "list() is list()"
   ]
  },
  {
   "cell_type": "code",
   "execution_count": 52,
   "metadata": {},
   "outputs": [
    {
     "data": {
      "text/plain": [
       "True"
      ]
     },
     "execution_count": 52,
     "metadata": {},
     "output_type": "execute_result"
    }
   ],
   "source": [
    "tuple() is tuple()"
   ]
  },
  {
   "cell_type": "code",
   "execution_count": 53,
   "metadata": {},
   "outputs": [
    {
     "data": {
      "text/plain": [
       "True"
      ]
     },
     "execution_count": 53,
     "metadata": {},
     "output_type": "execute_result"
    }
   ],
   "source": [
    "57663463467 is 57663463467"
   ]
  },
  {
   "cell_type": "markdown",
   "metadata": {},
   "source": [
    "# 2. Advanced Topics"
   ]
  },
  {
   "cell_type": "markdown",
   "metadata": {},
   "source": [
    "The Zen of Python:"
   ]
  },
  {
   "cell_type": "code",
   "execution_count": 54,
   "metadata": {},
   "outputs": [
    {
     "name": "stdout",
     "output_type": "stream",
     "text": [
      "The Zen of Python, by Tim Peters\n",
      "\n",
      "Beautiful is better than ugly.\n",
      "Explicit is better than implicit.\n",
      "Simple is better than complex.\n",
      "Complex is better than complicated.\n",
      "Flat is better than nested.\n",
      "Sparse is better than dense.\n",
      "Readability counts.\n",
      "Special cases aren't special enough to break the rules.\n",
      "Although practicality beats purity.\n",
      "Errors should never pass silently.\n",
      "Unless explicitly silenced.\n",
      "In the face of ambiguity, refuse the temptation to guess.\n",
      "There should be one-- and preferably only one --obvious way to do it.\n",
      "Although that way may not be obvious at first unless you're Dutch.\n",
      "Now is better than never.\n",
      "Although never is often better than *right* now.\n",
      "If the implementation is hard to explain, it's a bad idea.\n",
      "If the implementation is easy to explain, it may be a good idea.\n",
      "Namespaces are one honking great idea -- let's do more of those!\n"
     ]
    }
   ],
   "source": [
    "import this"
   ]
  },
  {
   "cell_type": "markdown",
   "metadata": {},
   "source": [
    "Python evolves. But there are limits:"
   ]
  },
  {
   "cell_type": "code",
   "execution_count": 55,
   "metadata": {},
   "outputs": [
    {
     "ename": "SyntaxError",
     "evalue": "from __future__ imports must occur at the beginning of the file (<ipython-input-55-6d5c5b2f0daf>, line 4)",
     "output_type": "error",
     "traceback": [
      "\u001b[0;36m  File \u001b[0;32m\"<ipython-input-55-6d5c5b2f0daf>\"\u001b[0;36m, line \u001b[0;32m4\u001b[0m\n\u001b[0;31mSyntaxError\u001b[0m\u001b[0;31m:\u001b[0m from __future__ imports must occur at the beginning of the file\n"
     ]
    }
   ],
   "source": [
    "from __future__ import braces"
   ]
  },
  {
   "cell_type": "markdown",
   "metadata": {},
   "source": [
    "## 2.1 Python Warts"
   ]
  },
  {
   "cell_type": "markdown",
   "metadata": {},
   "source": [
    "* http://web.archive.org/web/20031002184114/www.amk.ca/python/writing/warts.html\n",
    "* \n",
    "* https://www.python.org/dev/peps/pep-3099/"
   ]
  },
  {
   "cell_type": "markdown",
   "metadata": {},
   "source": [
    "## 2.2 Scope of variables"
   ]
  },
  {
   "cell_type": "markdown",
   "metadata": {},
   "source": [
    "Is not always clear:"
   ]
  },
  {
   "cell_type": "code",
   "execution_count": 58,
   "metadata": {},
   "outputs": [],
   "source": [
    "y = 0\n",
    "for x in range(10):\n",
    "    y = x"
   ]
  },
  {
   "cell_type": "code",
   "execution_count": 59,
   "metadata": {},
   "outputs": [
    {
     "data": {
      "text/plain": [
       "9"
      ]
     },
     "execution_count": 59,
     "metadata": {},
     "output_type": "execute_result"
    }
   ],
   "source": [
    "x"
   ]
  },
  {
   "cell_type": "code",
   "execution_count": 62,
   "metadata": {},
   "outputs": [
    {
     "ename": "SyntaxError",
     "evalue": "invalid syntax (<ipython-input-62-1ab8100a737a>, line 1)",
     "output_type": "error",
     "traceback": [
      "\u001b[0;36m  File \u001b[0;32m\"<ipython-input-62-1ab8100a737a>\"\u001b[0;36m, line \u001b[0;32m1\u001b[0m\n\u001b[0;31m    x for x in range(10, 20)\u001b[0m\n\u001b[0m        ^\u001b[0m\n\u001b[0;31mSyntaxError\u001b[0m\u001b[0;31m:\u001b[0m invalid syntax\n"
     ]
    }
   ],
   "source": [
    "[x for x in range(10, 20)]"
   ]
  },
  {
   "cell_type": "code",
   "execution_count": 61,
   "metadata": {},
   "outputs": [
    {
     "data": {
      "text/plain": [
       "9"
      ]
     },
     "execution_count": 61,
     "metadata": {},
     "output_type": "execute_result"
    }
   ],
   "source": [
    "x"
   ]
  },
  {
   "cell_type": "markdown",
   "metadata": {},
   "source": [
    "## 2.3 Scope"
   ]
  },
  {
   "cell_type": "markdown",
   "metadata": {},
   "source": [
    "Python follows the LEGB Rule (after https://www.amazon.com/dp/0596513984/):\n",
    "\n",
    "* L, Local: Names assigned in any way within a function (def or lambda)), and not declared global in that function.\n",
    "* E, Enclosing function locals: Name in the local scope of any and all enclosing functions (def or lambda), from inner to outer.\n",
    "* G, Global (module): Names assigned at the top-level of a module file, or declared global in a def within the file.\n",
    "* B, Built-in (Python): Names preassigned in the built-in names module : open, range, SyntaxError,..."
   ]
  },
  {
   "cell_type": "code",
   "execution_count": 63,
   "metadata": {},
   "outputs": [],
   "source": [
    "x = 3\n",
    "def foo():\n",
    "    x=4\n",
    "    def bar():\n",
    "        print(x)  # Accesses x from foo's scope\n",
    "    bar()  # Prints 4\n",
    "    x=5\n",
    "    bar()  # Prints 5"
   ]
  },
  {
   "cell_type": "code",
   "execution_count": 64,
   "metadata": {},
   "outputs": [
    {
     "name": "stdout",
     "output_type": "stream",
     "text": [
      "4\n",
      "5\n"
     ]
    },
    {
     "data": {
      "text/plain": [
       "3"
      ]
     },
     "execution_count": 64,
     "metadata": {},
     "output_type": "execute_result"
    }
   ],
   "source": [
    "foo()\n",
    "x"
   ]
  },
  {
   "cell_type": "markdown",
   "metadata": {},
   "source": [
    "See [scope_resolution_legb_rule.ipynb](scope_resolution_legb_rule.ipynb) for some additional readings on scope."
   ]
  },
  {
   "cell_type": "markdown",
   "metadata": {},
   "source": [
    "## 2.4 Generators"
   ]
  },
  {
   "cell_type": "code",
   "execution_count": 65,
   "metadata": {},
   "outputs": [],
   "source": [
    "def function():\n",
    "    for i in range(10):\n",
    "        yield i"
   ]
  },
  {
   "cell_type": "code",
   "execution_count": 67,
   "metadata": {},
   "outputs": [
    {
     "data": {
      "text/plain": [
       "<generator object function at 0x7fb12251e3b8>"
      ]
     },
     "execution_count": 67,
     "metadata": {},
     "output_type": "execute_result"
    }
   ],
   "source": [
    "function()"
   ]
  },
  {
   "cell_type": "code",
   "execution_count": 68,
   "metadata": {},
   "outputs": [
    {
     "name": "stdout",
     "output_type": "stream",
     "text": [
      "0\n",
      "1\n",
      "2\n",
      "3\n",
      "4\n",
      "5\n",
      "6\n",
      "7\n",
      "8\n",
      "9\n"
     ]
    }
   ],
   "source": [
    "for y in function():\n",
    "    print(y)"
   ]
  },
  {
   "cell_type": "markdown",
   "metadata": {},
   "source": [
    "## 2.5 Default arguments"
   ]
  },
  {
   "cell_type": "code",
   "execution_count": 69,
   "metadata": {},
   "outputs": [],
   "source": [
    "def do_something(a, b, c):\n",
    "    return (a, b, c)"
   ]
  },
  {
   "cell_type": "code",
   "execution_count": 30,
   "metadata": {},
   "outputs": [
    {
     "data": {
      "text/plain": [
       "(1, 2, 3)"
      ]
     },
     "execution_count": 30,
     "metadata": {},
     "output_type": "execute_result"
    }
   ],
   "source": [
    "do_something(1, 2, 3)"
   ]
  },
  {
   "cell_type": "code",
   "execution_count": 31,
   "metadata": {},
   "outputs": [],
   "source": [
    "def do_something_else(a=1, b=2, c=3):\n",
    "    return (a, b, c)"
   ]
  },
  {
   "cell_type": "code",
   "execution_count": 32,
   "metadata": {},
   "outputs": [
    {
     "data": {
      "text/plain": [
       "(1, 2, 3)"
      ]
     },
     "execution_count": 32,
     "metadata": {},
     "output_type": "execute_result"
    }
   ],
   "source": [
    "do_something_else()"
   ]
  },
  {
   "cell_type": "code",
   "execution_count": 33,
   "metadata": {},
   "outputs": [],
   "source": [
    "def some_function(start=[]):\n",
    "    start.append(1)\n",
    "    return start"
   ]
  },
  {
   "cell_type": "code",
   "execution_count": 34,
   "metadata": {},
   "outputs": [],
   "source": [
    "result = some_function()"
   ]
  },
  {
   "cell_type": "code",
   "execution_count": 35,
   "metadata": {},
   "outputs": [
    {
     "data": {
      "text/plain": [
       "[1]"
      ]
     },
     "execution_count": 35,
     "metadata": {},
     "output_type": "execute_result"
    }
   ],
   "source": [
    "result"
   ]
  },
  {
   "cell_type": "code",
   "execution_count": 71,
   "metadata": {},
   "outputs": [
    {
     "data": {
      "text/plain": [
       "[1, 2, 1, 2, 2]"
      ]
     },
     "execution_count": 71,
     "metadata": {},
     "output_type": "execute_result"
    }
   ],
   "source": [
    "result.append(2)\n",
    "result"
   ]
  },
  {
   "cell_type": "code",
   "execution_count": 72,
   "metadata": {},
   "outputs": [],
   "source": [
    "other_result = some_function()"
   ]
  },
  {
   "cell_type": "code",
   "execution_count": 73,
   "metadata": {},
   "outputs": [
    {
     "data": {
      "text/plain": [
       "[1, 2, 1, 2, 2, 1]"
      ]
     },
     "execution_count": 73,
     "metadata": {},
     "output_type": "execute_result"
    }
   ],
   "source": [
    "other_result"
   ]
  },
  {
   "cell_type": "markdown",
   "metadata": {},
   "source": [
    "## 3.2 List comprehension"
   ]
  },
  {
   "cell_type": "markdown",
   "metadata": {},
   "source": [
    "\"List comprehension\" is the idea of writing some code inside of a list that will generate a list.\n",
    "\n",
    "Consider the following:"
   ]
  },
  {
   "cell_type": "code",
   "execution_count": 39,
   "metadata": {},
   "outputs": [
    {
     "data": {
      "text/plain": [
       "[0, 1, 4, 9, 16, 25, 36, 49, 64, 81]"
      ]
     },
     "execution_count": 39,
     "metadata": {},
     "output_type": "execute_result"
    }
   ],
   "source": [
    "[x ** 2 for x in range(10)]"
   ]
  },
  {
   "cell_type": "code",
   "execution_count": 74,
   "metadata": {},
   "outputs": [
    {
     "data": {
      "text/plain": [
       "[0, 1, 4, 9, 16, 25, 36, 49, 64, 81]"
      ]
     },
     "execution_count": 74,
     "metadata": {},
     "output_type": "execute_result"
    }
   ],
   "source": [
    "temp_list = []\n",
    "for x in range(10):\n",
    "    temp_list.append(x ** 2)\n",
    "temp_list"
   ]
  },
  {
   "cell_type": "markdown",
   "metadata": {},
   "source": [
    "But list comprehension is much more concise."
   ]
  },
  {
   "cell_type": "markdown",
   "metadata": {},
   "source": [
    "## 3.3 Plotting"
   ]
  },
  {
   "cell_type": "code",
   "execution_count": 41,
   "metadata": {},
   "outputs": [],
   "source": [
    "%matplotlib notebook"
   ]
  },
  {
   "cell_type": "markdown",
   "metadata": {},
   "source": [
    "After the magic, we then need to import the matplotlib library:"
   ]
  },
  {
   "cell_type": "code",
   "execution_count": 42,
   "metadata": {},
   "outputs": [],
   "source": [
    "import matplotlib.pyplot as plt"
   ]
  },
  {
   "cell_type": "markdown",
   "metadata": {},
   "source": [
    "Python has many, many libraries. We will use a few over the course of the semester.\n",
    "\n",
    "To create a simple line plot, just give a list of y-values to the function plt.plot()."
   ]
  },
  {
   "cell_type": "code",
   "execution_count": 43,
   "metadata": {},
   "outputs": [
    {
     "data": {
      "application/javascript": [
       "/* Put everything inside the global mpl namespace */\n",
       "window.mpl = {};\n",
       "\n",
       "\n",
       "mpl.get_websocket_type = function() {\n",
       "    if (typeof(WebSocket) !== 'undefined') {\n",
       "        return WebSocket;\n",
       "    } else if (typeof(MozWebSocket) !== 'undefined') {\n",
       "        return MozWebSocket;\n",
       "    } else {\n",
       "        alert('Your browser does not have WebSocket support.' +\n",
       "              'Please try Chrome, Safari or Firefox ≥ 6. ' +\n",
       "              'Firefox 4 and 5 are also supported but you ' +\n",
       "              'have to enable WebSockets in about:config.');\n",
       "    };\n",
       "}\n",
       "\n",
       "mpl.figure = function(figure_id, websocket, ondownload, parent_element) {\n",
       "    this.id = figure_id;\n",
       "\n",
       "    this.ws = websocket;\n",
       "\n",
       "    this.supports_binary = (this.ws.binaryType != undefined);\n",
       "\n",
       "    if (!this.supports_binary) {\n",
       "        var warnings = document.getElementById(\"mpl-warnings\");\n",
       "        if (warnings) {\n",
       "            warnings.style.display = 'block';\n",
       "            warnings.textContent = (\n",
       "                \"This browser does not support binary websocket messages. \" +\n",
       "                    \"Performance may be slow.\");\n",
       "        }\n",
       "    }\n",
       "\n",
       "    this.imageObj = new Image();\n",
       "\n",
       "    this.context = undefined;\n",
       "    this.message = undefined;\n",
       "    this.canvas = undefined;\n",
       "    this.rubberband_canvas = undefined;\n",
       "    this.rubberband_context = undefined;\n",
       "    this.format_dropdown = undefined;\n",
       "\n",
       "    this.image_mode = 'full';\n",
       "\n",
       "    this.root = $('<div/>');\n",
       "    this._root_extra_style(this.root)\n",
       "    this.root.attr('style', 'display: inline-block');\n",
       "\n",
       "    $(parent_element).append(this.root);\n",
       "\n",
       "    this._init_header(this);\n",
       "    this._init_canvas(this);\n",
       "    this._init_toolbar(this);\n",
       "\n",
       "    var fig = this;\n",
       "\n",
       "    this.waiting = false;\n",
       "\n",
       "    this.ws.onopen =  function () {\n",
       "            fig.send_message(\"supports_binary\", {value: fig.supports_binary});\n",
       "            fig.send_message(\"send_image_mode\", {});\n",
       "            if (mpl.ratio != 1) {\n",
       "                fig.send_message(\"set_dpi_ratio\", {'dpi_ratio': mpl.ratio});\n",
       "            }\n",
       "            fig.send_message(\"refresh\", {});\n",
       "        }\n",
       "\n",
       "    this.imageObj.onload = function() {\n",
       "            if (fig.image_mode == 'full') {\n",
       "                // Full images could contain transparency (where diff images\n",
       "                // almost always do), so we need to clear the canvas so that\n",
       "                // there is no ghosting.\n",
       "                fig.context.clearRect(0, 0, fig.canvas.width, fig.canvas.height);\n",
       "            }\n",
       "            fig.context.drawImage(fig.imageObj, 0, 0);\n",
       "        };\n",
       "\n",
       "    this.imageObj.onunload = function() {\n",
       "        fig.ws.close();\n",
       "    }\n",
       "\n",
       "    this.ws.onmessage = this._make_on_message_function(this);\n",
       "\n",
       "    this.ondownload = ondownload;\n",
       "}\n",
       "\n",
       "mpl.figure.prototype._init_header = function() {\n",
       "    var titlebar = $(\n",
       "        '<div class=\"ui-dialog-titlebar ui-widget-header ui-corner-all ' +\n",
       "        'ui-helper-clearfix\"/>');\n",
       "    var titletext = $(\n",
       "        '<div class=\"ui-dialog-title\" style=\"width: 100%; ' +\n",
       "        'text-align: center; padding: 3px;\"/>');\n",
       "    titlebar.append(titletext)\n",
       "    this.root.append(titlebar);\n",
       "    this.header = titletext[0];\n",
       "}\n",
       "\n",
       "\n",
       "\n",
       "mpl.figure.prototype._canvas_extra_style = function(canvas_div) {\n",
       "\n",
       "}\n",
       "\n",
       "\n",
       "mpl.figure.prototype._root_extra_style = function(canvas_div) {\n",
       "\n",
       "}\n",
       "\n",
       "mpl.figure.prototype._init_canvas = function() {\n",
       "    var fig = this;\n",
       "\n",
       "    var canvas_div = $('<div/>');\n",
       "\n",
       "    canvas_div.attr('style', 'position: relative; clear: both; outline: 0');\n",
       "\n",
       "    function canvas_keyboard_event(event) {\n",
       "        return fig.key_event(event, event['data']);\n",
       "    }\n",
       "\n",
       "    canvas_div.keydown('key_press', canvas_keyboard_event);\n",
       "    canvas_div.keyup('key_release', canvas_keyboard_event);\n",
       "    this.canvas_div = canvas_div\n",
       "    this._canvas_extra_style(canvas_div)\n",
       "    this.root.append(canvas_div);\n",
       "\n",
       "    var canvas = $('<canvas/>');\n",
       "    canvas.addClass('mpl-canvas');\n",
       "    canvas.attr('style', \"left: 0; top: 0; z-index: 0; outline: 0\")\n",
       "\n",
       "    this.canvas = canvas[0];\n",
       "    this.context = canvas[0].getContext(\"2d\");\n",
       "\n",
       "    var backingStore = this.context.backingStorePixelRatio ||\n",
       "\tthis.context.webkitBackingStorePixelRatio ||\n",
       "\tthis.context.mozBackingStorePixelRatio ||\n",
       "\tthis.context.msBackingStorePixelRatio ||\n",
       "\tthis.context.oBackingStorePixelRatio ||\n",
       "\tthis.context.backingStorePixelRatio || 1;\n",
       "\n",
       "    mpl.ratio = (window.devicePixelRatio || 1) / backingStore;\n",
       "\n",
       "    var rubberband = $('<canvas/>');\n",
       "    rubberband.attr('style', \"position: absolute; left: 0; top: 0; z-index: 1;\")\n",
       "\n",
       "    var pass_mouse_events = true;\n",
       "\n",
       "    canvas_div.resizable({\n",
       "        start: function(event, ui) {\n",
       "            pass_mouse_events = false;\n",
       "        },\n",
       "        resize: function(event, ui) {\n",
       "            fig.request_resize(ui.size.width, ui.size.height);\n",
       "        },\n",
       "        stop: function(event, ui) {\n",
       "            pass_mouse_events = true;\n",
       "            fig.request_resize(ui.size.width, ui.size.height);\n",
       "        },\n",
       "    });\n",
       "\n",
       "    function mouse_event_fn(event) {\n",
       "        if (pass_mouse_events)\n",
       "            return fig.mouse_event(event, event['data']);\n",
       "    }\n",
       "\n",
       "    rubberband.mousedown('button_press', mouse_event_fn);\n",
       "    rubberband.mouseup('button_release', mouse_event_fn);\n",
       "    // Throttle sequential mouse events to 1 every 20ms.\n",
       "    rubberband.mousemove('motion_notify', mouse_event_fn);\n",
       "\n",
       "    rubberband.mouseenter('figure_enter', mouse_event_fn);\n",
       "    rubberband.mouseleave('figure_leave', mouse_event_fn);\n",
       "\n",
       "    canvas_div.on(\"wheel\", function (event) {\n",
       "        event = event.originalEvent;\n",
       "        event['data'] = 'scroll'\n",
       "        if (event.deltaY < 0) {\n",
       "            event.step = 1;\n",
       "        } else {\n",
       "            event.step = -1;\n",
       "        }\n",
       "        mouse_event_fn(event);\n",
       "    });\n",
       "\n",
       "    canvas_div.append(canvas);\n",
       "    canvas_div.append(rubberband);\n",
       "\n",
       "    this.rubberband = rubberband;\n",
       "    this.rubberband_canvas = rubberband[0];\n",
       "    this.rubberband_context = rubberband[0].getContext(\"2d\");\n",
       "    this.rubberband_context.strokeStyle = \"#000000\";\n",
       "\n",
       "    this._resize_canvas = function(width, height) {\n",
       "        // Keep the size of the canvas, canvas container, and rubber band\n",
       "        // canvas in synch.\n",
       "        canvas_div.css('width', width)\n",
       "        canvas_div.css('height', height)\n",
       "\n",
       "        canvas.attr('width', width * mpl.ratio);\n",
       "        canvas.attr('height', height * mpl.ratio);\n",
       "        canvas.attr('style', 'width: ' + width + 'px; height: ' + height + 'px;');\n",
       "\n",
       "        rubberband.attr('width', width);\n",
       "        rubberband.attr('height', height);\n",
       "    }\n",
       "\n",
       "    // Set the figure to an initial 600x600px, this will subsequently be updated\n",
       "    // upon first draw.\n",
       "    this._resize_canvas(600, 600);\n",
       "\n",
       "    // Disable right mouse context menu.\n",
       "    $(this.rubberband_canvas).bind(\"contextmenu\",function(e){\n",
       "        return false;\n",
       "    });\n",
       "\n",
       "    function set_focus () {\n",
       "        canvas.focus();\n",
       "        canvas_div.focus();\n",
       "    }\n",
       "\n",
       "    window.setTimeout(set_focus, 100);\n",
       "}\n",
       "\n",
       "mpl.figure.prototype._init_toolbar = function() {\n",
       "    var fig = this;\n",
       "\n",
       "    var nav_element = $('<div/>')\n",
       "    nav_element.attr('style', 'width: 100%');\n",
       "    this.root.append(nav_element);\n",
       "\n",
       "    // Define a callback function for later on.\n",
       "    function toolbar_event(event) {\n",
       "        return fig.toolbar_button_onclick(event['data']);\n",
       "    }\n",
       "    function toolbar_mouse_event(event) {\n",
       "        return fig.toolbar_button_onmouseover(event['data']);\n",
       "    }\n",
       "\n",
       "    for(var toolbar_ind in mpl.toolbar_items) {\n",
       "        var name = mpl.toolbar_items[toolbar_ind][0];\n",
       "        var tooltip = mpl.toolbar_items[toolbar_ind][1];\n",
       "        var image = mpl.toolbar_items[toolbar_ind][2];\n",
       "        var method_name = mpl.toolbar_items[toolbar_ind][3];\n",
       "\n",
       "        if (!name) {\n",
       "            // put a spacer in here.\n",
       "            continue;\n",
       "        }\n",
       "        var button = $('<button/>');\n",
       "        button.addClass('ui-button ui-widget ui-state-default ui-corner-all ' +\n",
       "                        'ui-button-icon-only');\n",
       "        button.attr('role', 'button');\n",
       "        button.attr('aria-disabled', 'false');\n",
       "        button.click(method_name, toolbar_event);\n",
       "        button.mouseover(tooltip, toolbar_mouse_event);\n",
       "\n",
       "        var icon_img = $('<span/>');\n",
       "        icon_img.addClass('ui-button-icon-primary ui-icon');\n",
       "        icon_img.addClass(image);\n",
       "        icon_img.addClass('ui-corner-all');\n",
       "\n",
       "        var tooltip_span = $('<span/>');\n",
       "        tooltip_span.addClass('ui-button-text');\n",
       "        tooltip_span.html(tooltip);\n",
       "\n",
       "        button.append(icon_img);\n",
       "        button.append(tooltip_span);\n",
       "\n",
       "        nav_element.append(button);\n",
       "    }\n",
       "\n",
       "    var fmt_picker_span = $('<span/>');\n",
       "\n",
       "    var fmt_picker = $('<select/>');\n",
       "    fmt_picker.addClass('mpl-toolbar-option ui-widget ui-widget-content');\n",
       "    fmt_picker_span.append(fmt_picker);\n",
       "    nav_element.append(fmt_picker_span);\n",
       "    this.format_dropdown = fmt_picker[0];\n",
       "\n",
       "    for (var ind in mpl.extensions) {\n",
       "        var fmt = mpl.extensions[ind];\n",
       "        var option = $(\n",
       "            '<option/>', {selected: fmt === mpl.default_extension}).html(fmt);\n",
       "        fmt_picker.append(option)\n",
       "    }\n",
       "\n",
       "    // Add hover states to the ui-buttons\n",
       "    $( \".ui-button\" ).hover(\n",
       "        function() { $(this).addClass(\"ui-state-hover\");},\n",
       "        function() { $(this).removeClass(\"ui-state-hover\");}\n",
       "    );\n",
       "\n",
       "    var status_bar = $('<span class=\"mpl-message\"/>');\n",
       "    nav_element.append(status_bar);\n",
       "    this.message = status_bar[0];\n",
       "}\n",
       "\n",
       "mpl.figure.prototype.request_resize = function(x_pixels, y_pixels) {\n",
       "    // Request matplotlib to resize the figure. Matplotlib will then trigger a resize in the client,\n",
       "    // which will in turn request a refresh of the image.\n",
       "    this.send_message('resize', {'width': x_pixels, 'height': y_pixels});\n",
       "}\n",
       "\n",
       "mpl.figure.prototype.send_message = function(type, properties) {\n",
       "    properties['type'] = type;\n",
       "    properties['figure_id'] = this.id;\n",
       "    this.ws.send(JSON.stringify(properties));\n",
       "}\n",
       "\n",
       "mpl.figure.prototype.send_draw_message = function() {\n",
       "    if (!this.waiting) {\n",
       "        this.waiting = true;\n",
       "        this.ws.send(JSON.stringify({type: \"draw\", figure_id: this.id}));\n",
       "    }\n",
       "}\n",
       "\n",
       "\n",
       "mpl.figure.prototype.handle_save = function(fig, msg) {\n",
       "    var format_dropdown = fig.format_dropdown;\n",
       "    var format = format_dropdown.options[format_dropdown.selectedIndex].value;\n",
       "    fig.ondownload(fig, format);\n",
       "}\n",
       "\n",
       "\n",
       "mpl.figure.prototype.handle_resize = function(fig, msg) {\n",
       "    var size = msg['size'];\n",
       "    if (size[0] != fig.canvas.width || size[1] != fig.canvas.height) {\n",
       "        fig._resize_canvas(size[0], size[1]);\n",
       "        fig.send_message(\"refresh\", {});\n",
       "    };\n",
       "}\n",
       "\n",
       "mpl.figure.prototype.handle_rubberband = function(fig, msg) {\n",
       "    var x0 = msg['x0'] / mpl.ratio;\n",
       "    var y0 = (fig.canvas.height - msg['y0']) / mpl.ratio;\n",
       "    var x1 = msg['x1'] / mpl.ratio;\n",
       "    var y1 = (fig.canvas.height - msg['y1']) / mpl.ratio;\n",
       "    x0 = Math.floor(x0) + 0.5;\n",
       "    y0 = Math.floor(y0) + 0.5;\n",
       "    x1 = Math.floor(x1) + 0.5;\n",
       "    y1 = Math.floor(y1) + 0.5;\n",
       "    var min_x = Math.min(x0, x1);\n",
       "    var min_y = Math.min(y0, y1);\n",
       "    var width = Math.abs(x1 - x0);\n",
       "    var height = Math.abs(y1 - y0);\n",
       "\n",
       "    fig.rubberband_context.clearRect(\n",
       "        0, 0, fig.canvas.width, fig.canvas.height);\n",
       "\n",
       "    fig.rubberband_context.strokeRect(min_x, min_y, width, height);\n",
       "}\n",
       "\n",
       "mpl.figure.prototype.handle_figure_label = function(fig, msg) {\n",
       "    // Updates the figure title.\n",
       "    fig.header.textContent = msg['label'];\n",
       "}\n",
       "\n",
       "mpl.figure.prototype.handle_cursor = function(fig, msg) {\n",
       "    var cursor = msg['cursor'];\n",
       "    switch(cursor)\n",
       "    {\n",
       "    case 0:\n",
       "        cursor = 'pointer';\n",
       "        break;\n",
       "    case 1:\n",
       "        cursor = 'default';\n",
       "        break;\n",
       "    case 2:\n",
       "        cursor = 'crosshair';\n",
       "        break;\n",
       "    case 3:\n",
       "        cursor = 'move';\n",
       "        break;\n",
       "    }\n",
       "    fig.rubberband_canvas.style.cursor = cursor;\n",
       "}\n",
       "\n",
       "mpl.figure.prototype.handle_message = function(fig, msg) {\n",
       "    fig.message.textContent = msg['message'];\n",
       "}\n",
       "\n",
       "mpl.figure.prototype.handle_draw = function(fig, msg) {\n",
       "    // Request the server to send over a new figure.\n",
       "    fig.send_draw_message();\n",
       "}\n",
       "\n",
       "mpl.figure.prototype.handle_image_mode = function(fig, msg) {\n",
       "    fig.image_mode = msg['mode'];\n",
       "}\n",
       "\n",
       "mpl.figure.prototype.updated_canvas_event = function() {\n",
       "    // Called whenever the canvas gets updated.\n",
       "    this.send_message(\"ack\", {});\n",
       "}\n",
       "\n",
       "// A function to construct a web socket function for onmessage handling.\n",
       "// Called in the figure constructor.\n",
       "mpl.figure.prototype._make_on_message_function = function(fig) {\n",
       "    return function socket_on_message(evt) {\n",
       "        if (evt.data instanceof Blob) {\n",
       "            /* FIXME: We get \"Resource interpreted as Image but\n",
       "             * transferred with MIME type text/plain:\" errors on\n",
       "             * Chrome.  But how to set the MIME type?  It doesn't seem\n",
       "             * to be part of the websocket stream */\n",
       "            evt.data.type = \"image/png\";\n",
       "\n",
       "            /* Free the memory for the previous frames */\n",
       "            if (fig.imageObj.src) {\n",
       "                (window.URL || window.webkitURL).revokeObjectURL(\n",
       "                    fig.imageObj.src);\n",
       "            }\n",
       "\n",
       "            fig.imageObj.src = (window.URL || window.webkitURL).createObjectURL(\n",
       "                evt.data);\n",
       "            fig.updated_canvas_event();\n",
       "            fig.waiting = false;\n",
       "            return;\n",
       "        }\n",
       "        else if (typeof evt.data === 'string' && evt.data.slice(0, 21) == \"data:image/png;base64\") {\n",
       "            fig.imageObj.src = evt.data;\n",
       "            fig.updated_canvas_event();\n",
       "            fig.waiting = false;\n",
       "            return;\n",
       "        }\n",
       "\n",
       "        var msg = JSON.parse(evt.data);\n",
       "        var msg_type = msg['type'];\n",
       "\n",
       "        // Call the  \"handle_{type}\" callback, which takes\n",
       "        // the figure and JSON message as its only arguments.\n",
       "        try {\n",
       "            var callback = fig[\"handle_\" + msg_type];\n",
       "        } catch (e) {\n",
       "            console.log(\"No handler for the '\" + msg_type + \"' message type: \", msg);\n",
       "            return;\n",
       "        }\n",
       "\n",
       "        if (callback) {\n",
       "            try {\n",
       "                // console.log(\"Handling '\" + msg_type + \"' message: \", msg);\n",
       "                callback(fig, msg);\n",
       "            } catch (e) {\n",
       "                console.log(\"Exception inside the 'handler_\" + msg_type + \"' callback:\", e, e.stack, msg);\n",
       "            }\n",
       "        }\n",
       "    };\n",
       "}\n",
       "\n",
       "// from http://stackoverflow.com/questions/1114465/getting-mouse-location-in-canvas\n",
       "mpl.findpos = function(e) {\n",
       "    //this section is from http://www.quirksmode.org/js/events_properties.html\n",
       "    var targ;\n",
       "    if (!e)\n",
       "        e = window.event;\n",
       "    if (e.target)\n",
       "        targ = e.target;\n",
       "    else if (e.srcElement)\n",
       "        targ = e.srcElement;\n",
       "    if (targ.nodeType == 3) // defeat Safari bug\n",
       "        targ = targ.parentNode;\n",
       "\n",
       "    // jQuery normalizes the pageX and pageY\n",
       "    // pageX,Y are the mouse positions relative to the document\n",
       "    // offset() returns the position of the element relative to the document\n",
       "    var x = e.pageX - $(targ).offset().left;\n",
       "    var y = e.pageY - $(targ).offset().top;\n",
       "\n",
       "    return {\"x\": x, \"y\": y};\n",
       "};\n",
       "\n",
       "/*\n",
       " * return a copy of an object with only non-object keys\n",
       " * we need this to avoid circular references\n",
       " * http://stackoverflow.com/a/24161582/3208463\n",
       " */\n",
       "function simpleKeys (original) {\n",
       "  return Object.keys(original).reduce(function (obj, key) {\n",
       "    if (typeof original[key] !== 'object')\n",
       "        obj[key] = original[key]\n",
       "    return obj;\n",
       "  }, {});\n",
       "}\n",
       "\n",
       "mpl.figure.prototype.mouse_event = function(event, name) {\n",
       "    var canvas_pos = mpl.findpos(event)\n",
       "\n",
       "    if (name === 'button_press')\n",
       "    {\n",
       "        this.canvas.focus();\n",
       "        this.canvas_div.focus();\n",
       "    }\n",
       "\n",
       "    var x = canvas_pos.x * mpl.ratio;\n",
       "    var y = canvas_pos.y * mpl.ratio;\n",
       "\n",
       "    this.send_message(name, {x: x, y: y, button: event.button,\n",
       "                             step: event.step,\n",
       "                             guiEvent: simpleKeys(event)});\n",
       "\n",
       "    /* This prevents the web browser from automatically changing to\n",
       "     * the text insertion cursor when the button is pressed.  We want\n",
       "     * to control all of the cursor setting manually through the\n",
       "     * 'cursor' event from matplotlib */\n",
       "    event.preventDefault();\n",
       "    return false;\n",
       "}\n",
       "\n",
       "mpl.figure.prototype._key_event_extra = function(event, name) {\n",
       "    // Handle any extra behaviour associated with a key event\n",
       "}\n",
       "\n",
       "mpl.figure.prototype.key_event = function(event, name) {\n",
       "\n",
       "    // Prevent repeat events\n",
       "    if (name == 'key_press')\n",
       "    {\n",
       "        if (event.which === this._key)\n",
       "            return;\n",
       "        else\n",
       "            this._key = event.which;\n",
       "    }\n",
       "    if (name == 'key_release')\n",
       "        this._key = null;\n",
       "\n",
       "    var value = '';\n",
       "    if (event.ctrlKey && event.which != 17)\n",
       "        value += \"ctrl+\";\n",
       "    if (event.altKey && event.which != 18)\n",
       "        value += \"alt+\";\n",
       "    if (event.shiftKey && event.which != 16)\n",
       "        value += \"shift+\";\n",
       "\n",
       "    value += 'k';\n",
       "    value += event.which.toString();\n",
       "\n",
       "    this._key_event_extra(event, name);\n",
       "\n",
       "    this.send_message(name, {key: value,\n",
       "                             guiEvent: simpleKeys(event)});\n",
       "    return false;\n",
       "}\n",
       "\n",
       "mpl.figure.prototype.toolbar_button_onclick = function(name) {\n",
       "    if (name == 'download') {\n",
       "        this.handle_save(this, null);\n",
       "    } else {\n",
       "        this.send_message(\"toolbar_button\", {name: name});\n",
       "    }\n",
       "};\n",
       "\n",
       "mpl.figure.prototype.toolbar_button_onmouseover = function(tooltip) {\n",
       "    this.message.textContent = tooltip;\n",
       "};\n",
       "mpl.toolbar_items = [[\"Home\", \"Reset original view\", \"fa fa-home icon-home\", \"home\"], [\"Back\", \"Back to previous view\", \"fa fa-arrow-left icon-arrow-left\", \"back\"], [\"Forward\", \"Forward to next view\", \"fa fa-arrow-right icon-arrow-right\", \"forward\"], [\"\", \"\", \"\", \"\"], [\"Pan\", \"Pan axes with left mouse, zoom with right\", \"fa fa-arrows icon-move\", \"pan\"], [\"Zoom\", \"Zoom to rectangle\", \"fa fa-square-o icon-check-empty\", \"zoom\"], [\"\", \"\", \"\", \"\"], [\"Download\", \"Download plot\", \"fa fa-floppy-o icon-save\", \"download\"]];\n",
       "\n",
       "mpl.extensions = [\"eps\", \"jpeg\", \"pdf\", \"png\", \"ps\", \"raw\", \"svg\", \"tif\"];\n",
       "\n",
       "mpl.default_extension = \"png\";var comm_websocket_adapter = function(comm) {\n",
       "    // Create a \"websocket\"-like object which calls the given IPython comm\n",
       "    // object with the appropriate methods. Currently this is a non binary\n",
       "    // socket, so there is still some room for performance tuning.\n",
       "    var ws = {};\n",
       "\n",
       "    ws.close = function() {\n",
       "        comm.close()\n",
       "    };\n",
       "    ws.send = function(m) {\n",
       "        //console.log('sending', m);\n",
       "        comm.send(m);\n",
       "    };\n",
       "    // Register the callback with on_msg.\n",
       "    comm.on_msg(function(msg) {\n",
       "        //console.log('receiving', msg['content']['data'], msg);\n",
       "        // Pass the mpl event to the overridden (by mpl) onmessage function.\n",
       "        ws.onmessage(msg['content']['data'])\n",
       "    });\n",
       "    return ws;\n",
       "}\n",
       "\n",
       "mpl.mpl_figure_comm = function(comm, msg) {\n",
       "    // This is the function which gets called when the mpl process\n",
       "    // starts-up an IPython Comm through the \"matplotlib\" channel.\n",
       "\n",
       "    var id = msg.content.data.id;\n",
       "    // Get hold of the div created by the display call when the Comm\n",
       "    // socket was opened in Python.\n",
       "    var element = $(\"#\" + id);\n",
       "    var ws_proxy = comm_websocket_adapter(comm)\n",
       "\n",
       "    function ondownload(figure, format) {\n",
       "        window.open(figure.imageObj.src);\n",
       "    }\n",
       "\n",
       "    var fig = new mpl.figure(id, ws_proxy,\n",
       "                           ondownload,\n",
       "                           element.get(0));\n",
       "\n",
       "    // Call onopen now - mpl needs it, as it is assuming we've passed it a real\n",
       "    // web socket which is closed, not our websocket->open comm proxy.\n",
       "    ws_proxy.onopen();\n",
       "\n",
       "    fig.parent_element = element.get(0);\n",
       "    fig.cell_info = mpl.find_output_cell(\"<div id='\" + id + \"'></div>\");\n",
       "    if (!fig.cell_info) {\n",
       "        console.error(\"Failed to find cell for figure\", id, fig);\n",
       "        return;\n",
       "    }\n",
       "\n",
       "    var output_index = fig.cell_info[2]\n",
       "    var cell = fig.cell_info[0];\n",
       "\n",
       "};\n",
       "\n",
       "mpl.figure.prototype.handle_close = function(fig, msg) {\n",
       "    var width = fig.canvas.width/mpl.ratio\n",
       "    fig.root.unbind('remove')\n",
       "\n",
       "    // Update the output cell to use the data from the current canvas.\n",
       "    fig.push_to_output();\n",
       "    var dataURL = fig.canvas.toDataURL();\n",
       "    // Re-enable the keyboard manager in IPython - without this line, in FF,\n",
       "    // the notebook keyboard shortcuts fail.\n",
       "    IPython.keyboard_manager.enable()\n",
       "    $(fig.parent_element).html('<img src=\"' + dataURL + '\" width=\"' + width + '\">');\n",
       "    fig.close_ws(fig, msg);\n",
       "}\n",
       "\n",
       "mpl.figure.prototype.close_ws = function(fig, msg){\n",
       "    fig.send_message('closing', msg);\n",
       "    // fig.ws.close()\n",
       "}\n",
       "\n",
       "mpl.figure.prototype.push_to_output = function(remove_interactive) {\n",
       "    // Turn the data on the canvas into data in the output cell.\n",
       "    var width = this.canvas.width/mpl.ratio\n",
       "    var dataURL = this.canvas.toDataURL();\n",
       "    this.cell_info[1]['text/html'] = '<img src=\"' + dataURL + '\" width=\"' + width + '\">';\n",
       "}\n",
       "\n",
       "mpl.figure.prototype.updated_canvas_event = function() {\n",
       "    // Tell IPython that the notebook contents must change.\n",
       "    IPython.notebook.set_dirty(true);\n",
       "    this.send_message(\"ack\", {});\n",
       "    var fig = this;\n",
       "    // Wait a second, then push the new image to the DOM so\n",
       "    // that it is saved nicely (might be nice to debounce this).\n",
       "    setTimeout(function () { fig.push_to_output() }, 1000);\n",
       "}\n",
       "\n",
       "mpl.figure.prototype._init_toolbar = function() {\n",
       "    var fig = this;\n",
       "\n",
       "    var nav_element = $('<div/>')\n",
       "    nav_element.attr('style', 'width: 100%');\n",
       "    this.root.append(nav_element);\n",
       "\n",
       "    // Define a callback function for later on.\n",
       "    function toolbar_event(event) {\n",
       "        return fig.toolbar_button_onclick(event['data']);\n",
       "    }\n",
       "    function toolbar_mouse_event(event) {\n",
       "        return fig.toolbar_button_onmouseover(event['data']);\n",
       "    }\n",
       "\n",
       "    for(var toolbar_ind in mpl.toolbar_items){\n",
       "        var name = mpl.toolbar_items[toolbar_ind][0];\n",
       "        var tooltip = mpl.toolbar_items[toolbar_ind][1];\n",
       "        var image = mpl.toolbar_items[toolbar_ind][2];\n",
       "        var method_name = mpl.toolbar_items[toolbar_ind][3];\n",
       "\n",
       "        if (!name) { continue; };\n",
       "\n",
       "        var button = $('<button class=\"btn btn-default\" href=\"#\" title=\"' + name + '\"><i class=\"fa ' + image + ' fa-lg\"></i></button>');\n",
       "        button.click(method_name, toolbar_event);\n",
       "        button.mouseover(tooltip, toolbar_mouse_event);\n",
       "        nav_element.append(button);\n",
       "    }\n",
       "\n",
       "    // Add the status bar.\n",
       "    var status_bar = $('<span class=\"mpl-message\" style=\"text-align:right; float: right;\"/>');\n",
       "    nav_element.append(status_bar);\n",
       "    this.message = status_bar[0];\n",
       "\n",
       "    // Add the close button to the window.\n",
       "    var buttongrp = $('<div class=\"btn-group inline pull-right\"></div>');\n",
       "    var button = $('<button class=\"btn btn-mini btn-primary\" href=\"#\" title=\"Stop Interaction\"><i class=\"fa fa-power-off icon-remove icon-large\"></i></button>');\n",
       "    button.click(function (evt) { fig.handle_close(fig, {}); } );\n",
       "    button.mouseover('Stop Interaction', toolbar_mouse_event);\n",
       "    buttongrp.append(button);\n",
       "    var titlebar = this.root.find($('.ui-dialog-titlebar'));\n",
       "    titlebar.prepend(buttongrp);\n",
       "}\n",
       "\n",
       "mpl.figure.prototype._root_extra_style = function(el){\n",
       "    var fig = this\n",
       "    el.on(\"remove\", function(){\n",
       "\tfig.close_ws(fig, {});\n",
       "    });\n",
       "}\n",
       "\n",
       "mpl.figure.prototype._canvas_extra_style = function(el){\n",
       "    // this is important to make the div 'focusable\n",
       "    el.attr('tabindex', 0)\n",
       "    // reach out to IPython and tell the keyboard manager to turn it's self\n",
       "    // off when our div gets focus\n",
       "\n",
       "    // location in version 3\n",
       "    if (IPython.notebook.keyboard_manager) {\n",
       "        IPython.notebook.keyboard_manager.register_events(el);\n",
       "    }\n",
       "    else {\n",
       "        // location in version 2\n",
       "        IPython.keyboard_manager.register_events(el);\n",
       "    }\n",
       "\n",
       "}\n",
       "\n",
       "mpl.figure.prototype._key_event_extra = function(event, name) {\n",
       "    var manager = IPython.notebook.keyboard_manager;\n",
       "    if (!manager)\n",
       "        manager = IPython.keyboard_manager;\n",
       "\n",
       "    // Check for shift+enter\n",
       "    if (event.shiftKey && event.which == 13) {\n",
       "        this.canvas_div.blur();\n",
       "        event.shiftKey = false;\n",
       "        // Send a \"J\" for go to next cell\n",
       "        event.which = 74;\n",
       "        event.keyCode = 74;\n",
       "        manager.command_mode();\n",
       "        manager.handle_keydown(event);\n",
       "    }\n",
       "}\n",
       "\n",
       "mpl.figure.prototype.handle_save = function(fig, msg) {\n",
       "    fig.ondownload(fig, null);\n",
       "}\n",
       "\n",
       "\n",
       "mpl.find_output_cell = function(html_output) {\n",
       "    // Return the cell and output element which can be found *uniquely* in the notebook.\n",
       "    // Note - this is a bit hacky, but it is done because the \"notebook_saving.Notebook\"\n",
       "    // IPython event is triggered only after the cells have been serialised, which for\n",
       "    // our purposes (turning an active figure into a static one), is too late.\n",
       "    var cells = IPython.notebook.get_cells();\n",
       "    var ncells = cells.length;\n",
       "    for (var i=0; i<ncells; i++) {\n",
       "        var cell = cells[i];\n",
       "        if (cell.cell_type === 'code'){\n",
       "            for (var j=0; j<cell.output_area.outputs.length; j++) {\n",
       "                var data = cell.output_area.outputs[j];\n",
       "                if (data.data) {\n",
       "                    // IPython >= 3 moved mimebundle to data attribute of output\n",
       "                    data = data.data;\n",
       "                }\n",
       "                if (data['text/html'] == html_output) {\n",
       "                    return [cell, data, j];\n",
       "                }\n",
       "            }\n",
       "        }\n",
       "    }\n",
       "}\n",
       "\n",
       "// Register the function which deals with the matplotlib target/channel.\n",
       "// The kernel may be null if the page has been refreshed.\n",
       "if (IPython.notebook.kernel != null) {\n",
       "    IPython.notebook.kernel.comm_manager.register_target('matplotlib', mpl.mpl_figure_comm);\n",
       "}\n"
      ],
      "text/plain": [
       "<IPython.core.display.Javascript object>"
      ]
     },
     "metadata": {},
     "output_type": "display_data"
    },
    {
     "data": {
      "text/html": [
       "<img src=\"data:image/png;base64,iVBORw0KGgoAAAANSUhEUgAAAoAAAAHgCAYAAAA10dzkAAAgAElEQVR4nOzdeXhV1bk/cPzZ6em9vffp+Nze9nHhgCNVW7UOtbXWVlu13tpqrUOr1drBDmqtXWGMzDLLDIJMgoDI6MpEICEhgSSEkJGQBAiZyDzPOefs9/fHPnsDMp1kD2sP38/znH8w5+xXeGG9Z++13ncYAQAAAICvDJMdAAAAAADYCwUgAAAAgM+gAAQAAADwGRSAAAAAAD6DAhAAAADAZ1AAAgAAAPgMCkAAAAAAn0EBCAAAAOAzKAABAAAAfAYFIAAAAIDPoAAEAAAA8BkUgAAAAAA+gwIQAAAAwGdQAAIAAAD4DApAAAAAAJ9BAQgAAADgMygAAQAAAHwGBSAAAACAz6AABAAAAPAZFIAAAAAAPoMCEAAAAMBnUAACAAAA+AwKQAAAAACfQQEIAAAA4DMoAAEAAAB8BgUgAAAAgM+gAAQAAADwGRSAAAAAAD6DAhAAAADAZ1AAAgAAAPgMCkAAAAAAn0EBCAAAAOAzKAABAAAAfAYFIAAAAIDPoAAEAAAA8BkUgAAAAAA+gwIQAAAAwGdQAAIAAAD4DApAAAAAAJ9BAQgAAADgMygAAQAAAHwGBSAAAACAz6AABAAAAPAZFIAAAAAAPoMCEAAAAMBnUAACAAAA+AwKQAAAAACfQQEIAAAA4DMoAAEAAAB8BgUgAAAAgM+gAAQAAADwGRSAAAAAAD6DAhAAAADAZ1AAAgAAAPgMCkAAAAAAn0EBCAAAAOAzKAANCIVCVFVVRW1tbdTe3o4XXnjhhRdeeLng1dbWRlVVVRQKhWSXEtKgADSgqqqKhg0bhhdeeOGFF154ufBVVVUlu5SQBgWgAW1tbXoCyf42gxdeeOGFF154RfbSbuC0tbXJLiWkQQFoQHt7Ow0bNoza29tlhwIAAAARwvqNAtAQJBAAAID7YP1GAWgIEggAAMB9sH6jADQECQQAAOA+WL9RABqCBAIAAHAfrN8oAA1BAgEAALgP1m8UgIYggQAAANwH6zcKQEOQQAAAAO6D9RsFoCFIIAAAAPfB+o0C0BAkEAAAgPtg/fZxARgMBmns2LE0fPhw+tznPkdXXXUVTZw4kRRFifgzkEAAAADug/XbxwXglClT6Mtf/jIJIai8vJw2b95M//mf/0nz5s2L+DOQQAAAAO6D9dvHBeAjjzxCL7744lm/9stf/pKeffbZiD8DCQQAAOA+WL99XABOmTKFGGNUUlJCRES5ubn0ta99jdatW3fB9/T19VF7e7v+qqqq8n0Cabr7AzQz/iiV1HXIDgXAFB9kVtCGzArZYQCABVAA+rgADIVCxDmnyy67jD71qU/RZZddRlOnTr3oe6Kjo2nYsGHnvPycQJp5u0uJcUEvrT4oOxQAw9p6Bmh4lKDhUYLaugdkhwMAJkMB6OMCcMOGDfTNb36TNmzYQPn5+bR27Vr60pe+RKtXr77ge3AH8MIenpdKjAv6wYwk2aEAGJZf1UaMC2JcUPbJFtnhAIDJUAD6uAD85je/SQsXLjzr1yZNmkTXXXddxJ+BBFJVtXTri+WVUYJ6B4KyQwIw5OO8Gj2nNx2slB0OAJgM67ePC8AvfelLtHjx4rN+berUqTRixIiIPwMJpFqZdkJfLBkXdLQW+wDB3RYll+n5PDX2iOxwAMBkWL99XAA+//zz9I1vfENvA7N161b6yle+Qv/+978j/gwkkOo3yw6cVQDG5J+SHRKAIVFb8vR8xr5WAO/B+u3jArCjo4NeffVVuuKKK/RG0GPGjKH+/v6IPwMJRNTS1U9XjYohxgU9uXQ/MS5o/u5S2WEBGPL0u6e/1Nw/M1l2OABgMqzfPi4AzYAEIvoou4oYF/TQ3BRanHyMGBf0jw05ssMCMOR7b+/RC8CrRsVQfyAkOyQAMBHWbxSAhiCBiF5ec5AYFzR7VwklFNYS44IemZ8qOyyAIRsIhujKqNPFH+OCStHfEsBTsH6jADTE7wnU0x+k68bGEuOCCqrb6FhDJzEu6PqxcRQKRT5TGcBJyhu7iHFB142NpZ8v2EeMC4orwL5WAC/x+/pNhALQEL8nkHbH755pe0hRFBoIhujq8B2TmtYe2eEBDElKSQMxLugnc/bS6xsPE+OCFiaVyQ4LAEzk9/WbCAWgIX5PoDc+zCXGBb21s1D/tR/NSibGBaWWNkiMDGDo3j9wUj/9uzBJbQfz+sbDssMCABP5ff0mQgFoiJ8TKBAM0a0TEohxQfuPNem/ru0JXJV2QmJ0AEM3JeYIMS5ows4iiis4RYwLemzBPtlhAYCJ/Lx+a1AAGuDnBDpwvIkYF3TLhAQKBE+fkHw7rpgYFzR2W4HE6ACG7k9rs/UvMaV1HcS4oJvGx5OiYF8rgFf4ef3WoAA0wM8J9NbOQmJc0D835Z7165vDbWGefveApMgAjPnZO+pc66TieuoLBPWTwHXtvbJDAwCT+Hn91qAANMCvCaQoCt0zTe2TFl9Ye9Z/y6loIcYFfXdKoqToAIZOURS6aXw8MS6orL6TiIh+OFPd15pe1ig5OgAwi1/X7zOhADTArwlUWNOmt8no6Q+e9d/aewf0BrodvQOSIgQYmuaufmJc0PAoQb0Dam6/tDqLGBe0dn+53OAAwDR+Xb/PhALQAL8m0JxdJcS4oJfXnH9G6h2TE4lxQbmVrTZHBmCMdgf7rqm79V+bGqseConeUXiRdwKAm/h1/T4TCkAD/JpAPw3vkdqcXXXe//6bZeoc1S2Hzv/fAZxq++Fqfa61ZtPBSmJc0HMrMiRGBgBm8uv6fSYUgAb4MYEqm7uJcUFXRglq6eo/78+M2ZZPjAuaHldsc3QAxizYU0qMC3rjw9OHm7JPqncF7z7jriAAuJsf1+9PQgFogB8TaHnqcWJc0FPL9l/wZ1amnSDGBf1x7fkfEQM41b/Czc3n7y7Vf621u1/f19rVF5AYHQCYxY/r9yehADTAjwn05NL9xLig9/ZduNGzNkrrgdl7bYwMwLhfh/N7++Hqs379tkm7iHFB+VVtkiIDADP5cf3+JBSABvgtgZo6++jKKPVOSFVL9wV/rrq1hxgXdM3oGBo4o0k0gNPdPXU3MS7oUEXLWb+uffHZllN9gXcCgJv4bf0+HxSABvgtgbTN8A/PS73oz4VCCl0/No4YF3S8odOm6ACM6QsEaXj4C05TZ99Z/y1qi7qvdVbCUUnRAYCZ/LZ+nw8KQAP8lkAvrVbn/L6TWHrJn314nnpSeFdRnQ2RARh3rKGTGBd047i4c8a+aXtf/7IuW1J0AGAmv63f54MC0AA/JVB3f4CuHRNLjAs6curS/79//yCHGBe0ZO8xG6IDMC7paD0xLuin75x7h1v7bw/OSZEQGQCYzU/r94WgADTATwkUV3CKGBd07/Q959wdOZ93EtV2Gv/6MPeSPwvgBKvTyy94el1rfzRidCwFQ5fOfwBwNj+t3xeCAtAAPyXQ6xsPE+OCJn5cFNHPf5xXQ4wLenxRmsWRAZhj4sdFxLigyeLcHA+GFP0O+MmmLgnRAYCZ/LR+XwgKQAP8kkADwRDd/FYCMS4o80RzRO8prm0nxgXd/FZCRHcMAWT7wxp1j+vaAyfP+98fmptCjAvaU4x9rQBu55f1+2JQABrglwRKL2skxgV9e+KuiB9/9Q6cPlHZ+IkTlQBO9OActcDbW9Jw3v/+1/WHiHFB76YctzkyADCbX9bvi0EBaIBfEih6RyExLujNzYPbz/f96UnEuKCM400WRQZgDkU53broROP5H/HO2VVCjAviH+XZHB0AmM0v6/fFoAA0wA8JpCiK3hw3cZAtXV5YmUmMC1qXcf5HagBOUd/Rq8+47g+cv3n5jlx1X+sTS9Jtjg4AzOaH9ftSUAAa4IcEyq9qI8YFXT82jnoHgoN676TwpvoJOyM7OAIgS/bJZmJc0D3T9lzwZwpr1L8Lt05IsDEyALCCH9bvS0EBaIAfEmhWwlFiXNCf1g6+Ae4HmRXEuKDfvZdpQWQA5tmaU0WMC/rNsgMX/Jme/iAxru5rbe7qtzE6ADCbH9bvS0EBaIAfEkjbGL81p2rQ7808od5V+d7bF76rAuAEcxMj2993z7Q9xLigrPLITsMDgDP5Yf2+FBSABng9gcobu4hxQVeNiqG27oFBv7+ps48YFzQ8SlBP/+AeHwPY6fVNap/LhUllF/25376n7mvdkFlhU2QAYAWvr9+RQAFogNcT6N0Udf7pM8sv/FjsYhRFoVsmqP0Di2q8+XsE3vDEknRiXNDO3JqL/txbOwsv2CwaANzD6+t3JFAAGuD1BNIWxdXp5UP+jF8ujmxhBZDpjsmJxLigvKrWi/7c+wdOEuOCfr8qy6bIAMAKXl+/I4EC0AAvJ1BjZ5/eyLmmtWfIn/Pm5lxiXNDcxBITowMwz5mHO1q7L364Y/+xJmJc0A9mJNkUHQBYwcvrd6RQABrg5QTaED7B++j8fYY+Z+neY8S4oL99kGNSZADmKq3rIMYFjYyOv+TYwjP7BQ62LRIAOIeX1+9IoQA0wMsJ9PtVWcS4oAV7Sg19zu4jdcS4oJ+9k2pSZADmSixSc/SR+ZfOUUVRaGR0PDEu6Ghthw3RAYAVvLx+RwoFoAFeTaDOvgCNGBNLjAsqqTO2yGknia8bG0uhCOcIA9jpvX0niHFBf1kXWa/LXyxKI8YFxeSfsjgyALCKV9fvwUABaIBXEygm/xQxLui+GUmXfCR2KYFgiEaMVovJqpZukyIEMI8263pabHFEP//Gh+q+1vm7jd0dBwB5vLp+DwYKQAO8mkCvbsghxgVNiTliyuf9ZM5eYlxQ8tF6Uz4PwEzadof1GZH19lucrO5rfXUD9rUCuJVX1+/BQAFogBcTaCAY0vc4HTRp2sGf388mxgWt2HfClM8DMNMDs9UvKPtKGyP6+YTC2oj3DAKAM3lx/R4sXxeAjDEaNmzYOa9XXnklovd7MYFSSxuIcUG3TdpFQZP27M2MV+cJj9qab8rnAZglFFLo2vB+18rmyLYoHGvoJMYFXT82DvtaAVzKi+v3YPm6AGxoaKDa2lr9lZiYSMOGDaPk5OSI3u/FBBq7rYAYFxS15eIzUQdja04VMS7o10v3m/aZAGaobevVxx0GgqGI3jMQDNHVo2IM98gEAHm8uH4Plq8LwE969dVX6eqrr4744IPXEigUUujOKbuJcUFJxebt18urag3fVUw07TMBzJB5opkYF/T96YNr7PyjWcnEuKDU0gaLIgMAK3lt/R4KFIBh/f399OUvf5mmTJlywZ/p6+uj9vZ2/VVVVeWpBMqtVAu1G8fFmdrktrMvoE9aaOseMO1zAYz68GAlMS7ouRUZg3rfy2sOEuOCVqVhXyuAG6EARAGo27RpE11++eVUU3PhmbXR0dHn3TPolQSaEV9MjAt6Zd0h0z9bu7N4qKLF9M8GGKrZCUPbn/p2nPp3Zey2AosiAwAroQBEAah78MEH6dFHH73oz3j9DuCPw6chtx+uNv2zn1l+gBgX9OHBStM/G2CotJZHS/YeG9T7Nmer+1qffveARZEBgJVQAKIAJCKikydP0v/7f/+Ptm/fPqj3eSmBjodPNl49Kobaesx/TDtue8Ggmu0C2EGb6hE7yKkeORUtxLig707BvlYAN/LS+j1UKABJfbT7P//zPxQIBAb1Pi8l0JK9x4a0FypSa/aXE+OC/rDmoCWfDzAUt03aRYwLKqhuG9T72nsH9H2tHb3Y1wrgNl5av4fK9wVgKBSiK664gjjng36vlxLo8fCdkLUHTlry+WlljcS4oPtnJVvy+QCD1XXG4aT2IRRxd0xOJMYF5Va2WhAdAFjJS+v3UPm+AExISKBhw4ZRSUnJoN/rlQSqb++l4VHqQljb1mvJNbR+a1ePiqGBCPutAVjpyKl2YlzQrRMShvT+3yxT97VuOVRlcmQAYDWvrN9G+L4ANMIrCbQ+o4IYF/TYwjTLrqEoCt04Lo4YF1RW32HZdQAiFR8e6fbYgn1Dev+YbfnEuKAZ8djXCuA2Xlm/jUABaIBXEuj5lZnEuKCFSWWWXufnC/YR44LiCmotvQ5AJJanHifGBf11/dDaHq1MO0GMC/rT2myTIwMAq3ll/TYCBaABXkigjt4BGjE61pY7c69tPGxLoQkQCW3s4VDv4KWUqHOzH5i91+TIAMBqXli/jUIBaIAXEmhnbo16OGNmcsQj8IZqwZ5SYlzQ65sOW3odgEj87j31zvfGrIohvb+6tYcYF3TNaOxrBXAbL6zfRqEANMALCfS3D3Js688Xm3/K8r2GAJG6f6Y6z3f/saYhvT8UUuj6seq+1uMNnSZHBwBW8sL6bRQKQAPcnkB9gSDdND7ethFtJXUdxLigkePjLb/bCHAxwZBC14yOIcYFVbf2DPlzHp6XSowL2lVUZ2J0AGA1t6/fZkABaIDbE2hveA/T7ZMTKRSyviDrCwTpynC7mfp2a9rNAETizMe3QQO5//cPhjZKDgDkcvv6bQYUgAa4PYFGb1XbWIzamm/bNe+bkUSMC0o/1mjbNQE+Kf1Yo7731Yh3EtV9rf/6MNecwADAFm5fv82AAtAANydQKKTokwySj9bbdt0XV2VZOnEEIBIbs9Tel797L9PQ53ycpx6ienwR9rUCuImb12+zoAA0wM0JdCg8zP6m8fHUFwjadt2pMUeIcUHROwptuybAJ82ILybGBY3dVmDoc7RpIje/lYB9rQAu4ub12ywoAA1wcwJNi1UXwL99kGPrdTdlVRLjgp5bkWHrdQHO9Nf1h4hxQctTjxv6nN6BoD5GsbGzz6ToAMBqbl6/zYIC0AA3J9D9s9QWGDtza2y9bvbJZmJc0D3T9th6XYAzPRaeShNfaHwqzfenq/taM44PrZ0MANjPzeu3WVAAGuDWBCqr79RPQHb0Dth67ZaufmJcvWPS1Rew9doAmlsnJBDjgo6cMv5394XwKMX1GUNrKA0A9nPr+m0mFIAGuDWBFiWXmbIBfqi+M3EXMS6ooLpNyvXB39p7B0z9EjLp4yJiXNDEj4tMiA4A7ODW9dtMKAANcGsCPbYwjRgXtC5DzkncJ5fsJ8YFbT9cLeX64G8F1W3EuKDbJu0y5fM+yDTnRDEA2Met67eZUAAa4MYEqm3rJcYFDY+S14w5akseMS5odsJRKdcHf9NGEv7CpNYtmSfUfa3fexv7WgHcwo3rt9lQABrgxgRae+Ck9L5ly1OPE+OCXll3SFoM4F9L9h4jxgW9usGcE/BNnX36l6qefvtaKgHA0Llx/TYbCkAD3JhAz63IkD66Kqm4nhgX9NDcFGkxgH+NCk/AMesOtKIodEv4UElRjXv+LQDwMzeu32ZDAWiA2xKorWeArh4VQ4wLOt7QKS2OiqZuYlzQiDGxhuawAgyF9iVoc3aVaZ/5y8XpUtoqAcDQuG39tgIKQAPclkDbD1cT44IemL1XahzBkEIjxsQS44IqmrqlxgL+o/XtyzzRbNpnvrk5lxgXNDexxLTPBADruG39tgIKQAPclkCvrFOnH0yPK5YdCj00N4UYF5RUbN8cYoBAMERXhe+C17aZdwhqaXhfod2TdQBgaNy2flsBBaABbkqg3oEg3TgujhgXdLiyVXY4ejFqdBQXwGBo2w+uHRNLIRO3HyQW1RHjgn72TqppnwkA1nHT+m0VFIAGuCmBtIMXd07ZberCN1Szd5UQ44KituTJDgV8ZF9poyXbIMobu4hxQdeNNbewBABruGn9tgoKQAPclEBa772x2wpkh0JEp/cjPrlkv+xQwEfWZ6hNm3+/KsvUzw0EQzRitLqvtaoF+1oBnM5N67dVUAAa4JYECoYUum2SOn4ttbRBdjhEdHoaw7cnmjONASASU2OPEOOConcUmv7ZP5mzlxgXtLfEGX/HAODC3LJ+WwkFoAFuSaDsk+qkgpHR8dQfCMkOh4iIuvsD+jzW5q5+2eGAT/xlXTYxLui9fSdM/+w/v2/dZwOAudyyflsJBaABbkmgqTHqXY9/mDT5wCz3TNtDjAs6WG5eOw6Ai3lkfioxLiixqM70z54Zf5QYFzRqa77pnw0A5nLL+m0lFIAGuCGBFEWh+2aofc9E3inZ4ZxFa8i7MatCdijgA4qi0MjoeGJcUGldh+mfvzWnihgX9Oul2NcK4HRuWL+thgLQADckUEldhz51o7MvIDucs0TvKCTGBU2JOSI7FPCB1u5+fduBFTN786paiXFBt01KNP2zAcBcbli/rYYC0AA3JNCCPaWWnHo0w9oDJ4lxQS86MDbwHq1Au2OyNQVaZ9/pfa1t3QOWXAMAzOGG9dtqKAANcEMC/XzBPmJc0IZM5z1mTT+m9mS7b0aS7FDAB3bm1hDjgp5Ykm7ZNe6cspsYF3SoosWyawCAcW5Yv62GAtAApydQTWsPMS5oeJSgho4+2eGco769lxgXdGWUoL6A+Y/kAM60MKmMGBf0+qbDll3jmeUHiHFBHx6stOwaAGCc09dvO6AANMDpCbRmfzkxLuhXi62742GEoig0cry6Kb/Egk35AGfiH6nN0Ocmllh2jXHbC4hxQdNi5c/bBoALc/r6bQcUgAY4PYG0uxHLUo7JDuWCHluYRowLis131gll8J7fLFP/PmzNqbLsGqvT1S9df1hz0LJrAIBxTl+/7YAC0AAnJ1Bb9wBdNSqGGBdU3tglO5wL+uemXGJc0II9pbJDAY/T+k5mn7Su76Q2a/j+WcmWXQMAjHPy+m0XFIAGODmBtJ5kD85JkR3KRS1KVvdlvbbRun1ZAP2BEF0ZpZ7QtXI/bG2buq/16lExNBB0xtQdADiXk9dvu6AANMDJCaSNpZqVcFR2KBcVX1hLjAt6dP4+2aGAh51o7CLGBV0/No4URbHsOoqi0I3j4ohxQWX1nZZdBwCMcfL6bRcUgAY4NYF6B4J0Q3gRyq9qkx3ORZXVdxLjgm4YZ+3CDP62t6TBtjviWuul+MJay68FAEPj1PXbTr4uAKurq+nZZ5+lL33pS/S5z32ORo4cSQcPRr5526kJtPtIHTEu6K6pux1fVA0EQ3R1eK/iqbYe2eGAR63db9/hjNc2HibGBS1MKrP8WgAwNE5dv+3k2wKwpaWFGGP0wgsvUGZmJp04cYISEhLo2LHIT8w6NYHe3KwerBi/vUB2KBG5f1YyMS5oX2mj7FDAoyaLImJc0MSPiyy/ljZ9x8p+gwBgjFPXbzv5tgDknNO9995r6DOcmEDBkELfnriLGBeUXuaOguoPaw4S44JWp5fLDgU86o9r7cux2PxTxLigxxamWX4tAK8Lhax5iuXE9dtuvi0Ab7jhBnrttdfoiSeeoK9+9at066230rvvvnvR9/T19VF7e7v+qqqqclwCZZ5oJsYF3fxWgmtOIU6LLSbGBY1zyR1LmRRFoaV7j1GaS4p7p3hobgoxLijpaL3l1yqp6yDGBY0cH+/4LRgATlZQ3UYPzU2hExa0MkMB6OMC8LOf/Sx99rOfpVGjRlFOTg4tW7aMPve5z9Hq1asv+J7o6GgaNmzYOS8nJdCkj9VHXa+7qK3KhwcriXFBzyw/IDsUx0stbdD3d0JkzjyZe6zB+pO5fYGg3nKmvr3X8usBeFFZfaf+NOuVdYdM/3wUgD4uAD/96U/T3Xfffdav/f3vf6e77rrrgu9x+h1ARVHo+9OTiHFBcQXumaxxqKKFGBd05xQUNZcyK+EoMW59Pzsvaers02di2zVz+r4Z6t/D9GO4UwswWJXN3XTnlN16i7CO3gHTr4EC0McF4BVXXEEvvfTSWb+2ePFi+t///d+IP8NpCVRc206MC7p2TCx19wdkhxOxtu4Bvajp7HNP3DI8tWy//nuVUtIgOxxX0L5g3G3jXdMXV2UR44LWHjhp2zUBvKC+vZd+EP4C9cDsvdTc1W/JdZy2fsvg2wLw6aefPucQyGuvvXbOXcGLcVoCvZOonj58aXWW7FAG7bZJicS4oLyqVtmhOFZ/IETXjY3VC8Ale50749lJth+uJsYF/XrpftuuOSXmCDEuKHpHoW3XBHC71u5+enCOul/33ul7qLbNui0UTlu/ZfBtAZiVlUWf+tSnaMqUKVRWVkbr16+nz3/+87Ru3bqIP8NpCfTwvFRiXNCmrErZoQyadmdra06V7FAcKyd8J0t7/f2DHNkhucL83eoXo399mGvbNTdmVRDjgp5bkWHbNQHcrLMvQI8tTCPGBd0xOZEqmrotvZ7T1m8ZfFsAEhF9/PHHNHLkSPrsZz9L119//SVPAX+SkxKoqqWbGBd0ZZSgpk737Q0bvTWfGBc0M97Zo+tkWpZyjBgX9K3oeP3xCFzaGx+qfTEX7Cm17ZrZJ9XT+PdM22PbNQHcqncgSE+/e4AYF3TLhAQqqeuw/JpOWr9l8XUBaJSTEmhl2gliXNCTNj7mMtN7+9T4/7Q2W3YojqX1S9ROel8ZJain355DDW725FL17vL2w9W2XbOlq1+/U+um/bgAdhsIhuil1eq/bTeOi6PcSnu2ATlp/ZYFBaABTkqg3yxTvz0tTz0uO5Qh0Wa1/hh3tc5LURS6dUICMS7oUEUL3TZJbY9w2KZ/LN3srqnqacKcihZbr/udcAuLgmpnz+MGkCUUUujVDTn64cX9x5psu7aT1m9ZUAAa4JQEaunqp6vC83St3jdhFe0R9jWjYyjgkgbWdiqr7yTGBV03Npb6AyF6bkUGMS5ofUaF7NAcrXcgSMPDPfmsOk14IU8usf/OI4BbKIpCY7apW3+uHhVDe4rrbL2+U9ZvmVAAGuCUBNqcXUWMC3poborUOIwIhRT9hKsVXd/dbkOmeqjgqWXqI/6pseop0zHb8iVH5mxa4XyThKkcUVvyiHFBsxOwrxXgk96OK9b7c+7IrbH9+k5Zv2VCAWiAUxLo5fDesNm7SqTGYdTP3lFPMScW2ftN0A3+uUk9yDArXExorU1+sQjzZi9mT3EdMS7oZ++k2n7t5UK50P8AACAASURBVKnHLZtiAOBmi5LL9D2ysp5iOGX9lgkFoAFOSKCe/qB+56ywxt17jf72gboXZCn6251Da4y6N9z8uaxenTd7/dg4Clo0LN0LVqXJO1yUVFzv+jvzAGZbe+CkXvzJ/LfeCeu3bCgADXBCAiUU1urtJtw+eH5uYgkxLujNzfb1a3OD+vZe/dSvNhIpeMYjczvm27rVhJ3qiekpMUdsv3ZFk7qvdcSYWBTpAES0Lada35Mru+WXE9Zv2VAAGuCEBNJ6nL210/0TB3bm1hDjgn65OF12KI4i8k6d9zGm1jR1p4T9M27x0mp1JNv7EkayBUMKjRgT6+rDWQBmSSyq0w8rjt9eIP2GhRPWb9lQABogO4ECwZDeGsTO4/NWKapRZxnf/FaC9H8cnCR6R6H+j+aZoraoJ+jejiuWFJnz/WTOXqlzkx+aq461Siqul3J9ACdIL2vUvwy9vvEwhRxwR1z2+u0EKAANkJ1A+4816Z3TvdA65cyWHW6cZmKVR+annvdOn7aX5nfvZUqKzNkU5fRj8nJJJ8tfWXfI1f05AYzKqWihG8bFEeOCXl5z0DFrlez12wlQABogO4He2qneGfrnJu/smbt3+h5iXFDmiWbZoThCZ1+ArgwXxZ8cjH4oPBv49smJkqJztjP3Tg5IWnRmJxwlxgVFbcmTcn0AmYpr2+nmt9SnVM8uz6C+gHMmF8lev50ABaABMhNIURS6Z5paLCUU1tp+fas8vzKTGBf0QSYaHBMRpZaqE1LunX7uTNnu/oB+x7S+o/c87/a3g+XqPN7vvS1vHq/WrufJJe4c0QgwVOWNXXT75ERiXNDji9Koq89ZIxFRAKIANERmAhXWtOmTIbw0D3ZieM7txI+LZIfiCLN3lej7Zs7n/lnJZ7WHgdO2HFIbpD/97gFpMRRUq39PvzNxl7QYAOx2qq1Hv0Hx0NwUausekB3SOVAAogA0RGYCzQkXBi+vOWj7ta20PkOdePH8SuxrIyJ6+t0DF22W+tf16h6zxcnonfhJ2t8RmY9fu/sDes+zFptH0QHI0NTZRz8KfzH94cxkauhw5n5uFIAoAA2RmUA/DU/N2JxdZfu1rZRxvOmCjzz9ZiAYouvHqpunS+s6zvszWkf9v67HtIlPen3jYWJc0KLkMqlxaHdCsk9iXyt4W3vvAD08T12b7p66m6pbe2SHdEEoAFEAGiIrgSqbu/XN7V67q9DY2afPh+wd8M6j7aHIrWzVT3lfqG1C8lF12sT9s5LtDc4FfrU4nRgX9HGe3D6Jz63IIMYFbczCvlbwrp7+ID2xJF3f8uD0BvUoAFEAGiIrgbQZo08t897GckVR9FNjR0759y8m0ek/55dWZ13wZ+o7evWCubvfWZusZdM2oOdXyR2RqPVxlDGNBMAO/YEQ/e499QDfyOh4V4wlRQGIAtAQWQn05NL9xLiglWknbL2uXR5flOaIOzey/XHtQWJc0JJLzMu8bZJa6ByqaLEpMufr6Q/qe+9kb0DX+jW+uOrChTyAWwVDCv1lXbY+m9wtWx1QAKIANERGAjV19ul94apavDle6l/h8XbvJJbKDkUaRVHoOxN3RbR37Lfhb94yxp05VUldhz5VRrb0Y43EuKD7ZiTJDgXAVKGQQm9uVv+9HjE6llJL3dONAAUgCkBDZCTQpoOVxLigh+elXvqHXWrJ3mPEuKC/f5AjOxRpjjd0EuOCrh0Te8nmqdNii4lxQaO25tsUnfPtKqojxgU9On+f7FDOakjtpEa4AEYoikITdhbpuR1XcEp2SIOCAhAFoCEyEuil1Qc9f3dMW7y9XOReyqYstdB/cuml93nuzK0hxgX938I0GyJzhxX7ThDjgl5ZJ/90tKIoNHJ8PDEuqOQCp7kB3GZuYom+zcKN3ShQAKIANMTuBOruD9C14YHaXj4god39un5snCOGhsugPQafEV98yZ89Fv79um5sLAV9+vv1SeO3FxDjgt6Ou/Tvnx0eW6jua43Nd9ddEoDz0b5gMS5olUv3oqMARAFoiN0JFFdwSu+RpyjeXegDwRBdMzqGGBeO7iNlpR/OVBupJh2tv+TPBkOK3i+wrN7ZrRfs8oLDRgq+vkntSbhgj3fv3IM/aE8nGBc0f7d78xkFIApAQ+xOIK2x7SQfjEn78ey9xLigFB+OOGvoON0Lsa0nshOsvwifnN6R6++T0xptEkFaWaPsUIjodMPu1y4w0g/ADWLyT+mHECeLIlffiEABiALQEDsTaCAY0vvjZZ5wxzF7I/60Vm0r8N4+dz5eMCI2/5Q+QzNSo7fmE+OCpsU645GnTKGQQiPCWyUqm51xUj6+sJYYF/TzBfIPpQAMRfLRev3JDP8oz9XFHxEKQCIUgIbYmUDpZWoriW9P3OWLfV4z4tWTraN9eLJVO1k3dltBxO9Zl6H2mntuRYaFkbnDqbYeYlzQ1aNiKBAMyQ6HiIjK6tV9mjeOi3P9wgn+k1XeTNeNjdXHTnphDUIBiALQEDsTSJsm8ObmXMuv5QRbDlV5dtrJpfx8wT5iXND2w9URvyenokUfweT3AkObJ/0DB/XdGwiG6OpR6t2T2rZe2eEARKyguk0/xf7CykzqDzjjS5VRKABRABpiVwIpikJ3T91NjAtKLKqz9FpOoc3BvX1youxQbNXVF6CrwoVCzSAOwPT0B/W9OfXt/i4wtF6ZTrsben94X+K+UmfsSwS4lLL6Tvp2uCH9k0v3U0+/d/pYogBEAWiIXQmUX9VGjAu6YVwc9Q545y/gxXT0Dpwe5RXhQQgvSAs/6r9n2p5Bv1c7+BDJyWEvm5Vw1JHbB/6wRu3huTq9XHYoAJdU2dxNd07ZrTdU7+j11r/DKABRABpiVwJpC9qf38+29DpO890p6ozbHB/NuNWaq766YfBTUP72QQ4xLmhhUpkFkbnHPzaovw9LLzFD2W7axJZx2yPf2wkgQ31HL903I4kYF/Tj2XupuatfdkimQwGIAtAQuxLowTkpxLigrTnu67ZuxNPvHnBtl/mhenZ5xpDn+moj9F5ZL3/6hUz/F2667LTRVB+GH00/s/yA7FAALqi1u19fc+6dvseze1ZRAKIANMSOBCpv7CLGBV01Kobaur11C/5Sxm5z1jQHqwWCIbphnNrQ+Wjt4EeGpZQ0EOOC7p+ZbH5wLvKd8J6lwpo22aGc5VD4oM6dU3bLDgXgvDr7AvoXqDsmJ1JFkzPaKFkBBSAKQEPsSKB3U4779q7BqjR13NDLaw7KDsUWeVXqwZdvRccPaQTemQ2ku/oCFkTofJ19AX3vqNP2LLV1n97X2unTPx9wrt6BoP7U5ZYJCZ6fW40CEAWgIXYk0BNL0n27cTy1VL2j9aNZybJDsYU2X/P3q7KG/Bl3TFb3TWaf9M++yTMV1bTr/TKd6LZJ6p9PXlWr7FAAdAPBEL20Wj2kdNP4eMqt9H5+ogBEAWiI1QnU0NFHw8OtPQbTEsQralpPN/QdcEhDXyv9+X11+smi5KEf4ng+PAN37RD2EHpBXIE6ceOxhWmyQzmvXy/d78v9vOBcoZBCr4YPTl07JpYOHG+SHZItUACiADTE6gTakFnh6/FRiqLoe+KONXTKDsdSiqLod4eyyoc+6m96nHrSNGpLnonRuceyFPUgzN8/GPwpajtoI/tmxh+VHQoAKYpCY7bl61+09xT7o88sEQpAIhSAhlidQL9flUWMC1qwp9SSz3eDR+erUzHiC2tlh2Ip7bDPiDGx1BcYeq/Hj/Nq1DtgPv3SoC1mTi2w3gs/5vdbSydwJu0L4/AoQTtya2SHYysUgCgADbEygTr7AvpAe69vxr0Y7dGEkceibqC1CHliSbqhzzne0Kk/ynHKHFw7/fY99RH4pqxK2aGc197wSe2fzNkrOxTwucXJx/RDSeszKmSHYzsUgD4vAKOjo2nYsGFnva677rqI329lAsXknyLGBd03I8nXs13n7y4lxgX9c5O3ZyD/e3OeKS1vgqHTj81LffjFQWte69R9TFUt3eqd3tH+LNDBGd4/cFIv/palOKthul1QAKIApJtuuolqa2v1V2Nj5HM6rUwg7c7XlJgjpn+2m2iF8P85dFO/WbQ5sWbswXl8kdrHa/vhahMic49gSKGrhzBH2U6hkELXjVXv7Jc3dskOB3xo++Fq/XChU7dK2AEFIApAuuWWW4b8fqsSqD8QopHR8cS4oIMGDgR4wdHaDmJc0MjoeM/eCW3q7Ds999iEZt9aA+2pPvvycObdteAQ+ija5WfvpBLjghKL/LPhHpwhsaiOrgp/SRq/vcCz/6ZGAgUgCkD6/Oc/T1//+tfpyiuvpGeeeYYqKi68F6Kvr4/a29v1V1VVlSUJpPW/u23SLkcvZHboHQjSleFvq/Ud3hxJpLUueXBOiimf90H49PhzKzJM+Ty3SC9rVCehOLxvpDaz2WmzisHb0o816vvKX990eEjN5r0EBaDPC8DY2Fj68MMPKS8vj+Lj4+nuu++mK664gjo6zr936nx7Bq1IIO0Ojl9beXzSD8L7uvYfc+a+LqMmfVxEjAsavTXflM/LrVQninxn4i5ffcPX2iY9vzJTdigXNTexhBgX9OZmb+9rBefIqWjR9wa/vOYg9p8SCkAinxeAn9Ta2kr/9V//RStWrDjvf7frDuCxhk5amFTm+8e/Gq0dzvsebW78WHj25rYcc/bsnXnXtK7dm3dNz0draTFue4HsUC5qZ67aqueXi42d+AaIRHFtO938VgIxLujZ5RmG2kx5CQpAFIDnuP322ykqKiqin0UC2WOyUO+QvbWzUHYopuvuD+gHF6pazBu8/uPZe4lxQUnF9aZ9ptO9sv4QMS5oeepx2aFclDau7ua3Enx1hxbsV97YRbeHx0M+viiNuvsxg1qD9RsF4Fk6Ozvpi1/8Is2bNy+in0cC2UN7tPfb95z9aG8o0o+p+9bunrrb1M/9R/gU+cIkb/dPPNPPF6hNwxMc3jS8pz+on8Js6uyTHQ541Km2Hrpn2h5iXNBP30k15YCZl2D99nkB+MYbb9DevXupvLyc0tPT6cc//jF95StfoYaGhojejwSyR1Z5MzEu6J5pe2SHYrp54T6HZo8uW7pXbfL6l3X+mThxywT1MVdxrfP/Pn7vbXVhzjyBbR5gvqbOPvpRuLXUD2cmU0MHvmh8EtZvnxeATz31FH3961+nz3zmM/SNb3yDnnrqKTp2LPKTeUgge7R09ettUnr6vbV/5bkVGcS4oLX7y039XO0k+X0zkkz9XKdq6xnQc8QNj7meX6lOLPkg038TGMBa7b0D9PC8VP3JQrVDe2LKhvXb5wWgUUgg+3x74i5iXFBBdZvsUEwTCIboxvDJvCOnzM2hxjN6C3b2Ob8gMqqgui3cOilRdigRmRg++T3p4yLZoYCH9PQH6Ykl6XoXgOMNnbJDciys3ygADUEC2Uf7R81L0y20omVkdLwl/R6/OyXRN83ERd4pfaO7G6zPUPe1vuDwljXgHv2BEP0uPAt7ZHQ8FdZ458uyFbB+owA0BAlkH/6ROit39q4S2aGYZmXaCUv71mntc9aY/HjZibTB9q9tPCw7lIhkHG8ixgV9f7o/HtGDtYIhhf6yLpsYF3T92DjKPun9L31GYf1GAWgIEsg+76YcJ8YFvbL+kOxQTPPKukOWntSdGX+UGBfEP/J+Q/GoLfmu+oKgPaIfHiWod8Bb+1rBXqGQQm9uztXHIKaWRnaI0e+wfqMANAQJZJ89xXXEuKCH5pozLk02RVHojnB/rozj1kw4iclXH4v+fME+Sz7fSZ5ZfoAYF/RRdpXsUCKiKIrenNfs/Z/gH4qi0ISd6n7SK6MExRU4uwWSk2D9RgFoCBLIPiebuohxQdeOifXEfOSKpm79G7tVd4DKG9XfsxFjYj0/+une6WpblSwX7Xd8fJE6AebjvBrZoYBLaWMFGRe02SVffpwC6zcKQEOQQPYJhhQaMVodZF7ZbN7EDFk+yq6yfBxYKKTop4xL6s4/39oLBoIhuio8TcVNo+/+9aH62O6dxFLZoYALrdh3Qi/+VqWdkB2O62D9RgFoCBLIXg/OSVHHmx11/3izqC3qoZapsUcsvc6vFqebOmfYic68O+ym0WpLws26zW4CDt63KatSL/7m78YXiKHA+o0C0BAkkL20U25On/UaiQfCs3oTi+osvc647QXEuKDJwrv95rSm1z+evVd2KIOyq0jd1/rwvFTZoYCLxOSfoivDowQniyJXfelxEqzfKAANQQLZa1aCeqo1aku+7FAMaT5jsklLV7+l19LmKD+z/ICl15FpXcZJYlzQi6uyZIcyKMcbOvW2HSEP7GsF6yUfradrRsfop/tR/A0d1m8UgIYggey1LaeaGBf05NL9skMxJKGw1rY7VnlVrcS4oFsnJHh2sZgac4QYF/TWzkLZoQzKQDCkL+YY1wWXklXeTNeNVfdB/3X9IU8chpMJ6zcKQEOQQPY6Pe5rl+xQDJkSLljsuJPZOxDUD0icavNmkfHn99WtAStduBFe2wqQUoLebXBhBdVtNHJ8vD49pj/g7VP9dsD6jQLQECSQvbr6Avqj09Zuax+dWukX4fYfWw7Z07ZBOzyz+4i1+w1l0Qbfu/H/709r3Vu8gj3K6jv1WehPLt1PPf1oHG4GrN8oAA1BAtnv7qm7iXHh2lFHPf1B/bGfXe1sXtt42LOnBRVF0e+MlNW7r9XNjPhiYlzQmG3u3tcK1qhs7qY7p6j/5j06fx919A7IDskzsH6jADQECWS/51ZkEOOCNmVVyg5lSA6EZ8DeOWW3bXvytDF6f34/25br2anljAM1bhyptuWQ2g/yN8u8e0gHhqa+vZd+MCNJ3y/cbPGBMb/B+o0C0BAkkP2idxSq/fNirO2fZ5UFe0r1Tdx2SStrJMYF/WBGkm3XtEtupXrI5btTEmWHMiRa/HdMdmf8YI3W7n5968a90/dQbZt7Gpy7BdZvFICGIIHst3Z/OTEu6KXV7mr5ofnde5nEuKDV6eW2XfPMtjNee4S0I7dG3Ru1xJ0nwzt6B/Q/m3aP/dnA0HT2BeixhWn6F4OKJvdPPnIirN8oAA1BAtkvPXw364czk2WHMmjB0On9aoU1bbZe+67w3kk3zcqNxMKkMmJc0D835coOZci+OyWRGBeUU9EiOxSQrHcgSE+/e4AYF3TLhARPj3CUDes3CkBDkED2q2vvJcYFXTUqhvoC7trzVVijtrG5aXy87T28XlyVZfudRzu8udn983S1BX9ztj2nwsGZBoIhemn1Qf3fiNzKVtkheRrWbxSAhiCB7KcoCt0UvotW6rJvx6vT1cfXv30v0/Zra1NU3tzs3jtl5/PUsv2un3U8dps6ru/tuGLZoYAkoZBCr27I0WdaHzjeJDskz8P6jQLQECSQHI8t2EeMC4orOCU7lEH56/pD0tqxxOafIsYFPTLfW3Nn75m2J9wWyL2PT1elnSDGBb285qDsUEACRVFozLZ8YlzQ1aNiaE+x+/pZuhHWbxSAhiCB5Hg93NduYVKZ7FAipiiKvtdr/zH7v92fbOoixgWNGB1LA0FvTBHoCwRpeJR6gKKxs092OEOWWtpAjAv60axk2aGABG/Hqb0gh0cJ2pFbIzsc38D6jQLQECSQHNrG/9c3HpYdSsQqm7uJcUHXjI6R0sk/dMYBlOJab+Tr8YZOYlzQDePiXD3nuKa1R7/745XiHCKzKLlMPwW+PqNCdji+gvUbBaAhSCA54gpqiXFBjy3YJzuUiG3NURv+/mJRmrQYnlyy39YRdFZLPlpPjAt6aG6K7FAMURSFbhgXR4wLOtbQKTscsMnaAyf14m9ZyjHZ4fgO1m8UgIYggeQoq+/QT8q55c7PqK3qHp8pEhtYa020J31cJC0GM60J94T0wt65R+er+1oTCmtlhwI22JZTrW9fmBl/VHY4voT1GwWgIUggOfoDIbpqlDpP1y0d8n8yZ6/0BX5TViUxLujpd70xdmzSx0WeKWi1E6CLk3EnyOt2FdXp/36N317gmi+xXoP1GwWgIUggee6fmUyMC0ora5QdyiWdOa+2SeJhhYLqNr3BrBcWnZfXqD3T1uwvlx2KYfN3qyMC3/jQW2164GzpZY00Ykysuod502EK2dwPFE7D+o0C0BAkkDxaw1Q3LP6JRXWOOOXZOxCkq8N3Hmpae6TGYoaH5qqzUpOP1ssOxbCYcJsemXtEwVo5FS36Xs+X1xykAA78SIX1GwWgIUggeabGHtEfoTidFiv/KE92KHrRlFjk7l5jZx6cOO6BgxNHa9V9rd+Kds++VohccW073fxWAjEu6NnlGa6bYuRFWL9RABqCBJJn08FK/R9Tp/vl4nTHjPrSeii6eXQaEVFjZ5/eO80Li2nvQJCuDB8KqO9wx75WiEx5YxfdNkntAfr4ojTq7g/IDgkI6zcRCkBDkEDyZJ9sIcYF3TV1t+xQLqp3IEjXjFYfu1Y0dcsOh5anHifGBf1xrbtPzmp//vdM2yM7FNP8YEaStEbhYI1TbT36tJqfvpNKbd0DskOCMKzfKAANQQLJ09p9+mBFZ59zv1FnnmgmxgXdMTnREY/20ssaiXFB9053d+G0LaeaGBf01LL9skMxze9XZRHjgt4/cFJ2KGCCps4++tEs9bDaD2cmU0OHe6fVeBHWbxSAhiCB5Lpt0i5iXFB+VZvsUC5Im1ryyrpDskMhorML57Ye996NeCdRPTX75mbvnJqdLNS2Nm/tLJQdChjU3jtAD89LJcYF3T11N1V74NCV12D9RgFoCBJIrieXqpMttuVUyw7lgl5YmUmMC1qZdkJ2KDrtkVTGcfc+avznplzXzYO+lA2ZFcS4oN++lyk7FDCgpz9ITyxR9/1+Z+IuTHdxKKzfKAANQQLJFbVFna4xK8GZnfRDIYVGRqvzdwuqnXOXUmuh46SidLC0sXY7cmtkh2KarPJmz+1r9Jv+QIh++576pW9kdDwV1jjn7z2cDes3CkBDkEByrdh3ghgX9Jd12bJDOa8jp9qJcUE3jotzVM+v2btKiHFB/3Jx0+HvTlFPVeZWtsoOxTTNZzQM7+l3/8lmvwkEQ/SXddnEuKDrx8ZR9slm2SHBRWD9RgFoCBJIruSj9cS4oJ/M2Ss7lPNaG55V+9wKZ7WqiSuoJcYFPTwvVXYoQ9I7ENQLpZauftnhmOrbE9V9rbhz5C6hkEL/+lDdljBidCylljbIDgkuAes3CkBDkEByVTZ36//gOukOm+bvH+Q4sufemb9v/QHn/b5dSlm92jR55HjvNU3W9o556dG21ymKQhN2qgd4rowSFFdwSnZIEAGs3ygAddOmTaNhw4bRq6++GvF7kEByhUIKXRueq1ne2CU7nHPcPXU3MS4o3WHzihVFoZHj1b2JR065L3d3H6lz9R3Mi+Ef5RHjgubsKpEdCkRobmKJfkfaCc3eITJYv1EAEhFRVlYWDR8+nG6++WYUgC7z03fUVgu7jzhrtFl1aw8xLujqUTGO7PyvnaD+yIUL1so0de/nn9935t5PI95NURt1/3W9M9oGwcVp+5AZF7TKxYeq/AjrNwpA6uzspBEjRlBiYiLdd999KABd5q/rDxHjgpalHJMdylm2H1YbFT+2ME12KOcVvaOQGBc0YWeR7FAG7a2dauxTY47IDsV0e4rr9KkR4Gybsir14m/+bmdt84BLw/qNApB+97vf0WuvvUZEdMkCsK+vj9rb2/VXVVWV7xNItjnhE63/3pwnO5SzjNmmtqiZ9LEzCyxtlrIbJ2m8GJ6YsS7DexMzTjZ1EeOCrh0TS8GQt/Y3eklM/il9dvNkUeS5vah+gALQ5wXghg0baOTIkdTbqw5fv1QBGB0dTcOGDTvn5ecEkm1Hbg0xLuhXi9Nlh3KWh+amEOOC4gpqZYdyXoU1bcS4oG9Fu+8gxY9n7yXGhSdPWgZDCo0Yre5rrWyWPzsazpV8tF6f780/ynPd3x9QoQD0cQFYWVlJX/va1ygv7/SdI9wBdB+tkLl1QoLsUHRt3QM0PHx3oLHTmfM/+wMhfRGranFPoaEopw/+nGxy3sEfMzw4R/3ykHS0XnYo8AmZJ5rpurGx+j5N3KV1LxSAPi4At23bRsOGDaPLL79cfw0bNowuu+wyuvzyyykYvHQjViSQfD39p3vCNTukJ5y2j+v+mcmyQ7ko7QBNQqEz71KeT117LzEu6KpRMTTgwNY/ZtCaCS9PPS47FDhDQXWbfnr+hZWZrmyhBKdh/fZxAdjR0UEFBQVnvW6//XZ67rnnqKCgIKLPQAI5gzbbNqvcGZ33344rJsYFvbnZ2ZM2tHm6cxPd03JEG5d273TvjkublXCUGBcUtSVfdigQVlbfoTfpfnLpfkxq8QCs3z4uAM8Hp4DdSZu9uSGzQnYoRHS6me+mg5WyQ7korYXFy2sOyg4lYh9lVxHjgp5ZfkB2KJbZllOtFxogX2VzN905Re3p+ej8fdTROyA7JDAB1m8UgGdBAehOWluQyUL+idvegaC+id+JzanPtP9YEzEu6Htvu+dumjbH2Mt3x/Kr1H2tt03aJTsU36tv76UfzEgixgX9ePZex2wzAeOwfqMANAQJ5AzrMk7q+3JkOxh+RHnbpETHnw5s6x7Q90+29bjjrsZrGw8T44IWJzur76OZuvoC+p9LazcKDllau/v1Azn3Tt9DtW29skMCE2H9RgFoCBLIGQ4cV+9kfX96kuxQaHHyMVdNqdD2Tx443iQ7lIg8viiNGBck8rw9b1UbI5h9skV2KL7U2RegxxaquXbH5ESqaHLPSXmIDNZvFICGIIGcoaGjjxgXNDxKUO+A3M3ZWpPiFfvcMRbqD2sOuire2yYlEuOCCqrbZIdiqedWZLhiH6kX9Q4E6el3DxDjgm6ZkEAldR2yQwILYP1GAWgIEsgZFEWhb0Wr7RmKa+X9WYRCCt38VgIxLiivJwrbDwAAIABJREFUqlVaHIOhTVL55yZnn1gmIuruD7jukfVQaaP6psZ6b9ydkw0EQ/TSavVL0U3j4ym30h1/j2HwsH6jADQECeQcv3DAo8GjtR3EuKAbxsVRwCU96hIKa10ze7a4tl2/K+N1a/eXE+OCXlrtnhPabhcKKfTqhhx9FJ9btkXA0GD9RgFoCBLIOd74UO1pN0/iUPb3D5x0XYuSqpZuYlzQNaNjHN/YVitWf75gn+xQLJde1kiMC/qhw5uJe4WiKPr87qtHxdCe4jrZIYHFsH6jADQECeQc2uGLf2zIkRaDdvdgzi73NFY+8/F5YY2z99UtTz1OjAt6Zf0h2aFY7syJJ30BNB22mta8fXiUoB25NbLDARtg/UYBaAgSyDm0u0OPzJf3KFM7UbuvtFFaDEPx1LL9xLigDx1+4GDc9gJiXND0uGLZoVhOURS6KTx2rBSHECy1KLlM31u6PsMZzeTBeli/UQAaggRyjmMNncS4oOvHxlFIwoD2mtYe/Y5NV1/A9usbMWFnETEu6K2dhbJDuajnVzpr4ovVHluwjxgXFFfg7ZY3Mq0Nb9tgXNDSvd7tLQnnwvqNAtAQJJBzDARDdPWoGGJcUE1rj+3X35Fb49r9aZvD49V+7fDRY/fPSibGBaWXuesO61C9Hm56vTCpTHYonrQtp5qGR6nF38z4o7LDAZth/UYBaAgSyFl+FC4QUksbbL+29nhywk754+gGq6hGPV07MjresdNLgiFFH7FX1eKPprwLk9RHk69vPCw7FM/ZVVRHV4W/MI7fXuDYvAfrYP1GAWgIEshZXg43NV6VZn9T45++k0qMC4rNd9/juv5AiK4ZrS6Glc3OLK60R+xXj4qhoIRH/DLEFZwixgU95sK7yk6WXtZII8bE6sW1jC0jIB/WbxSAhiCBnGV6+CTfmG35tl63rWdAf5RU3+HOeaE/Cxew8YW1skM5L23c330z5I/7s0tZfYfekBh3qMyRU9FCN4yLI8YFvbzmoGv6dYL5sH6jADQECeQsH4X3sv1mmb19+JKO1ru+ONH6KM52aAubTVmVxLig376XKTsU2/QHQvpjyrp2d36xcJLi2nZ9Us+zyzPQXsfnsH6jADQECeQshytb9eHtdpoRr955fOND549Tu5CVaSccPXliZvxRKXd3Zbt/pr8OvlilvLFLnyP9+KI0153UB/Nh/UYBaAgSyFnaewf0lg7tvfbNin1yqdpHb2OWe9uTZIQfsd4zbY/sUM7rbx+oTbaXpfirVYc2l3bt/nLZobjWqbYevUfnQ3NTqK3b23OkITJYv1EAGoIEcp47Jqvf8g/bNMS9LxCka8Mbyo83dNpyTSucWTy3dvfLDuccjy1MC/fEc+YeRatMjT1CjAuK3uHsHo1O1dTZp3cH+OHMZGro6JMdEjgE1m8UgIYggZznN8sOEOOCPsqusuV62SdbiHFB35m4y/Ub9e+drt4lST/mvMeN3564ixgXVFTjr79rmw6qex+fW5EhOxTXae8doIfnqYeb7p66m6ol9AcF58L6jQLQECSQ82gD3e0aF7Z0rzqD+I9rnbl3bjD+uFZ93Lg89bjsUM7SccbdyU6f7d3SvmDcNXW37FBcpac/SE8sSde/nB1z8d15sAbWbxSAhiCBnEc7zGBXQabt0XJa0TQU7ySWqr3RNjmr8XBhTZu+kPtNa3e/b4vfoeoPhOi372Xqzc0La9pkhwQOhPUbBaAhSCDnSSlpIMYFPTB7r+XXCoUUumVCgq17Dq20q6hO3yjvJFpD5P9bmCY7FClum6Q+/s6vQiFzKYFgiP6yLlufC559sll2SOBQWL9RABqCBHKe6vDEiGtGx9CAxU1eS+vURr3XjY21/Fp2qD5j2oaTeqRpj9n/sSFHdihSaKfMt+VUyw7F0UIhhf4V7mc5YnSslJGQ4B5Yv1EAGoIEcp5QSKHrx8bZcip3fUaFlMbTVlEURW+UW1DtnLtNo7eq+zpnJRyVHYoUUVv8/f8fCUVRaMLOImJc0JVRguIK3DeSEeyF9RsFoCFIIGfSTv7tKqqz9DqvbzysTs/w0MKsnaLelFUpOxTdcysy1JgOOicmOy1PPU6MC/rLumzZoTjW3MQSfa/kZps6AIC7Yf1GAWgIEsiZ/rFBbRq8ONnapsFa25SUEu88apr0cZHj+s79YEYSMS4o43iT7FCkSA6PGnxwjrP2ZjrFin0n9OJvVdoJ2eGAS2D9RgFoCBLImebtLrV8NFttW6/+uMlLpzO3HFLnKT+5ZL/sUIhI3dR/dXge7qk2f/Zxq2zu1ve1BUPu7jVpNm1GNOOC5u8ulR0OuAjWbxSAhiCBnEnkqadGf7HIulOjH+fVEOOCHpmfatk1ZCiubSfGBd00Pp5CDig29OJnTKwj4pEhFFL0aTMnm7pkh+MYMfmn6MootfibLIpc34gd7IX1GwWgIUggZ9KKmG9Fx1u2KETvKHTco1IzDARDNGK0WmxUNHXLDofSyhqJcUE/mpUsOxSpfvqOuq91T7G1+1rdIvloPV0zWr0zzD/KQ/EHg4b1GwWgIUggZ+odCNLw8J0Bq2Z/agdNRJ73Ths+Mj81PHdX/v/bB5nqSesXVmbKDkWqv64/RIwLejfF/Q3Hjcoqb6brxqpfUv66/hAei8OQYP1GAWgIEsi5vj9dPThwwIKDAx29A/qjp7r2XtM/X7Y3N+c65nTztNhiYlzQ+O0FskORas6uEv1ul58VVLfRyPHx+peC/oD7+2+CHFi/UQAaggRyrhdWqqOg1mWcNP2z94anjXx/epLpn+0Eq8Lj9F5anSU7FHplnXrna8U+f5/u3JGr7jn91eJ02aFIU1bfSd+eqE5FeXLpfurpd06zcnAfrN8oAA1BAjmX1s5kws4i0z97VsJRR87MNUvmiWZiXNDdU3fLDoUenb/Plp6OTqfNQ751QoLsUKSobO6mO6fsJsYFPTp/H3X0DsgOCVwO6zcKQEOQQM6l7R373Xvm7x17apk6muuDzArTP9sJ2nsH9NYaLV39UmP5VrT6uO9obYfUOGTr6Q/qfybNkv9M7Fbf3qv3gnxg9l7f/f+DNbB+owA0BAnkXNpdrO+9vcfUz+0PhPQN6GX11o6ak0nbQ5le1igthrbu04UoHvcR3TNNbTyeVd4sOxTbtHb304NzUohxQfdO30O1bd7bcwtyYP1GAWgIEsi5mjr7iHFBw6PMLR5yKlr0R3Febj3x5/ezpZ86za9SH3vePjlRWgxO8tv31H2tGzx65/mTOvsC9NjCNGJc0B2TEx3Rlgi8A+s3CkBDkEDOpSgK3TIhgRgXVFjTZtrnvpuizmX9w5qDpn2mE80PT1N5baO8fY5as20/H3w401s7C/Wmx17XOxCkp99V51LfMiGBSur8vQUAzIf1GwWgIUggZ/vV4nRiXNCO3BrTPvPlNQeJcUHLUqydMyzb7iN10ufPLkouUw/bSCxCnWRdxkliXNDvV8k/nW2lgWCIXlqt/j27cVwc5Va2yg4JPAjrNwpAQ5BAzvbvzXnEuKA5u0pM+TxFUfQ2FIcqWkz5TKc61dZDjAu6alQM9Q7I2X8XtcXcPz+3O3C8iRgX9IMZ3mw/RKSOvXt1Qw4xLujaMbG0/5j5fTwBiLB+E/m8AFy8eDF961vfoi984Qv0hS98ge666y6KjY2N+P1IIGdblnJMnxZghrL6Tn1h8noDWkVR6NbwI/T8KvMeoQ+G9ghwy6EqKdd3moYOdV/rlVFCWlFuJUVRaMy2fGJc0NWjYjD2DiyF9dvnBeDOnTspJiaGSktLqaSkhEaPHk2f/vSnqbAwsvmuSCBn0x5j/vSdVFM+b0O4tcyvl+435fOc7pnlagG2MUvOoYPvva2eej3oo1OvF6Moiqfb4rwdV6wf3DJz2wbA+WD99nkBeD5f/OIXacWKFRH9LBLI2cobu/Q7diET5oX+c5M6Im1mvPwRaXaYLIqkjWEbCIb0cXv1Hhy3N1S/WKSeio3Jlz+n2Uzafk/GBa3P8McpZ5AL6zcKQF0wGKQNGzbQZz7zGSoqOv8pu76+Pmpvb9dfVVVVvk8gJwsEQzRitNqzr7LZeAsJrRlt8tF6E6Jzvq05VcS4oCeW2H8KVyverxsb6+l2O4P1xofql5D5u0tlh2Ka9w+c1Iu/pXu9fbgKnAMFIApAys/Pp//4j/+gyy+/nP77v/+bYmJiLviz0dHRNGzYsHNefk4gp/vJnL2mFG317b36/iu/jKE6WttBjAu6aXy8KXdQByMlPG/5J3P22npdp1ucrO5r/ceGHNmhmGJbTjUND9/p9cuddXAGFIAoAKm/v5/KysooOzuboqKi6Ctf+QruAHqI1tB4xb4Thj4nJv8UMS7oZybtJ3SDgWCIRoxR76CebOqy9draXaGXVnu75clgJRTWEuOCHpnv/jzcVVRHV42KIcYFjdtegDu9YCsUgCgAz/HAAw/QH//4x4h+FgnkfDPjjxLjgkZtzTf0OVoTXhn74WT6+YJ9UvacTYk5QowLmrDT+02PB+NYg3oS/fqxcbbflTVTelmj/uXi9Y2HXf3/Au6E9RsF4Dnuv/9+ev755yP6WSSQ82n72Iye3H10vloI7fTZ6UT+UZ6Ux3N/WqveuV2VZuzOrdcMBEN0dfiuWU1rj+xwhiSnooVuGBdHjAt6ec1BCgS93VIJnAnrt88LwKioKEpJSaHy8nLKz8+nqKgouuyyy2jXrl0RvR8J5Hx5Va3EuKDbJg19nmxnX0A/kXqqzZ2L7lCt2V8uZfrET99JJcYFesGdx49mJRPjglJLG2SHMmjFte1081tqf8lnl2dQX8B7/QzBHbB++7wAfPHFF4kxRp/5zGfoq1/9Kj3wwAMRF39ESCA36OwL6CcM27qHdngjtVQ9kPC9t/eYHJ3zHSxvJsYF3Tllt23XVBSFbhqv9rsrq++07bpuoY0jdNvd0fLGLrptUiIxLujxRWnU1ReQHRL4GNZvnxeARiGB3OGuqbuJcUHZJ4c2vm32rhJiXNBrPpxJe2YB3dTZZ8s1m7v69Wt6ceKFUVrD5LHb3LMf9VRbD90zTW3s/dDclCF/GQMwC9ZvFICGIIHc4dnlGcS4oE0HK4f0fm0k2bqMkyZH5g73hfsf7itttOV6ORUttt91dJOPstV9rU+/e0B2KBFp6uzTH1v/cGYyNXTY80UC4GKwfqMANAQJ5A7jtxcQ44Kmxh4Z9HsHgiG6fqy6Yb20znvjtyLxl3XqgYxlKfY06d1+uJoYF/SkT0buDdbhSnVf63enDH1fq13aewfo4Xnqfs67p+6mapceXAHvwfqNAtAQJJA7aAcZXlp9cNDvzQ0vtrdMSPBtq4oFe0qJcUGv2tR8WLveGx/m2nI9t2nvHdAfkTu5KXlPf5CeWJJOjAv6zsRddKwB+znBObB+owA0BAnkDmlljcS4oPtnJg/6vctTj/u+IfGe4jpbp3L8y4Pjzsx2x2T1MEVuZavsUM6rPxCi376XSYwLGhkdT4U1bbJDAjgL1m8UgIYggdyhtk0d43bVqBjqDwyu55jWj26Jj2eUnvn7Z8ehjF8v3U+MC9p+uNrya7nVb5ap+1K3HKqSHco5AsGQvm3g+rFxlH2yWXZIAOfA+o0C0BAkkDsoikI3hhvPltVHvo9PURT6zsRd4RPE/l3Ezvx9yKuy/o7T3eFT24cqhnZq2w/GbMsnxgXNiC+WHcpZQiFFv4M7YnSsK3sVgj9g/UYBaAgSyD20kWZxBbURv+d4eOzWiDGxvm9Y+9wK9ST1B5kVll6nLxCk4VH2tp1xo5VpJ4hxQX9cO/h9rVZRFIUm7CwixgVdGSUorsDe8YEAg4H1GwWgIUgg93ht42FiXNDCpLKI37Mpq1I9jboEp1GnhmfzWt17Tpt1e+O4OFIUfx66iURKidqc/IHZ9uzLjMTcxBL9cMrmbOc9mgY4E9ZvFICGIIHcQztZ+vqmyJs5a4+ypsc56zGbDFprll8uTrf0OklH6/VmwXBh1a09xLiga0bH0IADZumu2HdCL/5WumxCCfgT1m8UgIYggdwjNv8UMS7osYVpEb/nhzPV5rVJxfUWRuYOpXUdxLigG8bFWdoOZ3V6ueMebTpRKKTo/SmPS26vot0pZ1zQPJzcBpfA+o0C0BAkkHuUhAuYm8bHR/RosaGjjxgXNDxKUFuPc3ut2SUQDNG1Y2KJcUEnGrssu87Ej9U9ZJNFkWXX8AqtwfKuojppMYi8U3RleM/mZFGEx/bgGli/UQAaggRyj75AUF+o6tp7L/nzcQWn8CjyEx4LH6QRedZt7n9p9UFiXNDa/eWWXcMr/v5BjtQWRclH6+ma0THEuCD+UR6KP3AVrN8oAA1BArmL9kg3vezSM221O1FWH3pwk6gteZa3HnlwTgoxLmhvCdqHXMq83eq+1n9JmJiSeaKZrhur3hF+Zf0hCvp0Sg64F9ZvFICGIIHc5aXVWRHfXdLaxqAZ8WlrwyP1XliZacnnK8rpfW1WPmb2CpGn3qV+fFHk+1rNUFDdRiPHxxPjgp5fmTno5uoAToD1GwWgIUggd9FamUTvKLzoz3X1BeiqUeqjrRoMr9dln2wmxgV9d0qiJZ9f39Gr95BDUXFpxbXtxLigm99KsO3xa1l9B3073BT8yaX7qaff3/0xwb2wfqMANAQJ5C7aacXnVmRc9Oe02cH3TNtjU2Tu0NUX0Js0N1rQpFkrMPH7HpnegaClfx6fVNncTXdOUae0PDp/H3X04nAUuBfWbxSAhiCB3EUrMO6euvuiP6c1tP3HhhybInOP+8P7KFMs2KO3NaeKGBf0m2UHTP9sr/r+9CRiXFDG8SZLr1Pf3ks/mJGkN59u7uq39HoAVsP6jQLQECSQu7R09ev9yrr6Ahf8uWeXq2PP1h44aWN07vDK+kOWnTzVCu9/b84z/bO96oWVmcS4oPUZ1o3oa+3u1w/n3Dt9D9W2XfoUPYDTYf1GAWgIEsh9vhPev1RQ3Xbe/x4IhuiGcepBhKO1HTZH53wLk8qIcUF//8D8u6Ovbxr8uD6/mxQ+rT5hpzV9Ezv7AvTYwjRi/P+3d/fBUdX3HscPgzVMhxkYWqwik4O2VG251lZMtbS1vdxb5ooXOladOliodXSkUaF3Wg8QNFceArcIXitifQxabKj2JlAP4SEIRAQhKBsSngPEsDwGhIQESEh2P/ePzW66JoGEs7snu+f9mjl/uNlsv3P81u8ne875/WzdNqNIVSfPxuV/B0g05jcB0BEaKPnc9/LGiz7dW+avkWnZ+pfsFXHd8SJZhbdqi8cetPe+vEGmZesfpYdj/tmp6q+bq2Ratsa+Efsns89faNYvX/lYpmXrO8+u1J5j/EGE1MH8JgA6QgMln/BadnNX7m7352+07Gn6UG5JgitLDsdrW5/UjfUToLfNKJJp2drmPx3Tz01lmw+E7msdNju2D85caA5Elk361tPLVXqQfydILcxvAqAjNFDyee3D/aHFaxd92u7Pxy/6RKZl66W1XIZsTzAY1K3TQ5fRfTEMBecamyP3Z54+ywMGnXWyrnXLwlgF8kAgqCfzQruMfDOrUBv3xfcBE8ANzG8CoCM0UPJZsyt0CfNn89pu8RYKN6FvoUoqP3ehuuTw4OubYv7gwd6WvZqHZHdur2aEBINBfefZlTItWzsOO//vUDAY1JT8MpmWra9PXqYPdrm3zzAQT8xvAqAjNFDyqTp5VqZla/CUwjbbV1WeqI/87PwFFrjtSE5haEHtrIKymH1m0Y5jMi1bI//0Ycw+0yvuWRC7eydnL98V+UZxKfdiIoUxvwmAjtBAyac5ENQ3s0J7mH52Mnq7sXe3hBaK/sWCDS5VlxyW+A7FfAuy8L2X4xd9ErPP9Iqn3gvd1/p80R5Hn/PS2orIZfh4LisDdAfMbwKgIzRQchrxfGhNsy9e3goP0lmFu1yqLDlUHK+Tadm66enlbb5FvVzZS7fLtGzlFO6Myed5ySvF+2Rath53sDTP2x9/Fgl/f47DGo9Ad8P8JgA6QgMlp/Bixq8W7496/afPhXa5WL2T+54upjkQ1A1TQ9+i7q+ui8lnPpRbwjdPl2n1ztDl8//438u7fJ6/1R/ZUm7OivafjgdSDfObAOgIDZSc5q4K7Thh/b11x4nw05SmZavmLHucXsrolsWBY7Vm3/C562RattbvPRGTz/OS8L2rN0wt7PLalat2HNP1k5fJtGw9s6ScB3DgGcxvAqAjNFByCt/Ddu/Lrff6rdh+tMOng9HW5JYnRWcvd365PBAIanDLfZnsNNF1Tc0BDZ4SOn/+U50/fx9VnIic998t9rHwOTyF+U0AdIQGSk7lh0K7fXx32qrIazPs0JZaU/Jj92RrKvtLyz1jsdiB4mhNaHHp6ycvU1NzIAbVec+/zwt9g7puT3Wn3r+16lRky8NH3trCeYfnML8JgI7QQMnpbGNT5HLv5/WhRYfD+50WbG1/izhE+7TqlEzL1tAZRY4/K7ybxY/+Z00MKvOmx/4SWsD89fUHLvnenUdqdfN/h9YOHPPaJjU0seQRvIf5TQB0hAZKXj+Y9YFMy9aWys91trFJX2+5D6orl9C87GxjU+TBgeNnzjv6rPDyO2Ne2xSj6rxnzordMi1bky/xDXblifrIYuc/f+kj1Tc0JahCoHthfhMAHaGBkld4N4vFJVXasO+ETMvW7TmruQm+C8JPTXf2smNH5q7sXHhBx/K3+mVatu7/88YO33P49LnIHz4jni/mYSd4GvObAOgIDZS8wuvOzVy2Uy+s3ut4HTUvymxZTmfBWmfrxk1o2Xf2Zdafu2zb/KdlWrZund7+JfmTdQ2RwH7nH9eo+kxDgisEuhfmNwHQERooeYUXvn0otyTybeBbGyvdLiuphHeOcBqcf/5S6P7LwrIjMarMe+oaWu9r/eI3ezXnLuiuFz6Uadm6I2c1tzkAYn5LBEBHaKDkFb7sO2z2B/r2MytkWrZ2HuHfY1es21Mt07L1r8+tdfQ5t05fJdOyVX6oJjaFedT3Z66Wadn6tOpU5LVzjc36Rctewd+btkr7YrRwN5DsmN8EQEdooOR1/Mz5yDcmpmVrSPaKmG1r5hXVZ0KLZw+aZOts4+U9TFD/T99c1Z7nnjQnxrwW+ib73S0HJUkNTc361RubI/29/TABGwhjfns8AObk5Gjo0KHq3bu3+vfvr9GjR2v37s5vhUQDJa9gMKgh2Ssi4WPcm87Xs/OioTOK2nzr1BU7j9TKtGzd8uzKGFfmPc8sKY/sZd3UHIgsDXPj1OXaUvm52+UB3Qrz2+MBcMSIEcrNzdX27dtVWlqqu+66S+np6aqvr+/U79NAyS28nZlp2Zq/psLtcpLS2JZvmP7y8WeX9fvhHVhGvbg+xpV5z1sbK2Vath5eWKLfv1sq07I1eEqhih0+pQ2kIua3xwPgF1VXV8swDBUXd247MBoouf3X30ojAXDT/pNul5OUZi/f5WgJl9c+3C/TspX5zqcxrsx7Pqo4Ebkkb1q2rptka3k5D9YA7WF+EwCjVFRUyDAMlZeXt/vzhoYG1dbWRg6/3+/5Bkpm4adYvzFlmc5fYDeEy/GP0sMyLVuj5390Wb8/tSB02fKPK5zvKex14S31wsd7n/jdLgnotgiABMCIQCCgkSNHatiwYR2+Jzs7W4ZhtDm83EDJLPyNyQOvfux2KUlrX3WdTMvWDVMLL+shmvAl5MUlVXGozluCwWBkl483P7r0lnCAlxEACYARjz32mEzTlN/f8V/NfAOYej7YdUxHa5xtZeZlzYGgbpy6XKZlq+J415cY+cmc0OLEG/adiEN13rPjcK3W7+VcApdCACQASpIyMzM1cOBAHTjQtb+aaSCgdSHnpaWHu/R7zYGgvjEltAfzodPn4lQdALTF/PZ4AAwGg8rMzNSAAQO0d+/eLv8+DQRIU/LLIsuPdMWh0+ci92CyBiOARGJ+ezwAjh8/Xn369NG6det09OjRyHHuXOe+jaCBAOmdTVUyLVu/eqNraymGd2P5yZy18SkMADrA/PZ4AGzvgQ7DMJSbm9up36eBAMl38LRMy9at04u69HuLS0LBcWwXgyMAOMX89ngAdIoGAkL7zV7Xsvbc8TOdf6DmjytCawhOLWh/2SUAiBfmNwHQERoICBk+d51My9aa3cc7/TuZ73wq07L1avH+OFYGAG0xvwmAjtBAQMgTf93a5S31Rr24XqZla8X2o3GsDADaYn4TAB2hgYCQl9ftk2nZ+m0XtnS75dmVMi1bO4/w/x8AicX8JgA6QgMBIcV7qmVatn7aySd6a89fiGxZVt/QFN/iAOALmN8EQEdoICCk+kyDTMvWoEmdC3Tlh2panhxelYDqACAa85sA6AgNBLS6bUZoH9pPPjt1yfcWlh2Radn6+UsfJaAyAIjG/CYAOkIDAa3GvblZpmXr7Y8/u+R7w/cMTsjbmoDKACAa85sA6AgNBLQKr+s36f/KLvneyS3bx81duTsBlQFANOY3AdARGghoZW8LXdYdNf/Sl3UffH2TTMvWu1sOJqAyAIjG/CYAOkIDAa0OnKiXadn6ZlahmpoDF33vj/5njUzL1uYDnyeoOgBoxfwmADpCAwGtAoGgbnp6uUzL1t5jZzp8X1NzQNdPXibTsnW0pvNbxwFArDC/CYCO0EBAtHsWbJBp2VriO9The6pOnpVp2RqcVahAIJjA6gAghPlNAHSEBgKiTS0ol2nZylm2s8P3rN97QqZla/jcdQmsDABaMb8JgI7QQEC0v26ukmnZevD1TR2+551Nofc8lFuSwMoAoBXzmwDoCA0ERCs9eFqmZet701YpGGz/8m5O4U6Zlq3spdsTXB0AhDC/CYCO0EBAtPMXmnXdpNAev8dq23/AY/yiT2Ratt5YfyDB1QFACPObAOgIDQS09W9z18m0bK3Zdbzdn4/804cyLVtFO44luDLc/2/6AAALDUlEQVQACGF+EwAdoYGAtibkbZVp2Zq/pqLNz4LBoIZkr5Bp2dpzkaViACCemN8EQEdoIKCtV4pD+/z+dtGnbX52+myjTCt0ifhcY7ML1QEA81siADpCAwFthZd5+cmctW1+ts0fekjkthlFiS8MAFowvwmAjtBAQFsn6xpkWrYGTbJV19AU9bN/lB6Wadm69+UNLlUHAMxviQDoCA0EtO/7M1fLtGxtqYze63f+mgqZlq3f/c3nUmUAwPyWCICO0EBA+x7KLZFp2XprY2XU69bft8m0bD1ftMedwgBAzG+JAOgIDQS0b86K3TItW9bft0W9/stXPpZp2crf6nepMgBgfksEQEdoIKB9y8qOyLRs/eeL66Ne/8GsD2Ratj757PMOfhMA4o/5TQB0hAYC2ld5ol6mZWtwVqGamgOSpMamQGSXkONn2t8lBAASgflNAHSEBgLaFwgE9e1nohd8PtASCm+curzDfYIBIBGY3wRAR2ggoGP3vrxBpmWrYOshSdK6PdUyLVs/m1fscmUAvI75TQB0hAYCOvbMknKZlq2Zy3ZKkt7eWCnTsvXwwi0uVwbA65jfBEBHaCCgY4tLqmRatsa8tkmSNMPeIdOyNe39HS5XBsDrmN8EQEdoIKBjZf4amZat705bpWAwqEff3iLTsrVwQ6XbpQHwOOY3AdARGgjo2PkLzbp+8jKZlq0jNec04vlimZatNbuOu10aAI9jfhMAHaGBgIv72bxQ6CvacUzfenq5TMvWvuo6t8sC4HHMbwKgIzQQcHETF/tkWrayl26XadkaNMlWQ1Oz22UB8DjmNwHQERoIuLhXi/fLtGzdnrNapmXrjpzVbpcEAMxvEQAdoYGAi/uo4oRMy44c9/95o9slAQDzWwRAR2gg4OJO1TdGBcDfv1vqdkkAwPyWxwNgcXGx7r77bl1zzTUyDEMFBQVd+n0aCLi0O1ou/5qWrRc/2Ot2OQDA/JbHA2BhYaGysrKUn59PAATi5OGFJZEAuMR3yO1yAID5LY8HwH9GAATiY+7K3ZEAuLXqlNvlAADzWwTAiM4EwIaGBtXW1kYOv9/v+QYCLmV5+ZFIAPy8vtHtcgCAACgCYERnAmB2drYMw2hzeLmBgEs5fPqcrptk69bpRQoGg26XAwAEQBEAI/gGEIif9XtPaPvhGrfLAABJBECJABjBPYAAAHgD85sAGEEABADAG5jfHg+AdXV18vl88vl8MgxD8+bNk8/nU1VVVad+nwYCACD5ML89HgDXrl3b7kMd48aN69Tv00AAACQf5rfHA6BTNBAAAMmH+U0AdIQGAgAg+TC/CYCO0EAAACQf5jcB0BEaCACA5MP8JgA6QgMBAJB8mN8EQEdoIAAAkg/zmwDoCA0EAEDyYX4TAB2hgQAASD7MbwKgIzQQAADJh/lNAHSEBgIAIPkwvwmAjtTU1MgwDPn9ftXW1nJwcHBwcHAkweH3+2UYhmpqatyOEq4hADoQbiAODg4ODg6O5Dv8fr/bUcI1BEAHAoGA/H6/ampq4vbXCd8uJuavQM4z5zkVDs4z5zmVjnie55qaGvn9fgUCAbejhGsIgN1UbS33JyQC5zkxOM+JwXlODM5zYnCe44sA2E3R+InBeU4MznNicJ4Tg/OcGJzn+CIAdlM0fmJwnhOD85wYnOfE4DwnBuc5vgiA3VRDQ4Oys7PV0NDgdikpjfOcGJznxOA8JwbnOTE4z/FFAAQAAPAYAiAAAIDHEAABAAA8hgAIAADgMQRAAAAAjyEAdkPz58+XaZpKS0tTRkaGNm/e7HZJKSUnJ0dDhw5V79691b9/f40ePVq7d+92u6yUN2vWLBmGoQkTJrhdSko6dOiQxowZo379+qlXr14aMmSItmzZ4nZZKaW5uVlTp07VoEGD1KtXL11//fWaNm2agsGg26UlteLiYt1999265pprZBiGCgoKon4eDAb19NNP6+qrr1avXr00fPhw7d2716VqUwcBsJtZvHixrrzySr355pvasWOHHnnkEfXt21fHjx93u7SUMWLECOXm5mr79u0qLS3VXXfdpfT0dNXX17tdWsoqKSnRoEGDdPPNNxMA4+DUqVMyTVO//vWvtXnzZh04cEArV67Uvn373C4tpcycOVNf+cpXZNu2Kisr9d5776l379564YUX3C4tqRUWFiorK0v5+fntBsDZs2erT58+WrJkibZt26ZRo0bpuuuu0/nz512qODUQALuZjIwMZWZmRv45EAhowIABmjVrlotVpbbq6moZhqHi4mK3S0lJdXV1Gjx4sIqKinTnnXcSAOPAsiz98Ic/dLuMlDdy5Ej95je/iXrtnnvu0ZgxY1yqKPV8MQAGg0FdffXVmjNnTuS1mpoapaWlKS8vz40SUwYBsBtpbGxUz5492/z1M3bsWI0aNcqlqlJfRUWFDMNQeXm526WkpLFjx2rixImSRACMk5tuukkTJ07Uvffeq/79++uWW27Rq6++6nZZKWfmzJkyTVN79uyRJJWWluqqq67SokWLXK4sdXwxAO7fv1+GYcjn80W978c//rGefPLJRJeXUgiA3cjhw4dlGIY2btwY9fof/vAHZWRkuFRVagsEAho5cqSGDRvmdikpKS8vT0OGDIlcqiEAxkdaWprS0tI0efJkbd26Va+88op69eqlhQsXul1aSgkEArIsSz169NAVV1yhHj16KCcnx+2yUsoXA+CGDRtkGIaOHDkS9b777rtP999/f6LLSykEwG6EAJh4jz32mEzTlN/vd7uUlHPw4EFdddVV2rZtW+Q1AmB8fOlLX9Idd9wR9doTTzyh22+/3aWKUlNeXp4GDhyovLw8lZWV6e2331a/fv0I2jFEAEwcAmA3wiXgxMrMzNTAgQN14MABt0tJSQUFBTIMQz179owchmGoR48e6tmzp5qbm90uMWWkp6fr4YcfjnptwYIFGjBggEsVpaaBAwdq/vz5Ua9Nnz5dN9xwg0sVpR4uAScOAbCbycjI0OOPPx7550AgoGuvvZaHQGIoGAwqMzNTAwYMYCmBODpz5ozKy8ujjqFDh+rBBx/kfssYe+CBB9o8BDJx4sQ23wrCmX79+mnBggVRr+Xk5Gjw4MEuVZR6OnoI5Lnnnou8Vltby0MgMUAA7GYWL16stLQ0LVy4UDt37tSjjz6qvn376tixY26XljLGjx+vPn36aN26dTp69GjkOHfunNulpTwuAcdHSUmJrrjiCs2cOVMVFRV655139OUvf5mHE2Js3LhxuvbaayPLwOTn5+urX/2qnnrqKbdLS2p1dXXy+Xzy+XwyDEPz5s2Tz+dTVVWVpNAyMH379tXSpUtVVlam0aNHswxMDBAAu6EXX3xR6enpuvLKK5WRkaFNmza5XVJKMQyj3SM3N9ft0lIeATB+3n//fQ0ZMkRpaWm68cYbeQo4Ds6cOaMJEyYoPT09shB0VlaWGhsb3S4tqa1du7bd/yaPGzdOUutC0F/72teUlpam4cOHR57ExuUjAAIAAHgMARAAAMBjCIAAAAAeQwAEAADwGAIgAACAxxAAAQAAPIYACAAA4DEEQAAAAI8hAAIAAHgMARAAAMBjCIAAAAAeQwAEAADwGAIgAACAxxAAAQAAPIYACAAA4DEEQAAAAI8hAAIAAHgMARAAAMBjCIAAAAAeQwAEAADwGAIgAACAxxAAAQAAPIYACAAA4DEEQAAAAI8hAAIAAHgMARAAAMBjCIAAAAAeQwAEAADwGAIgAACAxxAAAQAAPIYACAAA4DEEQAAAAI/5fwF5y70Ek3pUAAAAAElFTkSuQmCC\" width=\"640\">"
      ],
      "text/plain": [
       "<IPython.core.display.HTML object>"
      ]
     },
     "metadata": {},
     "output_type": "display_data"
    },
    {
     "data": {
      "text/plain": [
       "[<matplotlib.lines.Line2D at 0x7fb11d4d1dd8>]"
      ]
     },
     "execution_count": 43,
     "metadata": {},
     "output_type": "execute_result"
    }
   ],
   "source": [
    "plt.plot([5, 8, 2, 6, 1, 8, 2, 3, 4, 5, 6])"
   ]
  },
  {
   "cell_type": "markdown",
   "metadata": {},
   "source": [
    "But you should never create a plot that doesn't have labels on the x and y axises, and should always have a title. Read the documentation on matplotlib and add labels and a title to the plot above:\n",
    "\n",
    "http://matplotlib.org/api/pyplot_api.html\n",
    "\n",
    "Another commonly used library (especially with matplotlib is numpy). Often imported as:"
   ]
  },
  {
   "cell_type": "markdown",
   "metadata": {},
   "source": [
    "## 2.6 Closures"
   ]
  },
  {
   "cell_type": "markdown",
   "metadata": {},
   "source": [
    "Are functions that capture some of the local bindings to variables."
   ]
  },
  {
   "cell_type": "code",
   "execution_count": 80,
   "metadata": {},
   "outputs": [],
   "source": [
    "def return_a_closure():\n",
    "    dict = {}\n",
    "    def hidden(operator, value, other=None):\n",
    "        if operator == \"add\":\n",
    "            dict[value] = other\n",
    "        else:\n",
    "            return dict[value]\n",
    "    return hidden"
   ]
  },
  {
   "cell_type": "code",
   "execution_count": 81,
   "metadata": {},
   "outputs": [],
   "source": [
    "thing = return_a_closure()\n"
   ]
  },
  {
   "cell_type": "code",
   "execution_count": 83,
   "metadata": {},
   "outputs": [],
   "source": [
    "thing(\"add\", \"apple\", 42)\n"
   ]
  },
  {
   "cell_type": "code",
   "execution_count": 84,
   "metadata": {},
   "outputs": [
    {
     "data": {
      "text/plain": [
       "42"
      ]
     },
     "execution_count": 84,
     "metadata": {},
     "output_type": "execute_result"
    }
   ],
   "source": [
    "thing(\"get\", \"apple\")"
   ]
  },
  {
   "cell_type": "code",
   "execution_count": 86,
   "metadata": {},
   "outputs": [
    {
     "ename": "AttributeError",
     "evalue": "'function' object has no attribute 'dict'",
     "output_type": "error",
     "traceback": [
      "\u001b[0;31m---------------------------------------------------------------------------\u001b[0m",
      "\u001b[0;31mAttributeError\u001b[0m                            Traceback (most recent call last)",
      "\u001b[0;32m<ipython-input-86-d5e1343710c5>\u001b[0m in \u001b[0;36m<module>\u001b[0;34m\u001b[0m\n\u001b[0;32m----> 1\u001b[0;31m \u001b[0mthing\u001b[0m\u001b[0;34m.\u001b[0m\u001b[0mdict\u001b[0m\u001b[0;34m\u001b[0m\u001b[0;34m\u001b[0m\u001b[0m\n\u001b[0m",
      "\u001b[0;31mAttributeError\u001b[0m: 'function' object has no attribute 'dict'"
     ]
    }
   ],
   "source": [
    "thing.dict"
   ]
  },
  {
   "cell_type": "markdown",
   "metadata": {},
   "source": [
    "Where is dict?\n",
    "\n",
    "See http://www.programiz.com/python-programming/closure for more examples."
   ]
  },
  {
   "cell_type": "markdown",
   "metadata": {},
   "source": [
    "<H1>References</H1>\n",
    "\n",
    "[1] https://en.wikipedia.org/wiki/History_of_Python"
   ]
  }
 ],
 "metadata": {
  "kernelspec": {
   "display_name": "Python 3",
   "language": "python",
   "name": "python3"
  },
  "language_info": {
   "codemirror_mode": {
    "name": "ipython",
    "version": 3
   },
   "file_extension": ".py",
   "mimetype": "text/x-python",
   "name": "python",
   "nbconvert_exporter": "python",
   "pygments_lexer": "ipython3",
   "version": "3.6.7"
  }
 },
 "nbformat": 4,
 "nbformat_minor": 1
}
