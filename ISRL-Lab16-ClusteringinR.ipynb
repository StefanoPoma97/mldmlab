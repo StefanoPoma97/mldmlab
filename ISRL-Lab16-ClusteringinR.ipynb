{
 "cells": [
  {
   "cell_type": "markdown",
   "metadata": {},
   "source": [
    "This lab on K-Means and Hierarchical Clustering in R is an adaptation of p. 404-407, 410-413 of \"Introduction to\n",
    "Statistical Learning with Applications in R\" by Gareth James, Daniela Witten, Trevor Hastie and Robert\n",
    "Tibshirani. Adapted by R. Jordan Crouser at Smith College for SDS293: Machine Learning (Spring 2016), and re-implemented in Fall 2016 in `tidyverse` format by Amelia McNamara and R. Jordan Crouser at Smith College.\n",
    "\n",
    "\n",
    "# 10.5.1 K-Means Clustering\n",
    "The function `kmeans()` performs K-means clustering in R. We begin with\n",
    "a simple simulated example in which there truly are two clusters in the\n",
    "data: the first 25 observations have a mean shift relative to the next 25\n",
    "observations."
   ]
  },
  {
   "cell_type": "code",
   "execution_count": null,
   "metadata": {
    "collapsed": false
   },
   "outputs": [],
   "source": [
    "set.seed(2)\n",
    "x = matrix(rnorm(50*2), ncol = 2)\n",
    "\n",
    "x[1:25,1] = x[1:25,1]+3\n",
    "x[1:25,2] = x[1:25,2]-4\n",
    "\n",
    "x = as.data.frame(x)"
   ]
  },
  {
   "cell_type": "markdown",
   "metadata": {},
   "source": [
    "We now perform K-means clustering with `K = 2`:"
   ]
  },
  {
   "cell_type": "code",
   "execution_count": null,
   "metadata": {
    "collapsed": false
   },
   "outputs": [],
   "source": [
    "km_out = kmeans(x, 2, nstart = 20)"
   ]
  },
  {
   "cell_type": "markdown",
   "metadata": {},
   "source": [
    "The cluster assignments of the 50 observations are contained in\n",
    "`km_out$cluster`:"
   ]
  },
  {
   "cell_type": "code",
   "execution_count": null,
   "metadata": {
    "collapsed": false
   },
   "outputs": [],
   "source": [
    "km_out$cluster"
   ]
  },
  {
   "cell_type": "markdown",
   "metadata": {},
   "source": [
    "The K-means clustering perfectly separated the observations into two clusters\n",
    "even though we did not supply any group information to `kmeans()`. We\n",
    "can plot the data, with each observation colored according to its cluster\n",
    "assignment:"
   ]
  },
  {
   "cell_type": "code",
   "execution_count": null,
   "metadata": {
    "collapsed": false
   },
   "outputs": [],
   "source": [
    "library(ggplot2)\n",
    "library(dplyr)\n",
    "library(broom)\n",
    "\n",
    "assignments <- augment(km_out, x)\n",
    "\n",
    "ggplot(data = assignments) +\n",
    "    geom_point(aes(x = V1, y = V2, color = .cluster)) +\n",
    "    labs(color = \"Cluster Assignment\",\n",
    "         title = \"K-Means Clustering Results with K = 2\")"
   ]
  },
  {
   "cell_type": "markdown",
   "metadata": {},
   "source": [
    "Here the observations can be easily plotted because they are two-dimensional.\n",
    "If there were more than two variables then we could instead perform PCA\n",
    "and plot the first two principal components score vectors.\n",
    "\n",
    "In this example, we knew that there really were two clusters because\n",
    "we generated the data. However, for real data, in general we do not know\n",
    "the true number of clusters. We could instead have performed K-means\n",
    "clustering on this example with `K  =  3`. If we do this, K-means clustering will split up the two \"real\" clusters, since it has no information about them:"
   ]
  },
  {
   "cell_type": "code",
   "execution_count": null,
   "metadata": {
    "collapsed": false
   },
   "outputs": [],
   "source": [
    "km_out_3clust = kmeans(x, 3, nstart = 20)\n",
    "\n",
    "assignments_3clust <- augment(km_out_3clust, x)\n",
    "\n",
    "ggplot(data = assignments_3clust) +\n",
    "    geom_point(aes(x = V1, y = V2, color = .cluster)) +\n",
    "    labs(color = \"Cluster Assignment\",\n",
    "         title = \"K-Means Clustering Results with K = 3\")"
   ]
  },
  {
   "cell_type": "markdown",
   "metadata": {},
   "source": [
    "To run the `kmeans()` function in R with multiple initial cluster assignments,\n",
    "we use the `nstart` argument. If a value of `nstart` greater than one\n",
    "is used, then K-means clustering will be performed using multiple random\n",
    "assignments, and the `kmeans()` function will\n",
    "report only the best results. Here we compare using `nstart = 1`:"
   ]
  },
  {
   "cell_type": "code",
   "execution_count": null,
   "metadata": {
    "collapsed": false
   },
   "outputs": [],
   "source": [
    "set.seed(3)\n",
    "km_out_single_run = kmeans(x, 3, nstart = 1)\n",
    "km_out_single_run$tot.withinss"
   ]
  },
  {
   "cell_type": "markdown",
   "metadata": {},
   "source": [
    "to `nstart = 20`:"
   ]
  },
  {
   "cell_type": "code",
   "execution_count": null,
   "metadata": {
    "collapsed": false
   },
   "outputs": [],
   "source": [
    "km_out_20_runs = kmeans(x, 3, nstart = 20)\n",
    "km_out_20_runs$tot.withinss"
   ]
  },
  {
   "cell_type": "markdown",
   "metadata": {},
   "source": [
    "Note that `km_out$tot.withinss` is the total within-cluster sum of squares,\n",
    "which we seek to minimize by performing K-means clustering. The individual within-cluster sum-of-squares are contained in the\n",
    "vector `km_out$withinss`.\n",
    "\n",
    "It is generally recommended to always run K-means clustering with a large\n",
    "value of `nstart`, such as 20 or 50 to avoid getting stuck in an undesirable local\n",
    "optimum.\n",
    "\n",
    "When performing K-means clustering, in addition to using multiple initial\n",
    "cluster assignments, it is also important to set a random seed using the\n",
    "`set.seed()` function. This way, the initial cluster assignments can\n",
    "be replicated, and the K-means output will be fully reproducible.\n",
    "\n",
    "# 10.5.2 Hierarchical Clustering\n",
    "The `hclust()` function implements hierarchical clustering in R. In the following example we use the data from the previous section to plot the hierarchical\n",
    "clustering dendrogram using complete, single, and average linkage clustering,\n",
    "with Euclidean distance as the dissimilarity measure. We begin by\n",
    "clustering observations using complete linkage. The `dist()` function is used\n",
    "to compute the 50 $\\times$ 50 inter-observation Euclidean distance matrix:"
   ]
  },
  {
   "cell_type": "code",
   "execution_count": null,
   "metadata": {
    "collapsed": true
   },
   "outputs": [],
   "source": [
    "hc_complete = hclust(dist(x), method = \"complete\")"
   ]
  },
  {
   "cell_type": "markdown",
   "metadata": {},
   "source": [
    "We could just as easily perform hierarchical clustering with average or\n",
    "single linkage instead:"
   ]
  },
  {
   "cell_type": "code",
   "execution_count": null,
   "metadata": {
    "collapsed": true
   },
   "outputs": [],
   "source": [
    "hc_average = hclust(dist(x), method = \"average\")\n",
    "hc_single = hclust(dist(x), method = \"single\")"
   ]
  },
  {
   "cell_type": "markdown",
   "metadata": {},
   "source": [
    "We can now plot the dendrograms obtained using the usual `plot()` function.\n",
    "The numbers at the bottom of the plot identify each observation:"
   ]
  },
  {
   "cell_type": "code",
   "execution_count": null,
   "metadata": {
    "collapsed": false
   },
   "outputs": [],
   "source": [
    "library(gridExtra)\n",
    "library(ggdendro)\n",
    "\n",
    "plot_complete = ggdendrogram(hc_complete, rotate = FALSE, size = 2) + labs(title = \"Complete Linkage\") \n",
    "plot_average = ggdendrogram(hc_average, rotate = FALSE, size = 2) + labs(title = \"Average Linkage\")\n",
    "plot_single = ggdendrogram(hc_single, rotate = FALSE, size = 2) + labs(title = \"Single Linkage\")\n",
    "\n",
    "grid.arrange(plot_complete, plot_average, plot_single)"
   ]
  },
  {
   "cell_type": "markdown",
   "metadata": {},
   "source": [
    "To determine the cluster labels for each observation associated with a\n",
    "given cut of the dendrogram, we can use the `cutree()` function:"
   ]
  },
  {
   "cell_type": "code",
   "execution_count": null,
   "metadata": {
    "collapsed": false
   },
   "outputs": [],
   "source": [
    "cutree(hc_complete, 2)\n",
    "cutree(hc_average, 2)\n",
    "cutree(hc_single, 2)"
   ]
  },
  {
   "cell_type": "markdown",
   "metadata": {},
   "source": [
    "For this data, complete and average linkage generally separate the observations\n",
    "into their correct groups. However, single linkage identifies one point\n",
    "as belonging to its own cluster. A more sensible answer is obtained when\n",
    "four clusters are selected, although there are still two singletons:"
   ]
  },
  {
   "cell_type": "code",
   "execution_count": null,
   "metadata": {
    "collapsed": false
   },
   "outputs": [],
   "source": [
    "cutree(hc_single, 4)"
   ]
  },
  {
   "cell_type": "markdown",
   "metadata": {},
   "source": [
    "To scale the variables before performing hierarchical clustering of the\n",
    "observations, we can use the `scale()` function:"
   ]
  },
  {
   "cell_type": "code",
   "execution_count": null,
   "metadata": {
    "collapsed": false
   },
   "outputs": [],
   "source": [
    "xsc = scale(x)\n",
    "\n",
    "ggdendrogram(hclust(dist(xsc), method = \"complete\"), \n",
    "             rotate = FALSE, \n",
    "             size = 2) + \n",
    "labs(title = \"Complete Linkage with Scaled Features\")"
   ]
  },
  {
   "cell_type": "markdown",
   "metadata": {},
   "source": [
    "Correlation-based distance can be computed using the `as.dist()` function, which converts an arbitrary square symmetric matrix into a form that\n",
    "the `hclust()` function recognizes as a distance matrix. However, this only\n",
    "makes sense for data with **at least three features** since the absolute correlation\n",
    "between any two observations with measurements on two features is\n",
    "always 1. Let's generate and cluster a three-dimensional data set:"
   ]
  },
  {
   "cell_type": "code",
   "execution_count": null,
   "metadata": {
    "collapsed": false
   },
   "outputs": [],
   "source": [
    "x = matrix(rnorm(30*3), ncol = 3)\n",
    "x_with_correlation_based_distance = as.dist(1 - cor(t(x)))\n",
    "\n",
    "ggdendrogram(hclust(x_with_correlation_based_distance, method = \"complete\"), \n",
    "             rotate = FALSE, \n",
    "             size = 2) + \n",
    "labs(title = \"Complete Linkage with Correlation-Based Distance\")"
   ]
  },
  {
   "cell_type": "markdown",
   "metadata": {},
   "source": [
    "# 10.6: NCI60 Data Example\n",
    "\n",
    "Unsupervised techniques are often used in the analysis of genomic data. In this portion of the lab, we'll see how hierarchical and K-means clustering compare on the `NCI60` cancer cell line microarray data, which\n",
    "consists of 6,830 gene expression measurements on 64 cancer cell lines:"
   ]
  },
  {
   "cell_type": "code",
   "execution_count": null,
   "metadata": {
    "collapsed": false
   },
   "outputs": [],
   "source": [
    "# The NCI60 data\n",
    "library(ISLR)\n",
    "nci_labels = NCI60$labs\n",
    "nci_data = NCI60$data"
   ]
  },
  {
   "cell_type": "markdown",
   "metadata": {},
   "source": [
    "Each cell line is labeled with a cancer type. We'll ignore the\n",
    "cancer types in performing clustering, as these are unsupervised\n",
    "techniques. After performing clustering, we'll use this column to see the extent to which these cancer types agree with the results of these\n",
    "unsupervised techniques.\n",
    "\n",
    "The data has 64 rows and 6,830 columns."
   ]
  },
  {
   "cell_type": "code",
   "execution_count": null,
   "metadata": {
    "collapsed": false
   },
   "outputs": [],
   "source": [
    "dim(nci_data)"
   ]
  },
  {
   "cell_type": "markdown",
   "metadata": {},
   "source": [
    "Let's take a look at the cancer types for the cell lines:"
   ]
  },
  {
   "cell_type": "code",
   "execution_count": null,
   "metadata": {
    "collapsed": false
   },
   "outputs": [],
   "source": [
    "table(nci_labels)"
   ]
  },
  {
   "cell_type": "markdown",
   "metadata": {},
   "source": [
    "# 10.6.2 Clustering the Observations of the NCI60 Data\n",
    "We now proceed to hierarchically cluster the cell lines in the `NCI60` data,\n",
    "with the goal of finding out whether or not the observations cluster into\n",
    "distinct types of cancer. To begin, we standardize the variables to have\n",
    "mean zero and standard deviation one. This step is\n",
    "optional, and need only be performed if we want each gene to be on the\n",
    "same scale:"
   ]
  },
  {
   "cell_type": "code",
   "execution_count": null,
   "metadata": {
    "collapsed": true
   },
   "outputs": [],
   "source": [
    "scaled_nci_data = scale(nci_data)"
   ]
  },
  {
   "cell_type": "markdown",
   "metadata": {},
   "source": [
    "We now perform hierarchical clustering of the observations using complete,\n",
    "single, and average linkage. We'll use standard Euclidean distance as the dissimilarity\n",
    "measure:"
   ]
  },
  {
   "cell_type": "code",
   "execution_count": null,
   "metadata": {
    "collapsed": false
   },
   "outputs": [],
   "source": [
    "nci_hc_complete = hclust(dist(scaled_nci_data), method = \"complete\")\n",
    "nci_hc_average = hclust(dist(scaled_nci_data), method = \"average\")\n",
    "nci_hc_single = hclust(dist(scaled_nci_data), method = \"single\")\n",
    "\n",
    "\n",
    "plot_complete_nci = ggdendrogram(nci_hc_complete, rotate = FALSE, size = 2) + labs(title = \"NCI: Complete Linkage\") \n",
    "plot_average_nci = ggdendrogram(nci_hc_average, rotate = FALSE, size = 2) + labs(title = \"NCI: Average Linkage\")\n",
    "plot_single_nci = ggdendrogram(nci_hc_single, rotate = FALSE, size = 2) + labs(title = \"NCI: Single Linkage\")\n",
    "\n",
    "grid.arrange(plot_complete_nci, plot_average_nci, plot_single_nci)"
   ]
  },
  {
   "cell_type": "markdown",
   "metadata": {},
   "source": [
    "We see that the choice of linkage\n",
    "certainly does affect the results obtained. Typically, single linkage will tend\n",
    "to yield trailing clusters: very large clusters onto which individual observations\n",
    "attach one-by-one. On the other hand, complete and average linkage\n",
    "tend to yield more balanced, attractive clusters. For this reason, complete\n",
    "and average linkage are generally preferred to single linkage. Clearly cell\n",
    "lines within a single cancer type do tend to cluster together, although the\n",
    "clustering is not perfect. \n",
    "\n",
    "Let's use our complete linkage hierarchical clustering\n",
    "for the analysis. We can cut the dendrogram at the height that will yield a particular\n",
    "number of clusters, say 4:"
   ]
  },
  {
   "cell_type": "code",
   "execution_count": null,
   "metadata": {
    "collapsed": false
   },
   "outputs": [],
   "source": [
    "hc_clusters = cutree(nci_hc_complete, 4)\n",
    "table(nci_labels, hc_clusters)"
   ]
  },
  {
   "cell_type": "markdown",
   "metadata": {},
   "source": [
    "There are some clear patterns. All the leukemia cell lines fall in cluster 3,\n",
    "while the breast cancer cell lines are spread out over three different clusters.\n",
    "We can plot the cut on the dendrogram that produces these four clusters by adding a `geom_hline()`, which draws a horizontal line on top of our plot:"
   ]
  },
  {
   "cell_type": "code",
   "execution_count": null,
   "metadata": {
    "collapsed": false
   },
   "outputs": [],
   "source": [
    "ggdendrogram(nci_hc_complete, rotate = FALSE, size = 2) + \n",
    "    labs(title = \"NCI: Complete Linkage\") +\n",
    "    geom_hline(yintercept = 139, color = \"red\")"
   ]
  },
  {
   "cell_type": "markdown",
   "metadata": {},
   "source": [
    "Printing the output of `hclust` gives a useful brief summary of the object:"
   ]
  },
  {
   "cell_type": "code",
   "execution_count": null,
   "metadata": {
    "collapsed": false
   },
   "outputs": [],
   "source": [
    "nci_hc_complete"
   ]
  },
  {
   "cell_type": "markdown",
   "metadata": {},
   "source": [
    "We claimed earlier that K-means clustering and hierarchical\n",
    "clustering with the dendrogram cut to obtain the same number\n",
    "of clusters can yield **very** different results. How do these `NCI60` hierarchical\n",
    "clustering results compare to what we get if we perform K-means clustering\n",
    "with `K = 4`?"
   ]
  },
  {
   "cell_type": "code",
   "execution_count": null,
   "metadata": {
    "collapsed": true
   },
   "outputs": [],
   "source": [
    "set.seed(2)\n",
    "km_out = kmeans(scaled_nci_data, 4, nstart = 20)\n",
    "km_clusters = km_out$cluster"
   ]
  },
  {
   "cell_type": "markdown",
   "metadata": {},
   "source": [
    "We can use a confusion matrix to compare the differences in how the two methods assigned observations to clusters:"
   ]
  },
  {
   "cell_type": "code",
   "execution_count": null,
   "metadata": {
    "collapsed": false
   },
   "outputs": [],
   "source": [
    "table(km_clusters, hc_clusters)"
   ]
  },
  {
   "cell_type": "markdown",
   "metadata": {},
   "source": [
    "We see that the four clusters obtained using hierarchical clustering and Kmeans\n",
    "clustering are somewhat different. Cluster 2 in K-means clustering is\n",
    "identical to cluster 3 in hierarchical clustering. However, the other clusters\n",
    "differ: for instance, cluster 4 in K-means clustering contains a portion of\n",
    "the observations assigned to cluster 1 by hierarchical clustering, as well as\n",
    "all of the observations assigned to cluster 2 by hierarchical clustering.\n",
    "\n",
    "To get credit for this lab, use a similar analysis to compare the results of your K-means clustering to the results of your hierarchical clustering with single and average linkage. What differences do you notice? Post your response to Moodle: https://moodle.smith.edu/mod/quiz/view.php?id=267171"
   ]
  }
 ],
 "metadata": {
  "anaconda-cloud": {},
  "kernelspec": {
   "display_name": "R",
   "language": "R",
   "name": "ir"
  },
  "language_info": {
   "codemirror_mode": "r",
   "file_extension": ".r",
   "mimetype": "text/x-r-source",
   "name": "R",
   "pygments_lexer": "r",
   "version": "3.4.1"
  }
 },
 "nbformat": 4,
 "nbformat_minor": 1
}
