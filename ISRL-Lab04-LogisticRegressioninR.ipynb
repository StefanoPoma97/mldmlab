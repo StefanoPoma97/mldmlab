{
 "cells": [
  {
   "cell_type": "markdown",
   "metadata": {},
   "source": [
    "This lab on Logistic Regression in R comes from p. 154-161 of \"Introduction to Statistical Learning with Applications in R\" by Gareth James, Daniela Witten, Trevor Hastie and Robert Tibshirani. It was re-implemented in Fall 2016 in `tidyverse` format by Amelia McNamara and R. Jordan Crouser at Smith College."
   ]
  },
  {
   "cell_type": "markdown",
   "metadata": {},
   "source": [
    "# 4.6.2 Logistic Regression\n",
    "\n",
    "Let's return to the `Smarket` data from `ISLR`. "
   ]
  },
  {
   "cell_type": "code",
   "execution_count": null,
   "metadata": {
    "collapsed": false
   },
   "outputs": [],
   "source": [
    "library(ISLR)\n",
    "library(dplyr)\n",
    "library(tidyr)\n",
    "names(Smarket)\n",
    "dim(Smarket)\n",
    "summary(Smarket)"
   ]
  },
  {
   "cell_type": "markdown",
   "metadata": {},
   "source": [
    "In this lab, we will fit a logistic regression model in order to predict `Direction` using `Lag1` through `Lag5` and `Volume`. The `glm()` function fits **generalized linear models**, a class of models that includes logistic regression. \n",
    "\n",
    "The syntax of the `glm()` function is similar to that of `lm()`, except that we must pass in the argument `family=binomial` in order to tell `R` to run a logistic regression rather than some other type of generalized linear model."
   ]
  },
  {
   "cell_type": "code",
   "execution_count": null,
   "metadata": {
    "collapsed": false
   },
   "outputs": [],
   "source": [
    "glm_fit = glm(Direction~Lag1+Lag2+Lag3+Lag4+Lag5+Volume,\n",
    "              data = Smarket,\n",
    "              family = binomial)\n",
    "summary(glm_fit)"
   ]
  },
  {
   "cell_type": "markdown",
   "metadata": {},
   "source": [
    "The smallest p-value here is associated with `Lag1`. The negative coefficient\n",
    "for this predictor suggests that if the market had a positive return yesterday,\n",
    "then it is less likely to go up today. However, at a value of 0.145, the p-value\n",
    "is still relatively large, and so there is no clear evidence of a real association\n",
    "between `Lag1` and `Direction`.\n",
    "\n",
    "If you want, you can use helper methods like `coefficients()` and `residuals()` in order to access specific parts of this fitted model:"
   ]
  },
  {
   "cell_type": "code",
   "execution_count": null,
   "metadata": {
    "collapsed": false
   },
   "outputs": [],
   "source": [
    "coefficients(glm_fit)\n",
    "residuals(glm_fit)"
   ]
  },
  {
   "cell_type": "markdown",
   "metadata": {},
   "source": [
    "The `predict()` function can be used to predict the probability that the\n",
    "market will go up, given values of the predictors. The `type=\"response\"`\n",
    "option tells `R` to output probabilities of the form `P(Y = 1|X)`, as opposed\n",
    "to other information such as the `logit`. If no data set is supplied to the\n",
    "`predict()` function, then the probabilities are computed for the training\n",
    "data that was used to fit the logistic regression model. "
   ]
  },
  {
   "cell_type": "code",
   "execution_count": null,
   "metadata": {
    "collapsed": false
   },
   "outputs": [],
   "source": [
    "glm_probs = data.frame(probs = predict(glm_fit, type=\"response\"))\n",
    "head(glm_probs)"
   ]
  },
  {
   "cell_type": "markdown",
   "metadata": {},
   "source": [
    "Here we have printed\n",
    "only the first ten probabilities. We know that these values correspond to\n",
    "the probability of the market going up, rather than down, because the\n",
    "`contrasts()` function indicates that `R` has created a dummy variable with\n",
    "a 1 for `Up`."
   ]
  },
  {
   "cell_type": "code",
   "execution_count": null,
   "metadata": {
    "collapsed": false,
    "scrolled": true
   },
   "outputs": [],
   "source": [
    "contrasts(Smarket$Direction)"
   ]
  },
  {
   "cell_type": "markdown",
   "metadata": {},
   "source": [
    "In order to make a prediction as to whether the market will go up or\n",
    "down on a particular day, we must convert these predicted probabilities\n",
    "into class labels, `Up` or `Down`. The following two commands create a vector\n",
    "of class predictions based on whether the predicted probability of a market\n",
    "increase is greater than or less than 0.5."
   ]
  },
  {
   "cell_type": "code",
   "execution_count": null,
   "metadata": {
    "collapsed": true
   },
   "outputs": [],
   "source": [
    "glm_pred = glm_probs %>%\n",
    "  mutate(pred = ifelse(probs>.5, \"Up\", \"Down\"))"
   ]
  },
  {
   "cell_type": "markdown",
   "metadata": {},
   "source": [
    "The first command creates a vector of 1,250 `Down` elements. The second line\n",
    "transforms to `Up` all of the elements for which the predicted probability of a\n",
    "market increase exceeds 0.5. Given these predictions, we can `count()` how many observations were correctly or incorrectly classified."
   ]
  },
  {
   "cell_type": "code",
   "execution_count": null,
   "metadata": {
    "collapsed": false
   },
   "outputs": [],
   "source": [
    "glm_pred = cbind(Smarket, glm_pred)\n",
    "\n",
    "glm_pred %>% \n",
    "  count(pred, Direction) %>%\n",
    "  spread(Direction, n, fill = 0)\n",
    "\n",
    "glm_pred %>%\n",
    "  summarize(score = mean(pred == Direction))"
   ]
  },
  {
   "cell_type": "markdown",
   "metadata": {},
   "source": [
    "The diagonal elements of the confusion matrix indicate correct predictions,\n",
    "while the off-diagonals represent incorrect predictions. Hence our model\n",
    "correctly predicted that the market would go up on 507 days and that\n",
    "it would go down on 145 days, for a total of 507 + 145 = 652 correct\n",
    "predictions. The `mean()` function can be used to compute the fraction of\n",
    "days for which the prediction was correct. In this case, logistic regression\n",
    "correctly predicted the movement of the market 52.2% of the time.\n",
    "\n",
    "At first glance, it appears that the logistic regression model is working\n",
    "a little better than random guessing. But remember, this result is misleading\n",
    "because we trained and tested the model on the same set of 1,250 observations.\n",
    "In other words, 100− 52.2 = 47.8% is the **training error rate**. As we\n",
    "have seen previously, the training error rate is often overly optimistic — it\n",
    "tends to underestimate the _test_ error rate. \n",
    "\n",
    "In order to better assess the accuracy\n",
    "of the logistic regression model in this setting, we can fit the model\n",
    "using part of the data, and then examine how well it predicts the held out\n",
    "data. This will yield a more realistic error rate, in the sense that in practice\n",
    "we will be interested in our model’s performance not on the data that\n",
    "we used to fit the model, but rather on days in the future for which the\n",
    "market’s movements are unknown.\n",
    "\n",
    "Like we did with KNN, we will first create a vector corresponding\n",
    "to the observations from 2001 through 2004. We will then use this vector\n",
    "to create a held out data set of observations from 2005."
   ]
  },
  {
   "cell_type": "code",
   "execution_count": null,
   "metadata": {
    "collapsed": false
   },
   "outputs": [],
   "source": [
    "train = Smarket %>%\n",
    "  filter(Year < 2005)\n",
    "\n",
    "test = Smarket %>%\n",
    "  filter(Year >= 2005)"
   ]
  },
  {
   "cell_type": "markdown",
   "metadata": {},
   "source": [
    "We now fit a logistic regression model using only the subset of the observations\n",
    "that correspond to dates before 2005, using the subset argument.\n",
    "We then obtain predicted probabilities of the stock market going up for\n",
    "each of the days in our test set—that is, for the days in 2005."
   ]
  },
  {
   "cell_type": "code",
   "execution_count": null,
   "metadata": {
    "collapsed": true
   },
   "outputs": [],
   "source": [
    "glm_fit = glm(Direction~Lag1+Lag2+Lag3+Lag4+Lag5+Volume, \n",
    "              data = train, \n",
    "              family = binomial)\n",
    "\n",
    "glm_probs = data.frame(probs = predict(glm_fit, \n",
    "                                       newdata = test, \n",
    "                                       type=\"response\"))"
   ]
  },
  {
   "cell_type": "markdown",
   "metadata": {},
   "source": [
    "Notice that we have trained and tested our model on two completely separate\n",
    "data sets: training was performed using only the dates before 2005,\n",
    "and testing was performed using only the dates in 2005. Finally, we compute\n",
    "the predictions for 2005 and compare them to the actual movements\n",
    "of the market over that time period."
   ]
  },
  {
   "cell_type": "code",
   "execution_count": null,
   "metadata": {
    "collapsed": false
   },
   "outputs": [],
   "source": [
    "glm_pred = glm_probs %>%\n",
    "  mutate(pred = ifelse(probs>.5, \"Up\", \"Down\"))\n",
    "\n",
    "glm_pred = cbind(test, glm_pred)\n",
    "\n",
    "glm_pred %>% \n",
    "  count(pred, Direction) %>%\n",
    "  spread(Direction, n, fill = 0)\n",
    "\n",
    "glm_pred %>%\n",
    "  summarize(score = mean(pred == Direction),\n",
    "            recip = mean(pred != Direction))"
   ]
  },
  {
   "cell_type": "markdown",
   "metadata": {},
   "source": [
    "The $!=$ notation means **not equal to**, and so the last command computes\n",
    "the test set error rate. The results are rather disappointing: the test error\n",
    "rate is 52%, which is worse than random guessing! Of course this result\n",
    "is not all that surprising, given that one would not generally expect to be\n",
    "able to use previous days’ returns to predict future market performance.\n",
    "(After all, if it were possible to do so, then the authors of this book [along with your professor] would probably\n",
    "be out striking it rich rather than teaching statistics.)\n",
    "\n",
    "We recall that the logistic regression model had very underwhelming pvalues\n",
    "associated with all of the predictors, and that the smallest p-value,\n",
    "though not very small, corresponded to `Lag1`. Perhaps by removing the\n",
    "variables that appear not to be helpful in predicting `Direction`, we can\n",
    "obtain a more effective model. After all, using predictors that have no\n",
    "relationship with the response tends to cause a deterioration in the test\n",
    "error rate (since such predictors cause an increase in variance without a\n",
    "corresponding decrease in bias), and so removing such predictors may in\n",
    "turn yield an improvement. \n",
    "\n",
    "In the space below, refit a logistic regression using just `Lag1` and `Lag2`, which seemed to have the highest predictive power in the original logistic regression model."
   ]
  },
  {
   "cell_type": "code",
   "execution_count": null,
   "metadata": {
    "collapsed": false
   },
   "outputs": [],
   "source": [
    "glm_fit_lag1_lag2 = # Write your code to fit the new model here\n",
    "\n",
    "\n",
    "# -----------------------------------\n",
    "# This will test your new model; you\n",
    "# don't need to change anything below\n",
    "# -----------------------------------\n",
    "glm_probs = data.frame(probs = predict(glm_fit_lag1_lag2, \n",
    "                                       newdata = test, \n",
    "                                       type = \"response\"))\n",
    "\n",
    "glm_pred = glm_probs %>%\n",
    "  mutate(pred = ifelse(probs>.5, \"Up\", \"Down\"))\n",
    "\n",
    "glm_pred = cbind(test, glm_pred)\n",
    "\n",
    "glm_pred %>% \n",
    "  count(pred, Direction) %>%\n",
    "  spread(Direction, n, fill = 0)\n",
    "\n",
    "glm_pred %>%\n",
    "  summarize(score = mean(pred == Direction))"
   ]
  },
  {
   "cell_type": "markdown",
   "metadata": {},
   "source": [
    "Now the results appear to be more promising: 56% of the daily movements\n",
    "have been correctly predicted. The confusion matrix suggests that on days\n",
    "when logistic regression predicts that the market will decline, it is only\n",
    "correct 50% of the time. However, on days when it predicts an increase in\n",
    "the market, it has a 58% accuracy rate.\n",
    "\n",
    "Finally, suppose that we want to predict the returns associated with **particular\n",
    "values** of `Lag1` and `Lag2`. In particular, we want to predict Direction on a\n",
    "day when `Lag1` and `Lag2` equal 1.2 and 1.1, respectively, and on a day when\n",
    "they equal 1.5 and −0.8. We do this using the `predict()` function."
   ]
  },
  {
   "cell_type": "code",
   "execution_count": null,
   "metadata": {
    "collapsed": false
   },
   "outputs": [],
   "source": [
    "predict(glm_fit_lag1_lag2, \n",
    "        newdata = data.frame(Lag1 = c(1.2, 1.5), \n",
    "                             Lag2 = c(1.1, -0.8)), \n",
    "        type = \"response\")"
   ]
  },
  {
   "cell_type": "markdown",
   "metadata": {},
   "source": [
    "To get credit for this lab, play around with a few other values for `Lag1` and `Lag2`, and then post to [#lab4](https://sds293.slack.com/messages/C79BELETC) about what you found. If you're feeling adventurous, try fitting models with other subsets of variables to see if you can find a better one!"
   ]
  }
 ],
 "metadata": {
  "anaconda-cloud": {},
  "kernelspec": {
   "display_name": "R",
   "language": "R",
   "name": "ir"
  },
  "language_info": {
   "codemirror_mode": "r",
   "file_extension": ".r",
   "mimetype": "text/x-r-source",
   "name": "R",
   "pygments_lexer": "r",
   "version": "3.4.1"
  }
 },
 "nbformat": 4,
 "nbformat_minor": 0
}
