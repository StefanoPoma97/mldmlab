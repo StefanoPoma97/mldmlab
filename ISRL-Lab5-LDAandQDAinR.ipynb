{
 "cells": [
  {
   "cell_type": "markdown",
   "metadata": {},
   "source": [
    "This lab on Logistic Regression in R comes from p. 161-163 of \"Introduction to Statistical Learning with Applications in R\" by Gareth James, Daniela Witten, Trevor Hastie and Robert Tibshirani. It was re-implemented in Fall 2016 in tidyverse format by Amelia McNamara and R. Jordan Crouser at Smith College.\n"
   ]
  },
  {
   "cell_type": "markdown",
   "metadata": {},
   "source": [
    "# 4.6.3 Linear Discriminant Analysis"
   ]
  },
  {
   "cell_type": "markdown",
   "metadata": {},
   "source": [
    "Now we will perform LDA on the `Smarket` data from the `ISLR` package. In `R`, we can fit a LDA model using the `lda()` function, which is part of the `MASS` library. Note: `dplyr` and `MASS` have a name clash around the word `select()`, so we need to do a little magic to make them play nicely."
   ]
  },
  {
   "cell_type": "code",
   "execution_count": null,
   "metadata": {
    "collapsed": false
   },
   "outputs": [],
   "source": [
    "library(MASS)\n",
    "library(dplyr)\n",
    "library(ISLR)\n",
    "select <- dplyr::select"
   ]
  },
  {
   "cell_type": "markdown",
   "metadata": {},
   "source": [
    "The syntax for the `lda()` function is identical to that of `lm()`, and to that of\n",
    "`glm()` except for the absence of the `family` option. As we did with logistic regression and KNN, we'll fit the model using only the observations before 2005, and then test the model on the data from 2005."
   ]
  },
  {
   "cell_type": "code",
   "execution_count": null,
   "metadata": {
    "collapsed": false
   },
   "outputs": [],
   "source": [
    "train = Smarket %>%\n",
    "  filter(Year < 2005)\n",
    "\n",
    "test = Smarket %>%\n",
    "  filter(Year >= 2005)\n",
    "\n",
    "model_LDA = lda(Direction~Lag1+Lag2, data = train)\n",
    "print(model_LDA)"
   ]
  },
  {
   "cell_type": "markdown",
   "metadata": {},
   "source": [
    "The LDA output indicates prior probabilities of ${\\hat{\\pi}}_1 = 0.492$ and ${\\hat{\\pi}}_2 = 0.508$; in other words,\n",
    "49.2% of the training observations correspond to days during which the\n",
    "market went down.\n",
    "\n",
    "The function also provides the group means; these are the average\n",
    "of each predictor within each class, and are used by LDA as estimates\n",
    "of $\\mu_k$. These suggest that there is a tendency for the previous 2 days’\n",
    "returns to be negative on days when the market increases, and a tendency\n",
    "for the previous days’ returns to be positive on days when the market\n",
    "declines. \n",
    "\n",
    "The coefficients of linear discriminants output provides the linear\n",
    "combination of `Lag1` and `Lag2` that are used to form the LDA decision rule.\n",
    "\n",
    "If $−0.642\\times{\\tt Lag1}−0.514\\times{\\tt Lag2}$ is large, then the LDA classifier will\n",
    "predict a market increase, and if it is small, then the LDA classifier will\n",
    "predict a market decline. \n",
    "\n",
    "We can use the `plot()` function to produce plots of the linear\n",
    "discriminants, obtained by computing $−0.642\\times{\\tt Lag1}−0.514\\times{\\tt Lag2}$ for\n",
    "each of the training observations."
   ]
  },
  {
   "cell_type": "code",
   "execution_count": null,
   "metadata": {
    "collapsed": false
   },
   "outputs": [],
   "source": [
    "plot(model_LDA)"
   ]
  },
  {
   "cell_type": "markdown",
   "metadata": {},
   "source": [
    "The `predict()` function returns a list with three elements. The first element,\n",
    "`class`, contains LDA’s predictions about the movement of the market.\n",
    "The second element, `posterior`, is a matrix whose $k^{th}$ column contains the\n",
    "posterior probability that the corresponding observation belongs to the $k^{th}$\n",
    "class. Finally, `x` contains the linear discriminants,\n",
    "described earlier."
   ]
  },
  {
   "cell_type": "code",
   "execution_count": null,
   "metadata": {
    "collapsed": false
   },
   "outputs": [],
   "source": [
    "predictions_LDA = data.frame(predict(model_LDA, test))\n",
    "names(predictions_LDA)"
   ]
  },
  {
   "cell_type": "markdown",
   "metadata": {},
   "source": [
    "Let's check out the confusion matrix to see how this model is doing. We'll want to compare the **predicted class** (which we can find in the `class` column of the `predictions_LDA` data frame) to the true class."
   ]
  },
  {
   "cell_type": "code",
   "execution_count": null,
   "metadata": {
    "collapsed": false
   },
   "outputs": [],
   "source": [
    "predictions_LDA_2 = cbind(test, predictions_LDA)\n",
    "\n",
    "predictions_LDA_2 %>%\n",
    "  count(class, Direction)\n",
    "\n",
    "predictions_LDA_2 %>%\n",
    "  summarize(score = mean(class == Direction))"
   ]
  },
  {
   "cell_type": "markdown",
   "metadata": {},
   "source": [
    "The LDA predictions are identical to the ones from our logistic model:"
   ]
  },
  {
   "cell_type": "code",
   "execution_count": null,
   "metadata": {
    "collapsed": false
   },
   "outputs": [],
   "source": [
    "# Logistic model, for comparison\n",
    "model_logistic = glm(Direction~Lag1+Lag2, data=train ,family=binomial)\n",
    "\n",
    "logistic_probs = data.frame(probs = predict(model_logistic, test, type=\"response\"))\n",
    "\n",
    "predictions_logistic = logistic_probs %>%\n",
    "  mutate(class = ifelse(probs>.5, \"Up\", \"Down\"))\n",
    "\n",
    "predictions_logistic = cbind(test, predictions_logistic)\n",
    "\n",
    "predictions_logistic %>%\n",
    "  count(class, Direction)\n",
    "\n",
    "predictions_logistic %>%\n",
    "  summarize(score = mean(class == Direction))"
   ]
  },
  {
   "cell_type": "markdown",
   "metadata": {},
   "source": [
    "# 4.6.4 Quadratic Discriminant Analysis\n",
    "We will now fit a QDA model to the `Smarket` data. QDA is implemented\n",
    "in `R` using the `qda()` function, which is also part of the `MASS` library. The\n",
    "syntax is identical to that of `lda()`."
   ]
  },
  {
   "cell_type": "code",
   "execution_count": null,
   "metadata": {
    "collapsed": false
   },
   "outputs": [],
   "source": [
    "model_QDA = qda(Direction~Lag1+Lag2, data = train)\n",
    "model_QDA"
   ]
  },
  {
   "cell_type": "markdown",
   "metadata": {},
   "source": [
    "The output contains the group means. But it does not contain the coefficients\n",
    "of the linear discriminants, because the QDA classifier involves a\n",
    "_quadratic_, rather than a linear, function of the predictors. The `predict()`\n",
    "function works in exactly the same fashion as for LDA."
   ]
  },
  {
   "cell_type": "code",
   "execution_count": null,
   "metadata": {
    "collapsed": false
   },
   "outputs": [],
   "source": [
    "predictions_QDA = data.frame(predict(model_QDA, test))\n",
    "\n",
    "predictions_QDA = cbind(test, predictions_QDA)\n",
    "\n",
    "predictions_QDA %>%\n",
    "  count(class, Direction)\n",
    "\n",
    "predictions_QDA %>%\n",
    "  summarize(score = mean(class == Direction))"
   ]
  },
  {
   "cell_type": "markdown",
   "metadata": {},
   "source": [
    "Interestingly, the QDA predictions are accurate almost 60% of the time,\n",
    "even though the 2005 data was not used to fit the model. This level of accuracy\n",
    "is quite impressive for stock market data, which is known to be quite\n",
    "hard to model accurately. \n",
    "\n",
    "This suggests that the quadratic form assumed\n",
    "by QDA may capture the true relationship more accurately than the linear\n",
    "forms assumed by LDA and logistic regression. However, we recommend\n",
    "evaluating this method’s performance on a larger test set before betting\n",
    "that this approach will consistently beat the market!"
   ]
  },
  {
   "cell_type": "markdown",
   "metadata": {},
   "source": [
    "# An Application to Carseats Data\n",
    "Let's see how the `LDA/QDA` approach performs on the `Carseats` data set, which is\n",
    "part of the `ISLR` library. \n",
    "\n",
    "Recall: this is a simulated data set containing sales of child car seats at 400 different stores."
   ]
  },
  {
   "cell_type": "code",
   "execution_count": null,
   "metadata": {
    "collapsed": false
   },
   "outputs": [],
   "source": [
    "summary(Carseats)"
   ]
  },
  {
   "cell_type": "markdown",
   "metadata": {},
   "source": [
    "See if you can build a model that predicts `ShelveLoc`, the shelf location (Bad, Good, or Medium) of the product at each store. Don't forget to hold out some of the data for testing!"
   ]
  },
  {
   "cell_type": "code",
   "execution_count": null,
   "metadata": {
    "collapsed": false
   },
   "outputs": [],
   "source": [
    "# Your code here"
   ]
  },
  {
   "cell_type": "markdown",
   "metadata": {},
   "source": [
    "To get credit for this lab, please post your answers to the prompt in [#lab5](https://sds293.slack.com/messages/C7CR96LJ3)."
   ]
  }
 ],
 "metadata": {
  "anaconda-cloud": {},
  "kernelspec": {
   "display_name": "R",
   "language": "R",
   "name": "ir"
  },
  "language_info": {
   "codemirror_mode": "r",
   "file_extension": ".r",
   "mimetype": "text/x-r-source",
   "name": "R",
   "pygments_lexer": "r",
   "version": "3.4.1"
  }
 },
 "nbformat": 4,
 "nbformat_minor": 0
}
