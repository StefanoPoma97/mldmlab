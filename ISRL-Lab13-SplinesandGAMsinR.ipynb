{
 "cells": [
  {
   "cell_type": "markdown",
   "metadata": {},
   "source": [
    "This lab on Splines and GAMs in R comes from p. 293-297 of \"Introduction to Statistical Learning with Applications in R\" by Gareth James, Daniela Witten, Trevor Hastie and Robert Tibshirani. It was re-implemented in Fall 2016 in `tidyverse` format by Amelia McNamara and R. Jordan Crouser at Smith College."
   ]
  },
  {
   "cell_type": "code",
   "execution_count": null,
   "metadata": {
    "collapsed": false
   },
   "outputs": [],
   "source": [
    "library(ISLR)\n",
    "library(dplyr)\n",
    "library(ggplot2)"
   ]
  },
  {
   "cell_type": "markdown",
   "metadata": {},
   "source": [
    "# 7.8.2 Splines\n",
    "\n",
    "In order to fit regression splines in R, we use the `splines` library. In lecture, we saw that regression splines can be fit by constructing an appropriate matrix of basis functions. The `bs()` function generates the entire matrix of basis functions for splines with the specified set of knots. By default, cubic\n",
    "splines are produced. Fitting `wage` to `age` using a regression spline is simple:"
   ]
  },
  {
   "cell_type": "code",
   "execution_count": null,
   "metadata": {
    "collapsed": false
   },
   "outputs": [],
   "source": [
    "library(splines)\n",
    "\n",
    "# Get min/max values of age using the range() function\n",
    "agelims = Wage %>%\n",
    "    select(age) %>%\n",
    "    range\n",
    "\n",
    "# Generate a sequence of age values spanning the range\n",
    "age_grid = seq(from = min(agelims), to = max(agelims))\n",
    "\n",
    "# Fit a regression spline using basis functions\n",
    "fit = lm(wage~bs(age, knots = c(25,40,60)), data = Wage)\n",
    "\n",
    "# Predict the value of the generated ages, \n",
    "# returning the standard error using se = TRUE\n",
    "pred = predict(fit, newdata = list(age = age_grid), se = TRUE)\n",
    "\n",
    "# Compute error bands (2*SE)\n",
    "se_bands = with(pred, cbind(\"upper\" = fit+2*se.fit, \n",
    "                            \"lower\" = fit-2*se.fit))\n",
    "\n",
    "# Plot the spline and error bands\n",
    "ggplot() +\n",
    "  geom_point(data = Wage, aes(x = age, y = wage)) +\n",
    "  geom_line(aes(x = age_grid, y = pred$fit), color = \"#0000FF\") + \n",
    "  geom_ribbon(aes(x = age_grid, \n",
    "                  ymin = se_bands[,\"lower\"], \n",
    "                  ymax = se_bands[,\"upper\"]), \n",
    "              alpha = 0.3) +\n",
    "  xlim(agelims)"
   ]
  },
  {
   "cell_type": "markdown",
   "metadata": {},
   "source": [
    "Here we have prespecified knots at ages 25, 40, and 60. This produces a\n",
    "spline with six basis functions. (Recall that a cubic spline with three knots\n",
    "has seven degrees of freedom; these degrees of freedom are used up by an\n",
    "intercept, plus six basis functions.) We could also use the `df` option to\n",
    "produce a spline with knots at uniform quantiles of the data:"
   ]
  },
  {
   "cell_type": "code",
   "execution_count": null,
   "metadata": {
    "collapsed": false
   },
   "outputs": [],
   "source": [
    "# Specifying knots directly: 6 basis functions\n",
    "with(Wage, dim(bs(age, knots = c(25,40,60))))\n",
    "\n",
    "# Specify desired degrees of freedom, select knots automatically: \n",
    "# still 6 basis functions\n",
    "with(Wage, dim(bs(age, df = 6)))\n",
    "\n",
    "# Show me where the knots were placed\n",
    "with(Wage, attr(bs(age, df = 6),\"knots\"))"
   ]
  },
  {
   "cell_type": "markdown",
   "metadata": {},
   "source": [
    "In this case R chooses knots at ages 33.8, 42.0, and 51.0, which correspond\n",
    "to the 25th, 50th, and 75th percentiles of age. The function `bs()` also has\n",
    "a `degree` argument, so we can fit splines of any degree, rather than the\n",
    "default degree of 3 (which yields a cubic spline).\n",
    "\n",
    "In order to instead fit a natural spline, we use the `ns()` function. Here\n",
    "we fit a natural spline with four degrees of freedom:"
   ]
  },
  {
   "cell_type": "code",
   "execution_count": null,
   "metadata": {
    "collapsed": false
   },
   "outputs": [],
   "source": [
    "fit2 = lm(wage~ns(age, df = 4), data = Wage)\n",
    "pred2 = predict(fit2, newdata = list(age = age_grid), se = TRUE)\n",
    "\n",
    "# Compute error bands (2*SE)\n",
    "se_bands2 = with(pred, cbind(\"upper\" = fit+2*se.fit, \n",
    "                            \"lower\" = fit-2*se.fit))\n",
    "\n",
    "# Plot the natural spline and error bands\n",
    "ggplot() +\n",
    "  geom_point(data = Wage, aes(x = age, y = wage)) +\n",
    "  geom_line(aes(x = age_grid, y = pred2$fit), color = \"#0000FF\") + \n",
    "  geom_ribbon(aes(x = age_grid, \n",
    "                  ymin = se_bands2[,\"lower\"], \n",
    "                  ymax = se_bands2[,\"upper\"]), \n",
    "              alpha = 0.3) +\n",
    "  xlim(agelims)"
   ]
  },
  {
   "cell_type": "markdown",
   "metadata": {},
   "source": [
    "As with the `bs()` function, we could instead specify the knots directly using\n",
    "the `knots` option.\n",
    "\n",
    "In order to fit a smoothing spline, we use the `smooth.spline()` function. Here we'll reproduce the plot we saw in lecture showing a 16-degree and LOOCV smoothing spline on the `Wage` data:"
   ]
  },
  {
   "cell_type": "code",
   "execution_count": null,
   "metadata": {
    "collapsed": false
   },
   "outputs": [],
   "source": [
    "# Fit 2 smoothing splines\n",
    "fit_smooth = with(Wage, smooth.spline(age, wage, df = 16))\n",
    "fit_smooth_cv = with(Wage, smooth.spline(age, wage, cv = TRUE))\n",
    "\n",
    "# Plot the smoothing splines\n",
    "ggplot() +\n",
    "  geom_point(data = Wage, aes(x = age, y = wage)) +\n",
    "  geom_line(aes(x = fit_smooth$x, y = fit_smooth$y, \n",
    "                color = \"16 degrees of freedom\"))  +\n",
    "  geom_line(aes(x = fit_smooth_cv$x, y = fit_smooth_cv$y, \n",
    "                color = \"6.8 effective degrees of freedom\")) +\n",
    "  theme(legend.position = 'bottom')+ \n",
    "  labs(title = \"Smoothing Splines\", colour=\"\")"
   ]
  },
  {
   "cell_type": "markdown",
   "metadata": {},
   "source": [
    "Notice that in the first call to `smooth.spline()`, we specified `df=16`. The\n",
    "function then determines which value of $\\lambda$ leads to 16 degrees of freedom. In\n",
    "the second call to `smooth.spline()`, we select the smoothness level by cross-validation;\n",
    "this results in a value of $\\lambda$ that yields 6.8 degrees of freedom.\n",
    "\n",
    "# 7.8.3 GAMs\n",
    "We now fit a really simple GAM to predict wage using natural spline functions of `year`\n",
    "and `age`, treating `education` as a qualitative predictor. Since\n",
    "this is just a big linear regression model using an appropriate choice of\n",
    "basis functions, we can simply do this using the `lm()` function:"
   ]
  },
  {
   "cell_type": "code",
   "execution_count": null,
   "metadata": {
    "collapsed": true
   },
   "outputs": [],
   "source": [
    "gam1 = lm(wage ~ ns(year, 4) + ns(age, 5) + education, data = Wage)"
   ]
  },
  {
   "cell_type": "markdown",
   "metadata": {},
   "source": [
    "What if we want to fit the model using smoothing splines rather than natural\n",
    "splines? In order to fit more general sorts of GAMs, using smoothing splines\n",
    "or other components that cannot be expressed in terms of basis functions\n",
    "and then fit using least squares regression, we will need to use the `gam`\n",
    "library in R. The `s()` function, which is part of the `gam` library, is used to indicate that\n",
    "we would like to use a smoothing spline. We'll specify that the function of\n",
    "`year` should have 4 degrees of freedom, and that the function of `age` will\n",
    "have 5 degrees of freedom. Since `education` is qualitative, we leave it as is,\n",
    "and it is converted into four dummy variables.\n",
    "\n",
    "We can use the `gam()` function in order to fit a GAM using these components. All of the terms are\n",
    "fit simultaneously, taking each other into account to explain the response:"
   ]
  },
  {
   "cell_type": "code",
   "execution_count": null,
   "metadata": {
    "collapsed": false
   },
   "outputs": [],
   "source": [
    "library(gam)\n",
    "gam2 = gam(wage ~ s(year, 4) + s(age, 5) + education, data = Wage)\n",
    "par(mfrow = c(1,3))\n",
    "plot(gam2, se = TRUE, col = \"blue\")"
   ]
  },
  {
   "cell_type": "markdown",
   "metadata": {},
   "source": [
    "The generic `plot()` function recognizes that gam2 is an object of class gam,\n",
    "and invokes the appropriate `plot.gam()` method. Conveniently, even though our simple\n",
    "`gam1` is not of class `gam` but rather of class `lm`, we can still use `plot.gam()`\n",
    "on it:"
   ]
  },
  {
   "cell_type": "code",
   "execution_count": null,
   "metadata": {
    "collapsed": false
   },
   "outputs": [],
   "source": [
    "par(mfrow = c(1,3))\n",
    "plot.gam(gam1, se = TRUE, col = \"red\")"
   ]
  },
  {
   "cell_type": "markdown",
   "metadata": {},
   "source": [
    "Notice here we had to use `plot.gam()` rather than the generic `plot()`\n",
    "function.\n",
    "\n",
    "In these plots, the function of `year` looks rather linear. We can perform a\n",
    "series of ANOVA tests in order to determine which of these three models is\n",
    "best: a GAM that excludes `year` ($M_1$), a GAM that uses a linear function\n",
    "of `year` ($M_2$), or a GAM that uses a spline function of `year` ($M_3$):"
   ]
  },
  {
   "cell_type": "code",
   "execution_count": null,
   "metadata": {
    "collapsed": false
   },
   "outputs": [],
   "source": [
    "gam_no_year = gam(wage ~ s(age, 5) + education, data = Wage)\n",
    "gam_linear_year = gam(wage ~ year + s(age, 5) + education, data = Wage)\n",
    "print(anova(gam_no_year, gam_linear_year, gam2, test = \"F\"))"
   ]
  },
  {
   "cell_type": "markdown",
   "metadata": {},
   "source": [
    "We find that there is compelling evidence that a GAM with a linear function\n",
    "of `year` is better than a GAM that does not include `year` at all\n",
    "($p$-value=0.00014). However, there is no evidence that a non-linear function\n",
    "of `year` is helpful ($p$-value=0.349). In other words, based on the results\n",
    "of this ANOVA, $M_2$ is preferred.\n",
    "\n",
    "The `summary()` function produces a summary of the GAM fit:"
   ]
  },
  {
   "cell_type": "code",
   "execution_count": null,
   "metadata": {
    "collapsed": false
   },
   "outputs": [],
   "source": [
    "summary(gam2)"
   ]
  },
  {
   "cell_type": "markdown",
   "metadata": {},
   "source": [
    "The $p$-values for `year` and `age` correspond to a null hypothesis of a linear\n",
    "relationship versus the alternative of a non-linear relationship. The large\n",
    "$p$-value for `year` reinforces our conclusion from the ANOVA test that a linear\n",
    "function is adequate for this term. However, there is very clear evidence\n",
    "that a non-linear term is required for `age`.\n",
    "\n",
    "We can make predictions from `gam` objects, just like from `lm` objects,\n",
    "using the `predict()` method for the class `gam`. Here we make predictions on\n",
    "the training set:"
   ]
  },
  {
   "cell_type": "code",
   "execution_count": null,
   "metadata": {
    "collapsed": true
   },
   "outputs": [],
   "source": [
    "preds = predict(gam_linear_year, newdata = Wage)"
   ]
  },
  {
   "cell_type": "markdown",
   "metadata": {},
   "source": [
    "# Logistic Regression GAMs\n",
    "In order to fit a logistic regression GAM, we once again use the `I()` function\n",
    "in constructing the binary response variable, and set `family=binomial`:"
   ]
  },
  {
   "cell_type": "code",
   "execution_count": null,
   "metadata": {
    "collapsed": false
   },
   "outputs": [],
   "source": [
    "gam_logistic = gam(I(wage>250) ~ year + s(age, df = 5) + education, \n",
    "                   family = binomial, data = Wage)\n",
    "par(mfrow=c(1,3))\n",
    "plot(gam_logistic, se = TRUE, col = \"green\")"
   ]
  },
  {
   "cell_type": "markdown",
   "metadata": {},
   "source": [
    "It is easy to see that there are no high earners in the `<HS` category:"
   ]
  },
  {
   "cell_type": "code",
   "execution_count": null,
   "metadata": {
    "collapsed": false
   },
   "outputs": [],
   "source": [
    "with(Wage, table(education, I(wage>250)))"
   ]
  },
  {
   "cell_type": "markdown",
   "metadata": {},
   "source": [
    "Hence, we fit a logistic regression GAM using all but this category. This\n",
    "provides more sensible results:"
   ]
  },
  {
   "cell_type": "code",
   "execution_count": null,
   "metadata": {
    "collapsed": false
   },
   "outputs": [],
   "source": [
    "college_educated = Wage %>%\n",
    "  filter(education != \"1. < HS Grad\")\n",
    "\n",
    "gam_logistic_subset = gam(I(wage>250) ~ year + s(age, df = 5) + education, \n",
    "                          family = binomial, data = college_educated)\n",
    "par(mfrow=c(1,3))\n",
    "plot(gam_logistic_subset, se = TRUE, col = \"green\")"
   ]
  },
  {
   "cell_type": "markdown",
   "metadata": {},
   "source": [
    "To get credit for this lab, post your answer to thew following question:\n",
    "\n",
    "* How would you choose whether to use a polynomial, step, or spline function for each predictor when building a GAM?\n",
    "\n",
    "to Moodle: https://moodle.smith.edu/mod/quiz/view.php?id=262963"
   ]
  }
 ],
 "metadata": {
  "kernelspec": {
   "display_name": "R",
   "language": "R",
   "name": "ir"
  },
  "language_info": {
   "codemirror_mode": "r",
   "file_extension": ".r",
   "mimetype": "text/x-r-source",
   "name": "R",
   "pygments_lexer": "r",
   "version": "3.3.2"
  }
 },
 "nbformat": 4,
 "nbformat_minor": 2
}
